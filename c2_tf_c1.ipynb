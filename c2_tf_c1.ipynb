{
 "cells": [
  {
   "cell_type": "code",
   "execution_count": null,
   "metadata": {},
   "outputs": [],
   "source": [
    "!pip install shortuuid"
   ]
  },
  {
   "cell_type": "code",
   "execution_count": 19,
   "metadata": {
    "pycharm": {
     "is_executing": false
    },
    "scrolled": true
   },
   "outputs": [],
   "source": [
    "import copy\n",
    "import csv\n",
    "import cv2\n",
    "import glob\n",
    "import os\n",
    "import re\n",
    "import shutil\n",
    "import time\n",
    "from collections import Counter\n",
    "from datetime import timedelta\n",
    "import shortuuid\n",
    "\n",
    "from IPython.display import display\n",
    "import matplotlib.pyplot as plt\n",
    "import numpy as np\n",
    "import pandas as pd\n",
    "from PIL import Image\n",
    "from scipy import stats\n",
    "from sklearn.model_selection import train_test_split\n",
    "from sklearn.utils import class_weight\n",
    "\n",
    "import pathlib\n",
    "import tensorflow as tf\n",
    "import tensorflow_docs as tfdocs\n",
    "import tensorflow_docs.plots\n",
    "\n",
    "from keras import backend as K\n",
    "from sklearn.model_selection import train_test_split\n",
    "from sklearn.utils import class_weight\n",
    "from tensorflow.keras.preprocessing.image import ImageDataGenerator\n",
    "\n",
    "np.set_printoptions(precision=4)\n",
    "\n",
    "# Get reproducible results\n",
    "random_state = 46\n",
    "np.random.seed(random_state)\n",
    "tf.random.set_seed(random_state)\n",
    "\n",
    "\n",
    "def ann_file(data_dir):\n",
    "    return os.path.join(data_dir, \"TrainAnnotations.csv\")\n",
    "\n",
    "\n",
    "TRAIN_DATA_DIR = \"data/TrainData-C1\"\n",
    "TRAIN_DATA_ANN_FILE = ann_file(TRAIN_DATA_DIR)\n",
    "\n",
    "TRAIN_SPLIT_DATA_DIR           = \"data-c1/train/split\"\n",
    "TRAIN_SPLIT_ANN_FILE           = ann_file(TRAIN_SPLIT_DATA_DIR)\n",
    "TRAIN_SPLIT_AUGMENTED_DATA_DIR = \"data-c1/train/augmented\"\n",
    "TRAIN_SPLIT_AUGMENTED_ANN_FILE = ann_file(TRAIN_SPLIT_AUGMENTED_DATA_DIR)\n",
    "TRAIN_SPLIT_PATCHES_DATA_DIR   = \"data-c1/train/patches\"\n",
    "TRAIN_SPLIT_PATCHES_ANN_FILE   = ann_file(TRAIN_SPLIT_PATCHES_DATA_DIR)\n",
    "\n",
    "TRAIN_ALL_AUGMENTED_DATA_DIR   = \"data-c1/train-all/augmented\"\n",
    "TRAIN_ALL_AUGMENTED_ANN_FILE   = ann_file(TRAIN_ALL_AUGMENTED_DATA_DIR)\n",
    "TRAIN_ALL_PATCHES_DATA_DIR     = \"data-c1/train-all/patches\"\n",
    "TRAIN_ALL_PATCHES_ANN_FILE     = ann_file(TRAIN_ALL_PATCHES_DATA_DIR)\n",
    "\n",
    "VAL_SPLIT_DATA_DIR         = \"data-c1/val/split\"\n",
    "VAL_SPLIT_ANN_FILE         = ann_file(VAL_SPLIT_DATA_DIR)\n",
    "VAL_SPLIT_PATCHES_DATA_DIR = \"data-c1/val/patches\"\n",
    "VAL_SPLIT_PATCHES_ANN_FILE = ann_file(VAL_SPLIT_PATCHES_DATA_DIR)\n",
    "\n",
    "TEST_DATA_DIR         = \"data/TestData/\"\n",
    "\n",
    "TEST_PATCHES_DATA_DIR = \"data/test/\"\n",
    "#TEST_PATCHES_DATA_DIR = \"data/test/patches\"\n"
   ]
  },
  {
   "cell_type": "markdown",
   "metadata": {},
   "source": [
    "## GPU configuration\n",
    "If you have a GPU, enable experimental memory growth."
   ]
  },
  {
   "cell_type": "code",
   "execution_count": 2,
   "metadata": {
    "pycharm": {
     "is_executing": false
    }
   },
   "outputs": [
    {
     "name": "stdout",
     "output_type": "stream",
     "text": [
      "1 Physical GPUs, 1 Logical GPUs\n"
     ]
    }
   ],
   "source": [
    "gpus = tf.config.experimental.list_physical_devices('GPU')\n",
    "if gpus:\n",
    "    try:\n",
    "        for gpu in gpus:\n",
    "            tf.config.experimental.set_memory_growth(gpu, True)\n",
    "            logical_gpus = tf.config.experimental.list_logical_devices('GPU')\n",
    "            print(len(gpus), \"Physical GPUs,\", len(logical_gpus), \"Logical GPUs\")\n",
    "    except RuntimeError as e:\n",
    "        print(e)"
   ]
  },
  {
   "cell_type": "markdown",
   "metadata": {},
   "source": [
    "## Split data\n",
    "Generate random, stratified 80/20 split for training and validation sets"
   ]
  },
  {
   "cell_type": "code",
   "execution_count": 3,
   "metadata": {},
   "outputs": [
    {
     "name": "stdout",
     "output_type": "stream",
     "text": [
      "Data directories for splits already exist. Skipping\n"
     ]
    }
   ],
   "source": [
    "if (os.path.exists(TRAIN_SPLIT_DATA_DIR) or os.path.exists(VAL_SPLIT_DATA_DIR)):\n",
    "    print(\"Data directories for splits already exist. Skipping\")\n",
    "else:\n",
    "    # Generate 80/20 split\n",
    "\n",
    "    print(\"Reading {} annotations...\".format(TRAIN_DATA_ANN_FILE))\n",
    "    ann_df = pd.read_csv(TRAIN_DATA_ANN_FILE, dtype={'file_name': 'object', 'annotation': 'category'})\n",
    "\n",
    "    print(\"Splitting data into training and validation sets...\")\n",
    "    train_df, val_df = train_test_split(ann_df,\n",
    "                                        train_size=0.80,\n",
    "                                        random_state=138,\n",
    "                                        shuffle=True,\n",
    "                                        stratify=ann_df[['annotation']].to_numpy(dtype=np.int32).flatten())\n",
    "\n",
    "    os.makedirs(TRAIN_SPLIT_DATA_DIR)\n",
    "    os.makedirs(VAL_SPLIT_DATA_DIR)\n",
    "    \n",
    "    print(\"Copying files for training split...\")\n",
    "    for _, row in train_df.iterrows():\n",
    "        filename = row['file_name']\n",
    "        src = os.path.join(TRAIN_DATA_DIR, filename)\n",
    "        dest = os.path.join(TRAIN_SPLIT_DATA_DIR, filename)\n",
    "        shutil.copyfile(src, dest)\n",
    "        \n",
    "    print(\"Generating training split annotations...\")\n",
    "    train_df.sort_values('file_name').to_csv(TRAIN_SPLIT_ANN_FILE, index=False)\n",
    "        \n",
    "    print(\"Copying files for validation split...\")\n",
    "    for _, row in val_df.iterrows():\n",
    "        filename = row['file_name']\n",
    "        src = os.path.join(TRAIN_DATA_DIR, filename)\n",
    "        dest = os.path.join(VAL_SPLIT_DATA_DIR, filename)\n",
    "        shutil.copyfile(src, dest)\n",
    "        \n",
    "    print(\"Generating validation split annotations...\")\n",
    "    val_df.sort_values('file_name').to_csv(VAL_SPLIT_ANN_FILE, index=False)\n",
    "        \n",
    "    print(\"Done.\")"
   ]
  },
  {
   "cell_type": "markdown",
   "metadata": {},
   "source": [
    "## Augment data\n",
    "Because the training dataset is unbalanced, augment the training data set by generating\n",
    "new images for the lower numbered samples."
   ]
  },
  {
   "cell_type": "markdown",
   "metadata": {},
   "source": [
    "\n"
   ]
  },
  {
   "cell_type": "code",
   "execution_count": 4,
   "metadata": {
    "pycharm": {
     "is_executing": false,
     "name": "#%%\n"
    }
   },
   "outputs": [],
   "source": [
    "DESIRED_CLASS_SAMPLE_COUNT = 400\n",
    "RANDOM_STATE = 13\n",
    "\n",
    "IMG_EXTENSIONS = ('.jpg', '.jpeg', '.png', '.ppm', '.bmp', '.pgm', '.tif', '.tiff', '.webp')\n",
    "PATCH_ROWS = 5\n",
    "PATCH_COLUMNS = 5\n",
    "\n",
    "\n",
    "def is_image_file(filename):\n",
    "    return filename.endswith(IMG_EXTENSIONS)\n",
    "\n",
    "\n",
    "def augment_data(src_dir, src_ann_file, dest_dir, dest_ann_file, class_sample_count=500):\n",
    "    os.makedirs(dest_dir)\n",
    "\n",
    "    ann_df = pd.read_csv(src_ann_file, dtype={'file_name': 'object', 'annotation': 'category'}) \n",
    "    new_samples = {}\n",
    "    \n",
    "    for i in range(5):\n",
    "        class_df = ann_df.query(\"annotation == '{}'\".format(i))\n",
    "        num_class_samples = class_df.shape[0]\n",
    "        num_to_create = class_sample_count - num_class_samples\n",
    "            \n",
    "        print(\"Creating {} images for class {}\".format(num_to_create, i))\n",
    "        samples = class_df.sample(n=num_to_create, replace=True, random_state=RANDOM_STATE)\n",
    "    \n",
    "        for idx, row in samples.iterrows():\n",
    "            new_filename = row['file_name'].split('.')[0] + \"_\" + shortuuid.uuid() + \".png\"\n",
    "    \n",
    "            # Apply transformations to each randomly selected sample\n",
    "            img = Image.open(src_dir + \"/\" + row['file_name'])\n",
    "            image_transforms = transforms.Compose([\n",
    "                #transforms.RandomAffine(degrees=20, translate=(0.2, 0.2)),\n",
    "                #transforms.ColorJitter(brightness=0.1, contrast=0.1, saturation=0.1, hue=0.1),\n",
    "                #transforms.RandomResizedCrop((480, 640), scale=(1.0, 1.2)),\n",
    "                \n",
    "                transforms.RandomRotation((90,90), expand=True),\n",
    "                transforms.RandomVerticalFlip(),\n",
    "                transforms.RandomHorizontalFlip()\n",
    "            ])\n",
    "            transformed_img = image_transforms(img)\n",
    "            transformed_img.save(os.path.join(dest_dir, new_filename))\n",
    "    \n",
    "            new_samples[new_filename] = row['annotation']\n",
    "    \n",
    "    # Add to new dataframe\n",
    "    balanced_df = pd.read_csv(src_ann_file, dtype={'file_name': 'object', 'annotation': 'category'})\n",
    "    balanced_df = balanced_df.append(pd.DataFrame.from_records([(k, v) for k, v in new_samples.items()],\n",
    "                                                 columns=['file_name', 'annotation']))\n",
    "    \n",
    "    # Write new annotations\n",
    "    balanced_df.sort_values('file_name').to_csv(dest_ann_file, index=False)\n",
    "    \n",
    "    # Copy images from training data split\n",
    "    for file in glob.glob(src_dir + \"/*\"):\n",
    "        if is_image_file(file):\n",
    "            shutil.copy(file, os.path.join(dest_dir, os.path.basename(file)))\n",
    "\n",
    "\n",
    "def generate_image_patches(img, rows, cols):\n",
    "    \"\"\"\n",
    "    Generates a list of in-memory image overlapping patches\n",
    "    \n",
    "    Args:\n",
    "        rows - number of rows of patchs to cover the height of the image\n",
    "        cols - number of colums of patches to cover the width of the image\n",
    "    \"\"\"\n",
    "    patches = []\n",
    "    sizeX = img.shape[1]\n",
    "    sizeY = img.shape[0]\n",
    "    \n",
    "    patch_sizeX = 224\n",
    "    patch_sizeY = 224\n",
    "    patch_relative_centerX = 112\n",
    "    patch_relative_centerY = 112\n",
    "\n",
    "    for i in range(0,rows):\n",
    "        for j in range(0, cols):\n",
    "            center = (patch_relative_centerX + (sizeX - patch_sizeX)/(rows - 1)*i, \n",
    "                      patch_relative_centerY + (sizeY - patch_sizeY)/(cols - 1)*j)\n",
    "            patches.append(cv2.getRectSubPix(img, (patch_sizeX, patch_sizeY), center))\n",
    "            \n",
    "    return patches\n",
    "\n",
    "\n",
    "def generate_patch_files(in_dir, out_dir, rows, cols):\n",
    "    if not os.path.exists(out_dir):\n",
    "        os.makedirs(out_dir)\n",
    "\n",
    "    images = [f for f in os.listdir(in_dir) if os.path.isfile(os.path.join(in_dir, f)) and is_image_file(f)]   \n",
    "    for im in images:\n",
    "        img = cv2.imread(os.path.join(in_dir, im))\n",
    "        patches = generate_image_patches(img, rows, cols)\n",
    "        \n",
    "        for i in range(0,rows):\n",
    "            for j in range(0, cols):\n",
    "                patch = patches[i*rows + j]\n",
    "                patch_name = im.split('.')[0] + '_' + str(i) + '_' + str(j) + '.png'\n",
    "                cv2.imwrite(out_dir + '/' + patch_name, patch)\n",
    "\n",
    "\n",
    "def generate_patch_annotations_df(df, rows, cols):\n",
    "    patches_ann = {}\n",
    "    \n",
    "    for ind in df.index: \n",
    "        file_name = df['file_name'][ind]\n",
    "        annotation = df['annotation'][ind]\n",
    "        \n",
    "        for i in range(0, rows):\n",
    "            for j in range(0, cols):\n",
    "                patch_name = file_name.split('.')[0] + '_' + str(i) + '_' + str(j) + '.png'\n",
    "                patches_ann[patch_name] = annotation\n",
    "    \n",
    "    return pd.DataFrame.from_records([(k, v) for k, v in patches_ann.items()], \n",
    "                                     columns=['file_name', 'annotation'])\n"
   ]
  },
  {
   "cell_type": "markdown",
   "metadata": {
    "pycharm": {
     "name": "#%% md\n"
    }
   },
   "source": [
    "### Run data augmentation\n",
    "\n",
    "Perform the data augmentation on the training data set split to balance the class samples."
   ]
  },
  {
   "cell_type": "code",
   "execution_count": 5,
   "metadata": {
    "pycharm": {
     "is_executing": false,
     "name": "#%%\n"
    }
   },
   "outputs": [
    {
     "name": "stdout",
     "output_type": "stream",
     "text": [
      "Augmented SPLIT training data already exists. Skipping.\n",
      "Augmented ALL training data already exists. Skipping.\n"
     ]
    }
   ],
   "source": [
    "if os.path.exists(TRAIN_SPLIT_AUGMENTED_DATA_DIR):\n",
    "    print(\"Augmented SPLIT training data already exists. Skipping.\")\n",
    "else:\n",
    "    print(\"Balancing class samples for SPLIT training data...\")\n",
    "    augment_data(TRAIN_SPLIT_DATA_DIR,\n",
    "                 TRAIN_SPLIT_ANN_FILE,\n",
    "                 TRAIN_SPLIT_AUGMENTED_DATA_DIR,\n",
    "                 TRAIN_SPLIT_AUGMENTED_ANN_FILE,\n",
    "                 class_sample_count=400)    \n",
    "    print(\"Done.\")\n",
    "\n",
    "if os.path.exists(TRAIN_ALL_AUGMENTED_DATA_DIR):\n",
    "    print(\"Augmented ALL training data already exists. Skipping.\")\n",
    "else:\n",
    "    print(\"Balancing class samples for ALL training data...\")\n",
    "    augment_data(TRAIN_DATA_DIR,\n",
    "                 TRAIN_DATA_ANN_FILE,\n",
    "                 TRAIN_ALL_AUGMENTED_DATA_DIR,\n",
    "                 TRAIN_ALL_AUGMENTED_ANN_FILE,\n",
    "                 class_sample_count=500)\n",
    "    print(\"Done.\")"
   ]
  },
  {
   "cell_type": "markdown",
   "metadata": {},
   "source": [
    "## Generate Patches"
   ]
  },
  {
   "cell_type": "code",
   "execution_count": 18,
   "metadata": {},
   "outputs": [
    {
     "name": "stdout",
     "output_type": "stream",
     "text": [
      "data-c1/train/patches exists. Skipping.\n",
      "data-c1/val/patches exists. Skipping.\n",
      "Generating test data patches...\n",
      "data-c1/train-all/patches exists. Skipping.\n",
      "Done.\n"
     ]
    }
   ],
   "source": [
    "# SPLIT train patches\n",
    "if os.path.exists(TRAIN_SPLIT_PATCHES_DATA_DIR):\n",
    "    print(\"{} exists. Skipping.\".format(TRAIN_SPLIT_PATCHES_DATA_DIR))\n",
    "else:\n",
    "    print(\"Generating SPLIT training data patches...\")\n",
    "    generate_patch_files(TRAIN_SPLIT_AUGMENTED_DATA_DIR, TRAIN_SPLIT_PATCHES_DATA_DIR, PATCH_ROWS, PATCH_COLUMNS)\n",
    "\n",
    "    print(\"Generating SPLIT training patch data annotations...\")\n",
    "    image_df = pd.read_csv(TRAIN_SPLIT_AUGMENTED_ANN_FILE)\n",
    "    patch_annotations_df = generate_patch_annotations_df(image_df, PATCH_ROWS, PATCH_COLUMNS)\n",
    "    patch_annotations_df.sort_values('file_name').to_csv(TRAIN_SPLIT_PATCHES_ANN_FILE, index=False)\n",
    "    \n",
    "# SPLIT val patches\n",
    "if os.path.exists(VAL_SPLIT_PATCHES_DATA_DIR):\n",
    "    print(\"{} exists. Skipping.\".format(VAL_SPLIT_PATCHES_DATA_DIR))\n",
    "else:\n",
    "    print(\"Generating SPLIT validation data patches...\")\n",
    "    generate_patch_files(VAL_SPLIT_DATA_DIR, VAL_SPLIT_PATCHES_DATA_DIR, PATCH_ROWS, PATCH_COLUMNS)\n",
    "\n",
    "    print(\"Generating SPLIT validation patch data annotations...\")\n",
    "    image_df = pd.read_csv(VAL_SPLIT_ANN_FILE)\n",
    "    patch_annotations_df = generate_patch_annotations_df(image_df, PATCH_ROWS, PATCH_COLUMNS)\n",
    "    patch_annotations_df.sort_values('file_name').to_csv(VAL_SPLIT_PATCHES_ANN_FILE, index=False)\n",
    "\n",
    "# test patches\n",
    "if os.path.exists(TEST_PATCHES_DATA_DIR):\n",
    "    print(\"{} exists. Skipping.\".format(TEST_PATCHES_DATA_DIR))\n",
    "else:\n",
    "    print(\"Generating test data patches...\")\n",
    "    generate_patch_files(TEST_DATA_DIR, TEST_PATCHES_DATA_DIR, PATCH_ROWS, PATCH_COLUMNS)\n",
    "    \n",
    "# ALL train patches\n",
    "if os.path.exists(TRAIN_ALL_PATCHES_DATA_DIR):\n",
    "    print(\"{} exists. Skipping.\".format(TRAIN_ALL_PATCHES_DATA_DIR))\n",
    "else:\n",
    "    print(\"Generating ALL train data patches...\")\n",
    "    generate_patch_files(TRAIN_ALL_AUGMENTED_DATA_DIR, TRAIN_ALL_PATCHES_DATA_DIR, PATCH_ROWS, PATCH_COLUMNS)\n",
    "\n",
    "    print(\"Generating ALL training patch data annotations...\")\n",
    "    image_df = pd.read_csv(TRAIN_ALL_AUGMENTED_ANN_FILE)\n",
    "    patch_annotations_df = generate_patch_annotations_df(image_df, PATCH_ROWS, PATCH_COLUMNS)\n",
    "    patch_annotations_df.sort_values('file_name').to_csv(TRAIN_ALL_PATCHES_ANN_FILE, index=False)\n",
    "\n",
    "print(\"Done.\")"
   ]
  },
  {
   "cell_type": "code",
   "execution_count": 7,
   "metadata": {},
   "outputs": [],
   "source": [
    "class SoybeanDataGroup():\n",
    "    def __init__(self, class_weights, \n",
    "                 train_generator,\n",
    "                 val_generator=None,\n",
    "                 test_generator=None,\n",
    "                 train_patch_ann_df=None,\n",
    "                 val_patch_ann_df=None,\n",
    "                 train_whole_image_ann_df=None,\n",
    "                 val_whole_image_ann_df=None):\n",
    "        self.class_weights = class_weights\n",
    "        self.train_generator = train_generator\n",
    "        self.val_generator = val_generator\n",
    "        self.test_generator = test_generator\n",
    "        self.train_patch_ann_df = train_patch_ann_df\n",
    "        self.val_patch_ann_df = val_patch_ann_df\n",
    "        self.train_whole_image_ann_df = train_whole_image_ann_df\n",
    "        self.val_whole_image_ann_df = val_whole_image_ann_df"
   ]
  },
  {
   "cell_type": "code",
   "execution_count": 8,
   "metadata": {},
   "outputs": [],
   "source": [
    "def train_val_split_group(class_weights=None):\n",
    "    \n",
    "    train_whole_image_ann_df = pd.read_csv(TRAIN_SPLIT_AUGMENTED_ANN_FILE, dtype={'file_name': 'object', 'annotation': 'category'})\n",
    "    val_whole_image_ann_df   = pd.read_csv(VAL_SPLIT_ANN_FILE, dtype={'file_name': 'object', 'annotation': 'category'})\n",
    "    \n",
    "    print(\"Reading annotations...\")\n",
    "    train_ann_df = pd.read_csv(TRAIN_SPLIT_PATCHES_ANN_FILE, dtype={'file_name': 'object', 'annotation': 'category'})\n",
    "    val_ann_df   = pd.read_csv(VAL_SPLIT_PATCHES_ANN_FILE, dtype={'file_name': 'object', 'annotation': 'category'})\n",
    "    \n",
    "    if class_weights is None:\n",
    "        print(\"Computing class weights...\")\n",
    "        class_weights = compute_class_weights(train_ann_df, 'annotation')\n",
    "        print(class_weights)\n",
    "    else:\n",
    "        print(\"Using class weights:\", class_weights)\n",
    "        \n",
    "        \n",
    "    data_gen_args = dict(\n",
    "        rescale=1./255,\n",
    "        featurewise_center=False,\n",
    "        featurewise_std_normalization=False,\n",
    "        samplewise_center=True,\n",
    "        samplewise_std_normalization=True,\n",
    "        #rotation_range=10,\n",
    "        #width_shift_range=0.2,\n",
    "        #height_shift_range=0.2,\n",
    "        #horizontal_flip=True\n",
    "    )\n",
    "    train_datagen = ImageDataGenerator(**data_gen_args)\n",
    "    val_datagen = ImageDataGenerator(**data_gen_args)\n",
    "\n",
    "\n",
    "    print(\"Defining train data generator...\")\n",
    "    train_generator = train_datagen.flow_from_dataframe(\n",
    "            dataframe=train_ann_df,\n",
    "            directory=TRAIN_SPLIT_PATCHES_DATA_DIR,\n",
    "            x_col=\"file_name\",\n",
    "            y_col=\"annotation\",\n",
    "            batch_size=BATCH_SIZE,\n",
    "            class_mode='sparse',\n",
    "            target_size=(224,224)\n",
    "    )\n",
    "    print(\"Defining validation data generator...\")\n",
    "    val_generator = val_datagen.flow_from_dataframe(\n",
    "            dataframe=val_ann_df,\n",
    "            directory=VAL_SPLIT_PATCHES_DATA_DIR,\n",
    "            x_col=\"file_name\",\n",
    "            y_col=\"annotation\",\n",
    "            batch_size=BATCH_SIZE,\n",
    "            class_mode='sparse',\n",
    "            target_size=(224,224)\n",
    "    )\n",
    "        \n",
    "    test_datagen = ImageDataGenerator(\n",
    "        rescale=1./255,\n",
    "        featurewise_center=False,\n",
    "        featurewise_std_normalization=False,\n",
    "        samplewise_center=True,\n",
    "        samplewise_std_normalization=True\n",
    "    )\n",
    "\n",
    "    test_generator = test_datagen.flow_from_directory(\n",
    "        directory=TEST_PATCHES_DATA_DIR,\n",
    "        batch_size=32,\n",
    "        class_mode=None,\n",
    "        shuffle=False,\n",
    "        target_size=(224,224)\n",
    "    )\n",
    "    \n",
    "    return SoybeanDataGroup(class_weights, \n",
    "                            train_generator, \n",
    "                            val_generator, \n",
    "                            test_generator,\n",
    "                            train_ann_df,\n",
    "                            val_ann_df,\n",
    "                            train_whole_image_ann_df, \n",
    "                            val_whole_image_ann_df)\n"
   ]
  },
  {
   "cell_type": "code",
   "execution_count": 9,
   "metadata": {
    "pycharm": {
     "is_executing": false
    }
   },
   "outputs": [],
   "source": [
    "def all_train_data_group(class_weights=None):\n",
    "    \n",
    "    train_whole_image_ann_df = pd.read_csv(TRAIN_DATA_ANN_FILE, dtype={'file_name': 'object', 'annotation': 'category'})    \n",
    "    \n",
    "    print(\"Reading annotations...\")\n",
    "    ann_df = pd.read_csv(TRAIN_DATA_PATCHES_ANN_FILE, dtype={'file_name': 'object', 'annotation': 'category'})\n",
    "    \n",
    "    if class_weights is None:\n",
    "        print(\"Computing class weights...\")\n",
    "        class_weights = compute_class_weights(ann_df, 'annotation')\n",
    "        print(class_weights)\n",
    "    else:\n",
    "        print(\"Using class weights:\", class_weights)\n",
    "        \n",
    "        \n",
    "    data_gen_args = dict(\n",
    "        rescale=1./255,\n",
    "        featurewise_center=False,\n",
    "        featurewise_std_normalization=False,\n",
    "        samplewise_center=True,\n",
    "        samplewise_std_normalization=True,\n",
    "    )\n",
    "    train_datagen = ImageDataGenerator(**data_gen_args)\n",
    "\n",
    "\n",
    "    print(\"Defining train data generator...\")\n",
    "    train_generator = train_datagen.flow_from_dataframe(\n",
    "            dataframe=ann_df,\n",
    "            directory=TRAIN_DATA_PATCHES_DIR,\n",
    "            x_col=\"file_name\",\n",
    "            y_col=\"annotation\",\n",
    "            batch_size=BATCH_SIZE,\n",
    "            class_mode='sparse',\n",
    "            target_size=(224,224)\n",
    "    )\n",
    "   \n",
    "        \n",
    "    test_datagen = ImageDataGenerator(\n",
    "        rescale=1./255,\n",
    "        featurewise_center=False,\n",
    "        featurewise_std_normalization=False,\n",
    "        samplewise_center=True,\n",
    "        samplewise_std_normalization=True\n",
    "    )\n",
    "\n",
    "    test_generator = test_datagen.flow_from_directory(\n",
    "        directory=TEST_DATA_PATCHES_DIR,\n",
    "        batch_size=BATCH_SIZE,\n",
    "        class_mode=None,\n",
    "        shuffle=False,\n",
    "        target_size=(224,224)\n",
    "    )  \n",
    "    \n",
    "    \n",
    "    return SoybeanDataGroup(class_weights, \n",
    "                            train_generator, \n",
    "                            None, \n",
    "                            test_generator,\n",
    "                            ann_df,\n",
    "                            None,\n",
    "                            train_whole_image_ann_df)"
   ]
  },
  {
   "cell_type": "markdown",
   "metadata": {},
   "source": [
    "## Model\n",
    "\n",
    "This model is based on the VGG16 network with custom classifier layers \n",
    "with the feature layers initialized with weights based on the ImageNet data. \n",
    "\n",
    "The number of neurons and dropout rates in the classifier layers are parameterized."
   ]
  },
  {
   "cell_type": "code",
   "execution_count": 10,
   "metadata": {
    "pycharm": {
     "is_executing": false
    }
   },
   "outputs": [],
   "source": [
    "def get_model(n1, n2, dropout):\n",
    "    vgg_model = tf.keras.applications.VGG16(include_top=False, weights='imagenet')\n",
    "    vgg_model.trainable = False\n",
    "\n",
    "    model = tf.keras.models.Sequential([\n",
    "        vgg_model,\n",
    "        tf.keras.layers.GlobalAveragePooling2D(),\n",
    "        tf.keras.layers.Dense(n1, activation='relu'),\n",
    "        tf.keras.layers.Dropout(dropout),\n",
    "        tf.keras.layers.Dense(n2, activation='relu'),\n",
    "        tf.keras.layers.Dropout(dropout),\n",
    "        tf.keras.layers.Dense(5)\n",
    "    ])\n",
    "\n",
    "    model.compile(optimizer='adam',\n",
    "                  loss=tf.keras.losses.SparseCategoricalCrossentropy(from_logits=True),\n",
    "                  metrics=['accuracy'])\n",
    "    return model"
   ]
  },
  {
   "cell_type": "markdown",
   "metadata": {},
   "source": [
    "## Training loop\n",
    "For training and validation, this trains a model across a configured number of epochs and outputs the training and validation loss and accuracy for each epoch."
   ]
  },
  {
   "cell_type": "code",
   "execution_count": 11,
   "metadata": {},
   "outputs": [],
   "source": [
    "def compute_class_weights(df, y_col):\n",
    "    \"\"\"\n",
    "    Returns a dictionary mapping class labels to 'balanced' weights based on the\n",
    "    frequency of the weights across the labels in the specified dataframe\n",
    "    \"\"\"\n",
    "    y = df[[y_col]].to_numpy().flatten()\n",
    "    weights = class_weight.compute_class_weight('balanced', np.unique(y), y)\n",
    "    return {label: weight for label, weight in enumerate(weights)}\n",
    "    "
   ]
  },
  {
   "cell_type": "code",
   "execution_count": 12,
   "metadata": {
    "pycharm": {
     "is_executing": false
    }
   },
   "outputs": [],
   "source": [
    "# group = train_val_split_group()\n",
    "\n",
    "\n",
    "# train_whole_image_ann_df = pd.read_csv(TRAIN_SPLIT_AUGMENTED_ANN_FILE, dtype={'file_name': 'object', 'annotation': 'category'})\n",
    "# val_whole_image_ann_df   = pd.read_csv(VAL_SPLIT_ANN_FILE, dtype={'file_name': 'object', 'annotation': 'category'})\n",
    "\n",
    "# print(\"Reading annotations...\")\n",
    "# train_ann_df = pd.read_csv(TRAIN_SPLIT_PATCHES_ANN_FILE, dtype={'file_name': 'object', 'annotation': 'category'})\n",
    "# val_ann_df   = pd.read_csv(VAL_SPLIT_PATCHES_ANN_FILE, dtype={'file_name': 'object', 'annotation': 'category'})\n",
    "\n",
    "\n",
    "# print(\"Computing class weights...\")\n",
    "# class_weights = compute_class_weights(train_ann_df, 'annotation')\n",
    "\n",
    "\n",
    "# batch_size = 32\n",
    "\n",
    "# print(\"Defining data generators...\")\n",
    "# data_gen_args = dict(\n",
    "#     rescale=1./255,\n",
    "#     featurewise_center=False,\n",
    "#     featurewise_std_normalization=False,\n",
    "#     samplewise_center=True,\n",
    "#     samplewise_std_normalization=True,\n",
    "#     #rotation_range=10,\n",
    "#     #width_shift_range=0.2,\n",
    "#     #height_shift_range=0.2,\n",
    "#     #horizontal_flip=True\n",
    "# )\n",
    "# train_datagen = ImageDataGenerator(**data_gen_args)\n",
    "# val_datagen = ImageDataGenerator(**data_gen_args)\n",
    "\n",
    "\n",
    "# print(\"Defining train data generator...\")\n",
    "# train_generator = train_datagen.flow_from_dataframe(\n",
    "#         dataframe=train_patches_df,\n",
    "#         directory=train_dir_patches,\n",
    "#         x_col=\"file_name\",\n",
    "#         y_col=\"annotation\",\n",
    "#         batch_size=batch_size,\n",
    "#         class_mode='sparse',\n",
    "#         target_size=(224,224)\n",
    "# )\n",
    "# print(\"Defining validation data generator...\")\n",
    "# val_generator = val_datagen.flow_from_dataframe(\n",
    "#         dataframe=val_patches_df,\n",
    "#         directory=train_dir_patches,\n",
    "#         x_col=\"file_name\",\n",
    "#         y_col=\"annotation\",\n",
    "#         batch_size=batch_size,\n",
    "#         class_mode='sparse',\n",
    "#         target_size=(224,224)\n",
    "# )\n",
    "\n",
    "# # Model\n",
    "# print(\"Defining model...\")\n",
    "# model = get_model()\n",
    "# model.summary()\n",
    "\n",
    "# #model.load_weights('model_vgg16.h5')\n",
    "\n",
    "# print('Fitting model...')\n",
    "\n",
    "# history = model.fit(train_generator, \n",
    "#                     steps_per_epoch=int(train_patches_df.shape[0] / batch_size), \n",
    "#                     epochs=60, \n",
    "#                     validation_data=val_generator, \n",
    "#                     class_weight=class_weights, \n",
    "#                     verbose=1, \n",
    "#                     validation_steps=int(val_patches_df.shape[0] / batch_size))\n",
    "\n",
    "# print('Evaluating model...')\n",
    "# plt.plot(history.history['accuracy'], label='accuracy')\n",
    "# plt.plot(history.history['val_accuracy'], label = 'val_accuracy')\n",
    "# plt.xlabel('Epoch')\n",
    "# plt.ylabel('Accuracy')\n",
    "# plt.ylim([0, 1])\n",
    "# plt.legend(loc='lower right')\n",
    "\n",
    "# test_result = model.evaluate(val_generator, verbose=1)\n",
    "# print('Test result:', test_result)\n",
    "\n",
    "# # Save the model weights\n",
    "# model.save_weights('model_vgg16_c2_tf.h5')"
   ]
  },
  {
   "cell_type": "markdown",
   "metadata": {},
   "source": [
    "## Train models"
   ]
  },
  {
   "cell_type": "code",
   "execution_count": 29,
   "metadata": {
    "pycharm": {
     "is_executing": false
    },
    "scrolled": false
   },
   "outputs": [],
   "source": [
    "BATCH_SIZE = 32\n",
    "\n",
    "\n",
    "def train(run_id, model, group, num_epochs):     \n",
    "    model.summary()\n",
    "\n",
    "    print('Fitting model...')\n",
    "    \n",
    "    print('group.train_patch_ann_df.shape[0]=', group.train_patch_ann_df.shape[0])\n",
    "    print('int(group.train_patch_ann_df.shape[0] / BATCH_SIZE)', int(group.train_patch_ann_df.shape[0] / BATCH_SIZE))\n",
    "\n",
    "    history = model.fit(group.train_generator, \n",
    "                        steps_per_epoch=int(group.train_patch_ann_df.shape[0] / BATCH_SIZE), \n",
    "                        epochs=num_epochs,  \n",
    "                        class_weight=group.class_weights,\n",
    "                        validation_data=group.val_generator,\n",
    "                        validation_steps=int(group.val_patch_ann_df.shape[0] / BATCH_SIZE),\n",
    "                        verbose=1)\n",
    "\n",
    "    \n",
    "    return model, history\n",
    "\n",
    "\n",
    "def get_all_labels(loader):\n",
    "    all_labels = torch.tensor([], dtype=torch.long)\n",
    "    for batch in loader:\n",
    "        _, _, labels = batch\n",
    "        all_labels = torch.cat((all_labels, labels), dim=0)\n",
    "    return all_labels\n",
    "\n",
    "\n",
    "def get_all_whole_image_filenames(loader):\n",
    "    return loader.dataset.whole_image_data['file_name'].to_numpy()\n",
    "    \n",
    "\n",
    "def get_all_whole_image_labels(loader):\n",
    "    return loader.dataset.whole_image_data['annotation'].to_numpy(dtype=int)\n",
    "\n",
    "\n",
    "def get_all_whole_image_predictions(patch_preds):\n",
    "    patch_pred_groups = np.split(patch_preds, int(len(patch_preds)/(PATCH_ROWS * PATCH_COLUMNS)))\n",
    "    image_preds = np.array(list(map(lambda x: stats.mode(x).mode[0], patch_pred_groups)))\n",
    "    return image_preds\n",
    "\n",
    "\n",
    "def plot_metrics(run_id, output_dir, model, history, train_dataloader, val_dataloader=None):\n",
    "    \n",
    "    print()\n",
    "    print('Metrics')\n",
    "    print('-' * 10)\n",
    "    \n",
    "    plt.plot(history.history['loss'], label='Training loss')\n",
    "    plt.plot(history.history['val_loss'], label = 'Validation loss')\n",
    "    plt.xlabel('Epoch')\n",
    "    plt.ylabel('Loss')\n",
    "    plt.ylim([0, 1])\n",
    "    plt.legend(loc='lower right')\n",
    "    plt.show()\n",
    "    \n",
    "    plt.plot(history.history['accuracy'], label='Training accuracy')\n",
    "    plt.plot(history.history['val_accuracy'], label = 'Validation accuracy')\n",
    "    plt.xlabel('Epoch')\n",
    "    plt.ylabel('Accuracy')\n",
    "    plt.ylim([0, 1])\n",
    "    plt.legend(loc='lower right')\n",
    "    plt.show()\n",
    "    \n",
    "    \n",
    "    \n",
    "#     # Training confusion matrix\n",
    "#     train_patch_labels = get_all_labels(train_generator)\n",
    "#     train_patch_predictions = predict(model, train_generator)\n",
    "    \n",
    "#     print(\"Training Confusion Matrix of Patches\")\n",
    "#     print(\"-\" * 30)\n",
    "#     print_confusion_matrix(train_patch_labels, train_patch_predictions)\n",
    "    \n",
    "#     # Generate prediction label results file\n",
    "#     write_patch_predictions(run_id, 'train', output_dir, train_generator, train_patch_predictions)\n",
    "    \n",
    "    \n",
    "#     print(\"Training Confusion Matrix of Whole Images\")\n",
    "#     print(\"-\" * 30)\n",
    "#     train_whole_image_filenames = get_all_whole_image_filenames(train_generator)\n",
    "#     train_whole_image_labels = get_all_whole_image_labels(train_generator)\n",
    "#     train_whole_image_predictions = get_all_whole_image_predictions(train_patch_predictions)\n",
    "#     print_confusion_matrix(train_whole_image_labels, train_whole_image_predictions)\n",
    "    \n",
    "#     write_whole_image_predictions(run_id, 'train', output_dir, \n",
    "#                                   train_whole_image_filenames, \n",
    "#                                   train_whole_image_labels, \n",
    "#                                   train_whole_image_predictions)\n",
    "    \n",
    "#     # Validation confusion matrix\n",
    "#     if val_generator is not None:\n",
    "#         val_patch_labels = get_all_labels(val_dataloader)\n",
    "#         val_patch_predictions = predict(model, val_dataloader)\n",
    "        \n",
    "#         print(\"Validation Confusion Matrix of Patches\")\n",
    "#         print(\"-\" * 30)\n",
    "#         print_confusion_matrix(val_patch_labels, val_patch_predictions)\n",
    "        \n",
    "#         print(\"Validation Confusion Matrix of Whole Images\")\n",
    "#         print(\"-\" * 30)\n",
    "#         val_whole_image_filenames = get_all_whole_image_filenames(val_dataloader)\n",
    "#         val_whole_image_labels = get_all_whole_image_labels(val_dataloader)\n",
    "#         val_whole_image_predictions = get_all_whole_image_predictions(val_patch_predictions)\n",
    "#         print_confusion_matrix(val_whole_image_labels, val_whole_image_predictions)\n",
    "        \n",
    "#         # Generate prediction label results file\n",
    "#         write_patch_predictions(run_id, 'val', output_dir, val_dataloader, val_patch_predictions)\n",
    "        \n",
    "#         write_whole_image_predictions(run_id, 'val', output_dir, \n",
    "#                                   val_whole_image_filenames, \n",
    "#                                   val_whole_image_labels, \n",
    "#                                   val_whole_image_predictions)\n",
    "    \n",
    "\n",
    "\n",
    "def train_and_test(run_id, model, group, num_epochs, output_dir):    \n",
    "    model_trained, history = train(run_id, model, group, num_epochs)\n",
    "    \n",
    "    # Save weights\n",
    "    model_trained.save_weights(os.path.join(output_dir, \"{}_weights.h5\".format(run_id)))\n",
    "    \n",
    "    # Plot history metrics\n",
    "    plot_metrics(run_id, output_dir, model_trained, history, group.train_generator, group.val_generator)\n",
    "    \n",
    "    # Classify test data\n",
    "    return predict(model_trained, group.test_generator)\n",
    "\n",
    "\n",
    "def predict(model, data_generator):\n",
    "    y_hat_logits = model.predict(data_generator)\n",
    "    y_hat = tf.map_fn(lambda x: tf.argmax(x), y_hat_logits, dtype=tf.int64)\n",
    "    return y_hat\n",
    "\n",
    "\n",
    "\n",
    "def predict_whole_images(patch_predictions, rows, columns, csvfile):\n",
    "    y_hat_test = patch_predictions\n",
    "    y_hat_patch_groups = np.split(y_hat_test, int(len(y_hat_test)/(rows * columns)))\n",
    "    y_hat_whole_images = list(map(lambda x: stats.mode(x).mode[0], y_hat_patch_groups))\n",
    "\n",
    "    for k, v in sorted(Counter(y_hat_whole_images).items()): \n",
    "        print(str(k) + ': '+ str(v))    \n",
    "\n",
    "    one_hots = [np.zeros((5,1)) for pred in y_hat_whole_images]\n",
    "    for i in range(len(one_hots)):\n",
    "        pred = y_hat_whole_images[i]  # the index of the one-hot encoding\n",
    "        one_hots[i][pred] = 1\n",
    "    with open(csvfile, 'w') as predictions_file:\n",
    "        writer = csv.writer(predictions_file)\n",
    "        for pred in one_hots:\n",
    "            pred = np.array(pred, dtype=int)\n",
    "            writer.writerow(pred.T.tolist()[0])\n",
    "    print('Finished generating predictions to', csvfile)\n",
    "\n",
    "\n",
    "def print_confusion_matrix(y, y_hat):\n",
    "    confusion_matrix = np.zeros((5, 5))\n",
    "    labels = [0, 1, 2, 3, 4]\n",
    "    for i in range(len(labels)):\n",
    "        for j in range(len(labels)):\n",
    "            ground_truth = y==labels[i]\n",
    "            prediction = y_hat==labels[j]\n",
    "            confusion_matrix[i, j] = sum(np.bitwise_and(ground_truth, prediction))\n",
    "    df = pd.DataFrame(confusion_matrix, dtype=int)\n",
    "    display(df)\n",
    "\n",
    "\n",
    "def write_patch_predictions(run_id, phase, output_dir, dataloader, patch_predictions):\n",
    "    df = pd.DataFrame(columns=['file_name', 'annotation', 'prediction'])\n",
    "    i = 0\n",
    "    for file_names, _, labels in dataloader:\n",
    "        for j in range(BATCH_SIZE):\n",
    "            if len(file_names) > j:\n",
    "                df = df.append({'file_name': file_names[j], \n",
    "                                'annotation': labels[j].item(), \n",
    "                                'prediction': patch_predictions[i]}, ignore_index=True)\n",
    "                i += 1\n",
    "\n",
    "    df.to_csv(os.path.join(output_dir, \"{}_{}_patch_predictions.csv\".format(run_id, phase)), index=False)\n",
    "    \n",
    "\n",
    "def write_whole_image_predictions(run_id, phase, output_dir, filenames, labels, predictions):\n",
    "    print('filenames:', len(filenames))\n",
    "    print('labels:', len(labels))\n",
    "    print('predictions:', len(predictions))\n",
    "    \n",
    "    df = pd.DataFrame(columns=['file_name', 'annotation', 'prediction'])\n",
    "    for i in range(len(filenames)):\n",
    "        df = df.append({'file_name': filenames[i], \n",
    "                        'annotation': labels[i], \n",
    "                        'prediction': predictions[i]}, ignore_index=True)\n",
    "        \n",
    "    df.to_csv(os.path.join(output_dir, \"{}_{}_whole_image_predictions.csv\".format(run_id, phase)), index=False)\n",
    "        "
   ]
  },
  {
   "cell_type": "markdown",
   "metadata": {},
   "source": [
    "## Hyperparameter Optimization\n",
    "The following hyperparameters can be tuned:\n",
    "1. `n1` - Number of neurons in the first classifier dense layer\n",
    "2. `n2` - Number of neurons in the second classifier dense layer\n",
    "3. `d` - Dropout rate after classifier dense layers\n",
    "4. class weights - `[1,1,1,1,1]` (default) or `[1,1,5,5,1]`\n",
    "5. batch normalization - `no` or `yes`\n",
    "\n"
   ]
  },
  {
   "cell_type": "code",
   "execution_count": 14,
   "metadata": {},
   "outputs": [],
   "source": [
    "def run_trial(name, model, class_weights=None, num_epochs=40):\n",
    "    run_id = shortuuid.uuid()\n",
    "    \n",
    "    # output directory\n",
    "    output_dir = os.path.join(\"output_tf\", run_id)\n",
    "    os.makedirs(output_dir)\n",
    "    print(\"Output generated to:\", output_dir)\n",
    "    \n",
    "    \n",
    "    y_hat_test = train_and_test(run_id, model, train_val_split_group(class_weights), num_epochs, output_dir)\n",
    "    predictions_file = os.path.join(output_dir, \"{}_predict_c2_{}_test.csv\".format(run_id, name))\n",
    "    print('predictions file:', predictions_file)\n",
    "    predict_whole_images(y_hat_test, PATCH_ROWS, PATCH_COLUMNS, predictions_file)\n",
    "    return y_hat_test"
   ]
  },
  {
   "cell_type": "code",
   "execution_count": 23,
   "metadata": {},
   "outputs": [
    {
     "name": "stdout",
     "output_type": "stream",
     "text": [
      "Reading annotations...\n",
      "Computing class weights...\n",
      "{0: 0.4205128205128205, 1: 1.1081081081081081, 2: 1.5769230769230769, 3: 1.561904761904762, 4: 2.2465753424657535}\n",
      "Defining train data generator...\n",
      "Found 20500 validated image filenames belonging to 5 classes.\n",
      "Defining validation data generator...\n",
      "Found 5125 validated image filenames belonging to 5 classes.\n",
      "Found 5000 images belonging to 1 classes.\n",
      "predictions file: output_tf/AJr5eR3kg6UEQAUdUnVjJd/AJr5eR3kg6UEQAUdUnVjJd_predict_c2_h1_test.csv\n",
      "0: 68\n",
      "1: 56\n",
      "2: 16\n",
      "3: 5\n",
      "4: 55\n",
      "Finished generating predictions to output_tf/AJr5eR3kg6UEQAUdUnVjJd/AJr5eR3kg6UEQAUdUnVjJd_predict_c2_h1_test.csv\n"
     ]
    },
    {
     "data": {
      "text/plain": [
       "<tf.Tensor: shape=(5000,), dtype=int64, numpy=array([2, 2, 2, ..., 0, 0, 0])>"
      ]
     },
     "execution_count": 23,
     "metadata": {},
     "output_type": "execute_result"
    }
   ],
   "source": [
    "run_id = \"AJr5eR3kg6UEQAUdUnVjJd\"\n",
    "name = \"h1\"\n",
    "group = train_val_split_group(None)\n",
    "output_dir = \"output_tf/AJr5eR3kg6UEQAUdUnVjJd\"\n",
    "y_hat_test = predict(model, group.test_generator)\n",
    "predictions_file = os.path.join(output_dir, \"{}_predict_c2_{}_test.csv\".format(run_id, name))\n",
    "print('predictions file:', predictions_file)\n",
    "predict_whole_images(y_hat_test, PATCH_ROWS, PATCH_COLUMNS, predictions_file)\n",
    "y_hat_test"
   ]
  },
  {
   "cell_type": "markdown",
   "metadata": {},
   "source": [
    "#### H1: 1024-128-5\n",
    "\n",
    "* DNN Structure: 1024-128-5\n",
    "* Dropout: 0.5\n",
    "* Class weights: [1,1,1,1,1]\n",
    "* Batch normalization: no\n"
   ]
  },
  {
   "cell_type": "code",
   "execution_count": 25,
   "metadata": {
    "scrolled": false
   },
   "outputs": [
    {
     "name": "stdout",
     "output_type": "stream",
     "text": [
      "Output generated to: output_tf/9NWUwLF34eEFEqzMVD4xgp\n",
      "Reading annotations...\n",
      "Computing class weights...\n",
      "{0: 0.4205128205128205, 1: 1.1081081081081081, 2: 1.5769230769230769, 3: 1.561904761904762, 4: 2.2465753424657535}\n",
      "Defining train data generator...\n",
      "Found 20500 validated image filenames belonging to 5 classes.\n",
      "Defining validation data generator...\n",
      "Found 5125 validated image filenames belonging to 5 classes.\n",
      "Found 5000 images belonging to 1 classes.\n",
      "Model: \"sequential_2\"\n",
      "_________________________________________________________________\n",
      "Layer (type)                 Output Shape              Param #   \n",
      "=================================================================\n",
      "vgg16 (Model)                (None, None, None, 512)   14714688  \n",
      "_________________________________________________________________\n",
      "global_average_pooling2d_2 ( (None, 512)               0         \n",
      "_________________________________________________________________\n",
      "dense_6 (Dense)              (None, 1024)              525312    \n",
      "_________________________________________________________________\n",
      "dropout_4 (Dropout)          (None, 1024)              0         \n",
      "_________________________________________________________________\n",
      "dense_7 (Dense)              (None, 128)               131200    \n",
      "_________________________________________________________________\n",
      "dropout_5 (Dropout)          (None, 128)               0         \n",
      "_________________________________________________________________\n",
      "dense_8 (Dense)              (None, 5)                 645       \n",
      "=================================================================\n",
      "Total params: 15,371,845\n",
      "Trainable params: 657,157\n",
      "Non-trainable params: 14,714,688\n",
      "_________________________________________________________________\n",
      "Fitting model...\n",
      "group.train_patch_ann_df.shape[0]= 20500\n",
      "int(group.train_patch_ann_df.shape[0] / BATCH_SIZE) 640\n",
      "WARNING:tensorflow:sample_weight modes were coerced from\n",
      "  ...\n",
      "    to  \n",
      "  ['...']\n",
      "WARNING:tensorflow:sample_weight modes were coerced from\n",
      "  ...\n",
      "    to  \n",
      "  ['...']\n",
      "Train for 640 steps, validate for 160 steps\n",
      "Epoch 1/40\n",
      "640/640 [==============================] - 49s 76ms/step - loss: 1.0440 - accuracy: 0.5345 - val_loss: 0.7758 - val_accuracy: 0.6318\n",
      "Epoch 2/40\n",
      "640/640 [==============================] - 51s 79ms/step - loss: 0.8524 - accuracy: 0.6201 - val_loss: 0.7505 - val_accuracy: 0.6729\n",
      "Epoch 3/40\n",
      "640/640 [==============================] - 48s 76ms/step - loss: 0.7908 - accuracy: 0.6517 - val_loss: 0.6804 - val_accuracy: 0.6916\n",
      "Epoch 4/40\n",
      "640/640 [==============================] - 50s 78ms/step - loss: 0.7418 - accuracy: 0.6707 - val_loss: 0.6735 - val_accuracy: 0.6893\n",
      "Epoch 5/40\n",
      "640/640 [==============================] - 49s 76ms/step - loss: 0.7050 - accuracy: 0.6909 - val_loss: 0.6299 - val_accuracy: 0.7527\n",
      "Epoch 6/40\n",
      "640/640 [==============================] - 49s 77ms/step - loss: 0.6725 - accuracy: 0.7014 - val_loss: 0.6384 - val_accuracy: 0.7008\n",
      "Epoch 7/40\n",
      "640/640 [==============================] - 49s 76ms/step - loss: 0.6463 - accuracy: 0.7099 - val_loss: 0.6248 - val_accuracy: 0.7117\n",
      "Epoch 8/40\n",
      "640/640 [==============================] - 50s 77ms/step - loss: 0.6303 - accuracy: 0.7199 - val_loss: 0.5946 - val_accuracy: 0.7588\n",
      "Epoch 9/40\n",
      "640/640 [==============================] - 49s 76ms/step - loss: 0.5987 - accuracy: 0.7357 - val_loss: 0.6049 - val_accuracy: 0.7307\n",
      "Epoch 10/40\n",
      "640/640 [==============================] - 49s 76ms/step - loss: 0.5764 - accuracy: 0.7436 - val_loss: 0.5913 - val_accuracy: 0.7717\n",
      "Epoch 11/40\n",
      "640/640 [==============================] - 49s 77ms/step - loss: 0.5563 - accuracy: 0.7511 - val_loss: 0.5850 - val_accuracy: 0.7240\n",
      "Epoch 12/40\n",
      "640/640 [==============================] - 49s 77ms/step - loss: 0.5518 - accuracy: 0.7550 - val_loss: 0.5900 - val_accuracy: 0.7443\n",
      "Epoch 13/40\n",
      "640/640 [==============================] - 49s 77ms/step - loss: 0.5322 - accuracy: 0.7607 - val_loss: 0.5754 - val_accuracy: 0.7299\n",
      "Epoch 14/40\n",
      "640/640 [==============================] - 48s 75ms/step - loss: 0.5231 - accuracy: 0.7633 - val_loss: 0.5969 - val_accuracy: 0.7385\n",
      "Epoch 15/40\n",
      "640/640 [==============================] - 50s 77ms/step - loss: 0.5091 - accuracy: 0.7694 - val_loss: 0.5887 - val_accuracy: 0.7428\n",
      "Epoch 16/40\n",
      "640/640 [==============================] - 49s 76ms/step - loss: 0.5048 - accuracy: 0.7740 - val_loss: 0.5651 - val_accuracy: 0.7637\n",
      "Epoch 17/40\n",
      "640/640 [==============================] - 49s 77ms/step - loss: 0.4895 - accuracy: 0.7776 - val_loss: 0.5774 - val_accuracy: 0.7455\n",
      "Epoch 18/40\n",
      "640/640 [==============================] - 49s 76ms/step - loss: 0.4704 - accuracy: 0.7879 - val_loss: 0.5907 - val_accuracy: 0.7508\n",
      "Epoch 19/40\n",
      "640/640 [==============================] - 49s 76ms/step - loss: 0.4653 - accuracy: 0.7896 - val_loss: 0.5701 - val_accuracy: 0.7561\n",
      "Epoch 20/40\n",
      "640/640 [==============================] - 49s 76ms/step - loss: 0.4496 - accuracy: 0.7893 - val_loss: 0.5990 - val_accuracy: 0.7404\n",
      "Epoch 21/40\n",
      "640/640 [==============================] - 49s 77ms/step - loss: 0.4411 - accuracy: 0.7978 - val_loss: 0.6222 - val_accuracy: 0.7887\n",
      "Epoch 22/40\n",
      "640/640 [==============================] - 49s 77ms/step - loss: 0.4336 - accuracy: 0.7979 - val_loss: 0.6739 - val_accuracy: 0.7379\n",
      "Epoch 23/40\n",
      "640/640 [==============================] - 49s 77ms/step - loss: 0.4299 - accuracy: 0.8011 - val_loss: 0.6213 - val_accuracy: 0.7400\n",
      "Epoch 24/40\n",
      "640/640 [==============================] - 49s 76ms/step - loss: 0.4335 - accuracy: 0.7995 - val_loss: 0.5840 - val_accuracy: 0.7580\n",
      "Epoch 25/40\n",
      "640/640 [==============================] - 49s 76ms/step - loss: 0.4077 - accuracy: 0.8089 - val_loss: 0.6334 - val_accuracy: 0.7189\n",
      "Epoch 26/40\n",
      "640/640 [==============================] - 49s 76ms/step - loss: 0.4064 - accuracy: 0.8118 - val_loss: 0.5980 - val_accuracy: 0.7586\n",
      "Epoch 27/40\n",
      "640/640 [==============================] - 48s 76ms/step - loss: 0.3994 - accuracy: 0.8137 - val_loss: 0.6519 - val_accuracy: 0.7570\n",
      "Epoch 28/40\n",
      "640/640 [==============================] - 49s 76ms/step - loss: 0.3917 - accuracy: 0.8138 - val_loss: 0.6185 - val_accuracy: 0.7189\n",
      "Epoch 29/40\n",
      "640/640 [==============================] - 49s 76ms/step - loss: 0.3786 - accuracy: 0.8222 - val_loss: 0.5902 - val_accuracy: 0.7377\n",
      "Epoch 30/40\n",
      "640/640 [==============================] - 49s 77ms/step - loss: 0.3833 - accuracy: 0.8177 - val_loss: 0.6256 - val_accuracy: 0.7521\n",
      "Epoch 31/40\n",
      "640/640 [==============================] - 49s 76ms/step - loss: 0.3639 - accuracy: 0.8281 - val_loss: 0.6068 - val_accuracy: 0.7584\n",
      "Epoch 32/40\n",
      "640/640 [==============================] - 49s 77ms/step - loss: 0.3552 - accuracy: 0.8285 - val_loss: 0.6161 - val_accuracy: 0.7703\n",
      "Epoch 33/40\n",
      "640/640 [==============================] - 50s 78ms/step - loss: 0.3576 - accuracy: 0.8341 - val_loss: 0.6498 - val_accuracy: 0.7461\n",
      "Epoch 34/40\n",
      "640/640 [==============================] - 49s 77ms/step - loss: 0.3515 - accuracy: 0.8387 - val_loss: 0.6398 - val_accuracy: 0.7463\n",
      "Epoch 35/40\n",
      "640/640 [==============================] - 50s 78ms/step - loss: 0.3522 - accuracy: 0.8346 - val_loss: 0.6334 - val_accuracy: 0.7598\n",
      "Epoch 36/40\n",
      "640/640 [==============================] - 49s 76ms/step - loss: 0.3316 - accuracy: 0.8421 - val_loss: 0.6238 - val_accuracy: 0.7760\n",
      "Epoch 37/40\n",
      "640/640 [==============================] - 49s 77ms/step - loss: 0.3419 - accuracy: 0.8394 - val_loss: 0.6414 - val_accuracy: 0.7855\n",
      "Epoch 38/40\n",
      "640/640 [==============================] - 49s 76ms/step - loss: 0.3381 - accuracy: 0.8397 - val_loss: 0.6839 - val_accuracy: 0.7533\n",
      "Epoch 39/40\n",
      "640/640 [==============================] - 50s 79ms/step - loss: 0.3288 - accuracy: 0.8428 - val_loss: 0.6111 - val_accuracy: 0.7703\n",
      "Epoch 40/40\n",
      "640/640 [==============================] - 49s 76ms/step - loss: 0.3117 - accuracy: 0.8486 - val_loss: 0.6776 - val_accuracy: 0.7521\n",
      "\n",
      "Metrics\n",
      "----------\n"
     ]
    },
    {
     "data": {
      "image/png": "[encoded data removed]",
      "text/plain": [
       "<Figure size 432x288 with 1 Axes>"
      ]
     },
     "metadata": {
      "needs_background": "light"
     },
     "output_type": "display_data"
    },
    {
     "data": {
      "image/png": "[encoded data removed]",
      "text/plain": [
       "<Figure size 432x288 with 1 Axes>"
      ]
     },
     "metadata": {
      "needs_background": "light"
     },
     "output_type": "display_data"
    },
    {
     "name": "stdout",
     "output_type": "stream",
     "text": [
      "predictions file: output_tf/9NWUwLF34eEFEqzMVD4xgp/9NWUwLF34eEFEqzMVD4xgp_predict_c2_h1_test.csv\n",
      "0: 82\n",
      "1: 53\n",
      "2: 3\n",
      "3: 20\n",
      "4: 42\n",
      "Finished generating predictions to output_tf/9NWUwLF34eEFEqzMVD4xgp/9NWUwLF34eEFEqzMVD4xgp_predict_c2_h1_test.csv\n"
     ]
    },
    {
     "data": {
      "text/plain": [
       "<tf.Tensor: shape=(5000,), dtype=int64, numpy=array([1, 2, 0, ..., 0, 0, 0])>"
      ]
     },
     "execution_count": 25,
     "metadata": {},
     "output_type": "execute_result"
    }
   ],
   "source": [
    "model = get_model(1024, 128, 0.5)\n",
    "run_trial(\"h1\", model, num_epochs=40)"
   ]
  },
  {
   "cell_type": "code",
   "execution_count": null,
   "metadata": {},
   "outputs": [],
   "source": []
  },
  {
   "cell_type": "code",
   "execution_count": 30,
   "metadata": {},
   "outputs": [
    {
     "name": "stdout",
     "output_type": "stream",
     "text": [
      "Output generated to: output_tf/cnHpCaqKkvLghmHpjkYZ6d\n",
      "Reading annotations...\n",
      "Computing class weights...\n",
      "{0: 0.4205128205128205, 1: 1.1081081081081081, 2: 1.5769230769230769, 3: 1.561904761904762, 4: 2.2465753424657535}\n",
      "Defining train data generator...\n",
      "Found 20500 validated image filenames belonging to 5 classes.\n",
      "Defining validation data generator...\n",
      "Found 5125 validated image filenames belonging to 5 classes.\n",
      "Found 5000 images belonging to 1 classes.\n",
      "Model: \"sequential_5\"\n",
      "_________________________________________________________________\n",
      "Layer (type)                 Output Shape              Param #   \n",
      "=================================================================\n",
      "vgg16 (Model)                (None, None, None, 512)   14714688  \n",
      "_________________________________________________________________\n",
      "global_average_pooling2d_5 ( (None, 512)               0         \n",
      "_________________________________________________________________\n",
      "dense_15 (Dense)             (None, 1024)              525312    \n",
      "_________________________________________________________________\n",
      "dropout_10 (Dropout)         (None, 1024)              0         \n",
      "_________________________________________________________________\n",
      "dense_16 (Dense)             (None, 128)               131200    \n",
      "_________________________________________________________________\n",
      "dropout_11 (Dropout)         (None, 128)               0         \n",
      "_________________________________________________________________\n",
      "dense_17 (Dense)             (None, 5)                 645       \n",
      "=================================================================\n",
      "Total params: 15,371,845\n",
      "Trainable params: 657,157\n",
      "Non-trainable params: 14,714,688\n",
      "_________________________________________________________________\n",
      "Fitting model...\n",
      "group.train_patch_ann_df.shape[0]= 20500\n",
      "int(group.train_patch_ann_df.shape[0] / BATCH_SIZE) 640\n",
      "WARNING:tensorflow:sample_weight modes were coerced from\n",
      "  ...\n",
      "    to  \n",
      "  ['...']\n",
      "WARNING:tensorflow:sample_weight modes were coerced from\n",
      "  ...\n",
      "    to  \n",
      "  ['...']\n",
      "Train for 640 steps, validate for 160 steps\n",
      "Epoch 1/3\n",
      "640/640 [==============================] - 49s 76ms/step - loss: 1.0504 - accuracy: 0.5410 - val_loss: 0.7851 - val_accuracy: 0.6838\n",
      "Epoch 2/3\n",
      "640/640 [==============================] - 48s 75ms/step - loss: 0.8486 - accuracy: 0.6263 - val_loss: 0.7357 - val_accuracy: 0.7008\n",
      "Epoch 3/3\n",
      "640/640 [==============================] - 50s 78ms/step - loss: 0.7766 - accuracy: 0.6541 - val_loss: 0.6941 - val_accuracy: 0.6369\n",
      "\n",
      "Metrics\n",
      "----------\n"
     ]
    },
    {
     "data": {
      "image/png": "[encoded data removed]",
      "text/plain": [
       "<Figure size 432x288 with 1 Axes>"
      ]
     },
     "metadata": {
      "needs_background": "light"
     },
     "output_type": "display_data"
    },
    {
     "data": {
      "image/png": "[encoded data removed]",
      "text/plain": [
       "<Figure size 432x288 with 1 Axes>"
      ]
     },
     "metadata": {
      "needs_background": "light"
     },
     "output_type": "display_data"
    },
    {
     "name": "stdout",
     "output_type": "stream",
     "text": [
      "predictions file: output_tf/cnHpCaqKkvLghmHpjkYZ6d/cnHpCaqKkvLghmHpjkYZ6d_predict_c2_h1_test.csv\n",
      "0: 64\n",
      "1: 72\n",
      "2: 6\n",
      "3: 3\n",
      "4: 55\n",
      "Finished generating predictions to output_tf/cnHpCaqKkvLghmHpjkYZ6d/cnHpCaqKkvLghmHpjkYZ6d_predict_c2_h1_test.csv\n"
     ]
    },
    {
     "data": {
      "text/plain": [
       "<tf.Tensor: shape=(5000,), dtype=int64, numpy=array([0, 2, 0, ..., 0, 0, 0])>"
      ]
     },
     "execution_count": 30,
     "metadata": {},
     "output_type": "execute_result"
    }
   ],
   "source": [
    "model = get_model(1024, 128, 0.5)\n",
    "run_trial(\"h1\", model, num_epochs=3)"
   ]
  },
  {
   "cell_type": "markdown",
   "metadata": {},
   "source": [
    "#### H2: 2048-256-5\n",
    "\n",
    "* DNN Structure: 2048-256-5\n",
    "* Dropout: 0.5\n",
    "* Class weights: [1,1,1,1,1]\n",
    "* Batch normalization: no\n"
   ]
  },
  {
   "cell_type": "code",
   "execution_count": null,
   "metadata": {
    "scrolled": true
   },
   "outputs": [],
   "source": [
    "model = get_model(2048, 256, 0.5)\n",
    "run_trial(\"h2\", model)"
   ]
  },
  {
   "cell_type": "markdown",
   "metadata": {},
   "source": [
    "#### H3: 512-64-5\n",
    "\n",
    "* DNN Structure: 512-64-5\n",
    "* Dropout: 0.5\n",
    "* Class weights: [1,1,1,1,1]\n",
    "* Batch normalization: no\n"
   ]
  },
  {
   "cell_type": "code",
   "execution_count": null,
   "metadata": {},
   "outputs": [],
   "source": [
    "model = get_model(512, 64, 0.5)\n",
    "run_trial(\"h3\", model)"
   ]
  },
  {
   "cell_type": "markdown",
   "metadata": {},
   "source": [
    "#### H4: Best from above, dropout 0.25\n",
    "\n",
    "* DNN Structure: \n",
    "* Dropout: 0.25\n",
    "* Class weights: [1,1,1,1,1]\n",
    "* Batch normalization: no\n"
   ]
  },
  {
   "cell_type": "code",
   "execution_count": null,
   "metadata": {},
   "outputs": [],
   "source": [
    "model = get_model(2048, 256, model = get_model(1024, 128, 0.1)\n",
    "run_trial(\"h5\", model)0.25)\n",
    "run_trial(\"h4\", model)"
   ]
  },
  {
   "cell_type": "markdown",
   "metadata": {},
   "source": [
    "#### H5: Best from above, dropout 0.1\n",
    "\n",
    "* DNN Structure: \n",
    "* Dropout: 0.1\n",
    "* Class weights: [1,1,1,1,1]\n",
    "* Batch normalization: no\n"
   ]
  },
  {
   "cell_type": "code",
   "execution_count": 24,
   "metadata": {
    "scrolled": false
   },
   "outputs": [
    {
     "name": "stdout",
     "output_type": "stream",
     "text": [
      "Output generated to: output_tf/PTvaUJZWZ3Ao8MabmR43wS\n",
      "Reading annotations...\n",
      "Computing class weights...\n",
      "{0: 0.4205128205128205, 1: 1.1081081081081081, 2: 1.5769230769230769, 3: 1.561904761904762, 4: 2.2465753424657535}\n",
      "Defining train data generator...\n",
      "Found 20500 validated image filenames belonging to 5 classes.\n",
      "Defining validation data generator...\n",
      "Found 5125 validated image filenames belonging to 5 classes.\n",
      "Found 5000 images belonging to 1 classes.\n",
      "Model: \"sequential_1\"\n",
      "_________________________________________________________________\n",
      "Layer (type)                 Output Shape              Param #   \n",
      "=================================================================\n",
      "vgg16 (Model)                (None, None, None, 512)   14714688  \n",
      "_________________________________________________________________\n",
      "global_average_pooling2d_1 ( (None, 512)               0         \n",
      "_________________________________________________________________\n",
      "dense_3 (Dense)              (None, 1024)              525312    \n",
      "_________________________________________________________________\n",
      "dropout_2 (Dropout)          (None, 1024)              0         \n",
      "_________________________________________________________________\n",
      "dense_4 (Dense)              (None, 128)               131200    \n",
      "_________________________________________________________________\n",
      "dropout_3 (Dropout)          (None, 128)               0         \n",
      "_________________________________________________________________\n",
      "dense_5 (Dense)              (None, 5)                 645       \n",
      "=================================================================\n",
      "Total params: 15,371,845\n",
      "Trainable params: 657,157\n",
      "Non-trainable params: 14,714,688\n",
      "_________________________________________________________________\n",
      "Fitting model...\n",
      "group.train_patch_ann_df.shape[0]= 20500\n",
      "int(group.train_patch_ann_df.shape[0] / BATCH_SIZE) 640\n",
      "WARNING:tensorflow:sample_weight modes were coerced from\n",
      "  ...\n",
      "    to  \n",
      "  ['...']\n",
      "WARNING:tensorflow:sample_weight modes were coerced from\n",
      "  ...\n",
      "    to  \n",
      "  ['...']\n",
      "Train for 640 steps, validate for 160 steps\n",
      "Epoch 1/40\n",
      "640/640 [==============================] - 48s 76ms/step - loss: 0.8971 - accuracy: 0.6002 - val_loss: 0.7246 - val_accuracy: 0.6521\n",
      "Epoch 2/40\n",
      "640/640 [==============================] - 49s 76ms/step - loss: 0.7179 - accuracy: 0.6832 - val_loss: 0.6581 - val_accuracy: 0.7219\n",
      "Epoch 3/40\n",
      "640/640 [==============================] - 48s 75ms/step - loss: 0.6387 - accuracy: 0.7199 - val_loss: 0.6585 - val_accuracy: 0.7008\n",
      "Epoch 4/40\n",
      "640/640 [==============================] - 49s 76ms/step - loss: 0.5698 - accuracy: 0.7482 - val_loss: 0.6486 - val_accuracy: 0.7264\n",
      "Epoch 5/40\n",
      "640/640 [==============================] - 48s 76ms/step - loss: 0.5181 - accuracy: 0.7692 - val_loss: 0.5927 - val_accuracy: 0.7555\n",
      "Epoch 6/40\n",
      "640/640 [==============================] - 49s 76ms/step - loss: 0.4745 - accuracy: 0.7894 - val_loss: 0.6240 - val_accuracy: 0.7205\n",
      "Epoch 7/40\n",
      "640/640 [==============================] - 49s 76ms/step - loss: 0.4332 - accuracy: 0.8049 - val_loss: 0.6124 - val_accuracy: 0.7547\n",
      "Epoch 8/40\n",
      "640/640 [==============================] - 49s 77ms/step - loss: 0.3956 - accuracy: 0.8238 - val_loss: 0.6518 - val_accuracy: 0.7840\n",
      "Epoch 9/40\n",
      "640/640 [==============================] - 49s 76ms/step - loss: 0.3742 - accuracy: 0.8310 - val_loss: 0.6219 - val_accuracy: 0.7592\n",
      "Epoch 10/40\n",
      "640/640 [==============================] - 48s 76ms/step - loss: 0.3388 - accuracy: 0.8469 - val_loss: 0.6174 - val_accuracy: 0.7453\n",
      "Epoch 11/40\n",
      "640/640 [==============================] - 49s 77ms/step - loss: 0.3158 - accuracy: 0.8595 - val_loss: 0.6576 - val_accuracy: 0.7070\n",
      "Epoch 12/40\n",
      "640/640 [==============================] - 49s 76ms/step - loss: 0.2894 - accuracy: 0.8693 - val_loss: 0.6700 - val_accuracy: 0.7912\n",
      "Epoch 13/40\n",
      "640/640 [==============================] - 48s 75ms/step - loss: 0.2704 - accuracy: 0.8795 - val_loss: 0.7294 - val_accuracy: 0.7363\n",
      "Epoch 14/40\n",
      "640/640 [==============================] - 48s 76ms/step - loss: 0.2459 - accuracy: 0.8889 - val_loss: 0.7566 - val_accuracy: 0.7549\n",
      "Epoch 15/40\n",
      "640/640 [==============================] - 49s 77ms/step - loss: 0.2312 - accuracy: 0.8909 - val_loss: 0.7480 - val_accuracy: 0.7934\n",
      "Epoch 16/40\n",
      "640/640 [==============================] - 50s 77ms/step - loss: 0.2193 - accuracy: 0.9010 - val_loss: 0.8359 - val_accuracy: 0.7541\n",
      "Epoch 17/40\n",
      "640/640 [==============================] - 48s 76ms/step - loss: 0.2016 - accuracy: 0.9059 - val_loss: 0.7907 - val_accuracy: 0.7736\n",
      "Epoch 18/40\n",
      "640/640 [==============================] - 49s 76ms/step - loss: 0.1802 - accuracy: 0.9179 - val_loss: 0.7858 - val_accuracy: 0.7996\n",
      "Epoch 19/40\n",
      "640/640 [==============================] - 49s 76ms/step - loss: 0.1821 - accuracy: 0.9165 - val_loss: 0.7897 - val_accuracy: 0.7994\n",
      "Epoch 20/40\n",
      "640/640 [==============================] - 49s 76ms/step - loss: 0.1625 - accuracy: 0.9249 - val_loss: 0.8098 - val_accuracy: 0.7732\n",
      "Epoch 21/40\n",
      "640/640 [==============================] - 49s 77ms/step - loss: 0.1480 - accuracy: 0.9312 - val_loss: 0.8553 - val_accuracy: 0.7625\n",
      "Epoch 22/40\n",
      "640/640 [==============================] - 49s 76ms/step - loss: 0.1471 - accuracy: 0.9321 - val_loss: 1.0334 - val_accuracy: 0.7963\n",
      "Epoch 23/40\n",
      "640/640 [==============================] - 49s 76ms/step - loss: 0.1462 - accuracy: 0.9314 - val_loss: 0.9488 - val_accuracy: 0.7895\n",
      "Epoch 24/40\n",
      "640/640 [==============================] - 49s 77ms/step - loss: 0.1351 - accuracy: 0.9390 - val_loss: 0.8364 - val_accuracy: 0.7908\n",
      "Epoch 25/40\n",
      "640/640 [==============================] - 48s 76ms/step - loss: 0.1192 - accuracy: 0.9447 - val_loss: 1.2598 - val_accuracy: 0.7553\n",
      "Epoch 26/40\n",
      "640/640 [==============================] - 51s 80ms/step - loss: 0.1298 - accuracy: 0.9410 - val_loss: 0.9196 - val_accuracy: 0.7725\n",
      "Epoch 27/40\n",
      "640/640 [==============================] - 52s 81ms/step - loss: 0.1146 - accuracy: 0.9466 - val_loss: 1.0849 - val_accuracy: 0.8088\n",
      "Epoch 28/40\n",
      "640/640 [==============================] - 48s 75ms/step - loss: 0.1078 - accuracy: 0.9496 - val_loss: 1.0746 - val_accuracy: 0.7795\n",
      "Epoch 29/40\n",
      "640/640 [==============================] - 48s 75ms/step - loss: 0.1071 - accuracy: 0.9503 - val_loss: 1.1191 - val_accuracy: 0.7893\n",
      "Epoch 30/40\n",
      "640/640 [==============================] - 48s 75ms/step - loss: 0.1106 - accuracy: 0.9497 - val_loss: 1.1077 - val_accuracy: 0.7633\n",
      "Epoch 31/40\n",
      "640/640 [==============================] - 49s 76ms/step - loss: 0.1013 - accuracy: 0.9558 - val_loss: 1.0512 - val_accuracy: 0.7334\n",
      "Epoch 32/40\n",
      "640/640 [==============================] - 48s 75ms/step - loss: 0.1006 - accuracy: 0.9529 - val_loss: 0.9268 - val_accuracy: 0.7883\n",
      "Epoch 33/40\n",
      "640/640 [==============================] - 48s 75ms/step - loss: 0.0963 - accuracy: 0.9576 - val_loss: 1.0502 - val_accuracy: 0.7910\n",
      "Epoch 34/40\n",
      "640/640 [==============================] - 48s 75ms/step - loss: 0.0897 - accuracy: 0.9618 - val_loss: 1.0813 - val_accuracy: 0.7896\n",
      "Epoch 35/40\n",
      "640/640 [==============================] - 48s 76ms/step - loss: 0.0967 - accuracy: 0.9569 - val_loss: 1.0631 - val_accuracy: 0.7957\n",
      "Epoch 36/40\n",
      "640/640 [==============================] - 49s 76ms/step - loss: 0.0832 - accuracy: 0.9634 - val_loss: 1.0449 - val_accuracy: 0.7949\n",
      "Epoch 37/40\n",
      "640/640 [==============================] - 49s 76ms/step - loss: 0.0846 - accuracy: 0.9603 - val_loss: 1.1675 - val_accuracy: 0.7785\n",
      "Epoch 38/40\n",
      "640/640 [==============================] - 49s 77ms/step - loss: 0.0900 - accuracy: 0.9600 - val_loss: 1.0714 - val_accuracy: 0.8035\n",
      "Epoch 39/40\n",
      "640/640 [==============================] - 48s 75ms/step - loss: 0.0727 - accuracy: 0.9693 - val_loss: 1.1081 - val_accuracy: 0.7910\n",
      "Epoch 40/40\n",
      "640/640 [==============================] - 48s 75ms/step - loss: 0.0734 - accuracy: 0.9646 - val_loss: 1.2322 - val_accuracy: 0.7834\n",
      "\n",
      "Metrics\n",
      "----------\n"
     ]
    },
    {
     "data": {
      "image/png": "[encoded data removed]",
      "text/plain": [
       "<Figure size 432x288 with 1 Axes>"
      ]
     },
     "metadata": {
      "needs_background": "light"
     },
     "output_type": "display_data"
    },
    {
     "data": {
      "image/png": "[encoded data removed]",
      "text/plain": [
       "<Figure size 432x288 with 1 Axes>"
      ]
     },
     "metadata": {
      "needs_background": "light"
     },
     "output_type": "display_data"
    },
    {
     "name": "stdout",
     "output_type": "stream",
     "text": [
      "predictions file: output_tf/PTvaUJZWZ3Ao8MabmR43wS/PTvaUJZWZ3Ao8MabmR43wS_predict_c2_h5_test.csv\n",
      "0: 80\n",
      "1: 59\n",
      "2: 1\n",
      "3: 28\n",
      "4: 32\n",
      "Finished generating predictions to output_tf/PTvaUJZWZ3Ao8MabmR43wS/PTvaUJZWZ3Ao8MabmR43wS_predict_c2_h5_test.csv\n"
     ]
    },
    {
     "data": {
      "text/plain": [
       "<tf.Tensor: shape=(5000,), dtype=int64, numpy=array([1, 0, 0, ..., 0, 0, 0])>"
      ]
     },
     "execution_count": 24,
     "metadata": {},
     "output_type": "execute_result"
    }
   ],
   "source": [
    "model = get_model(1024, 128, 0.1)\n",
    "run_trial(\"h5\", model)"
   ]
  },
  {
   "cell_type": "markdown",
   "metadata": {},
   "source": [
    "#### H6: Best from above, skewed class weights\n",
    "\n",
    "* DNN Structure: \n",
    "* Dropout: 0.5\n",
    "* Class weights: [1,1,5,5,1]\n",
    "* Batch normalization: no\n"
   ]
  },
  {
   "cell_type": "code",
   "execution_count": null,
   "metadata": {},
   "outputs": [],
   "source": [
    "model = get_model(n1, n2, 0.5)\n",
    "run_trial(\"h6\", model, class_weights=[1., 1., 2., 2., 1.])"
   ]
  },
  {
   "cell_type": "markdown",
   "metadata": {},
   "source": [
    "#### H7: Best from above, batch normalization\n",
    "\n",
    "* DNN Structure: \n",
    "* Dropout: 0.5\n",
    "* Class weights: \n",
    "* Batch normalization: yes\n"
   ]
  },
  {
   "cell_type": "code",
   "execution_count": null,
   "metadata": {},
   "outputs": [],
   "source": [
    "model = get_model(n1, n2, 0.5, batch_normalization=True).to(device)\n",
    "run_trial(\"h7\", model)"
   ]
  },
  {
   "cell_type": "markdown",
   "metadata": {},
   "source": [
    "#### Summary: Best hyperparameters"
   ]
  },
  {
   "cell_type": "code",
   "execution_count": null,
   "metadata": {
    "pycharm": {
     "is_executing": false
    }
   },
   "outputs": [],
   "source": [
    "optimal_n1 = 1024\n",
    "optimal_n2 = 128\n",
    "optimal_d = 0.1\n"
   ]
  },
  {
   "cell_type": "markdown",
   "metadata": {},
   "source": [
    "## Train with all C2 data and optimal hyperparameters"
   ]
  },
  {
   "cell_type": "code",
   "execution_count": null,
   "metadata": {
    "pycharm": {
     "is_executing": false
    },
    "scrolled": false
   },
   "outputs": [],
   "source": [
    "model = get_model(optimal_n1, optimal_n2, optimal_d)\n",
    "# model.load_state_dict(torch.load('cnn_pytorch_c2.pt'))\n",
    "y_hat_test = train_and_test(model, group_3(), num_epochs=40)\n",
    "predictions_file = \"predict_c2_{}.csv\".format(shortuuid.uuid())\n",
    "print('predictions file:', predictions_file)\n",
    "predict_whole_images(y_hat_test, PATCH_ROWS, PATCH_COLUMNS, predictions_file)"
   ]
  }
 ],
 "metadata": {
  "kernelspec": {
   "display_name": "Python 3",
   "language": "python",
   "name": "python3"
  },
  "language_info": {
   "codemirror_mode": {
    "name": "ipython",
    "version": 3
   },
   "file_extension": ".py",
   "mimetype": "text/x-python",
   "name": "python",
   "nbconvert_exporter": "python",
   "pygments_lexer": "ipython3",
   "version": "3.7.7"
  },
  "pycharm": {
   "stem_cell": {
    "cell_type": "raw",
    "metadata": {
     "collapsed": false
    },
    "source": []
   }
  }
 },
 "nbformat": 4,
 "nbformat_minor": 4
}
