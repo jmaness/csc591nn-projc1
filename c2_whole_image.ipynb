{
  "nbformat": 4,
  "nbformat_minor": 0,
  "metadata": {
    "kernelspec": {
      "name": "python3",
      "display_name": "Python 3"
    },
    "language_info": {
      "codemirror_mode": {
        "name": "ipython",
        "version": 3
      },
      "file_extension": ".py",
      "mimetype": "text/x-python",
      "name": "python",
      "nbconvert_exporter": "python",
      "pygments_lexer": "ipython3",
      "version": "3.7.7"
    },
    "pycharm": {
      "stem_cell": {
        "cell_type": "raw",
        "metadata": {
          "collapsed": false
        },
        "source": []
      }
    },
    "colab": {
      "name": "c2_whole_image.ipynb",
      "provenance": [],
      "collapsed_sections": [],
      "toc_visible": true
    },
    "accelerator": "GPU"
  },
  "cells": [
    {
      "cell_type": "code",
      "metadata": {
        "id": "PXjHzAiE7fEC",
        "colab_type": "code",
        "colab": {
          "base_uri": "https://localhost:8080/",
          "height": 1000
        },
        "outputId": "b3f22b73-2c8c-46d6-9af6-3f9391b1e90a"
      },
      "source": [
        "!pip install matplotlib\n",
        "!pip install numpy\n",
        "!pip install opencv-python\n",
        "!pip install opencv-contrib-python==3.4.2.17\n",
        "!pip install pandas\n",
        "!pip install pillow\n",
        "!pip install scikit-learn\n",
        "!pip install scikit-image\n",
        "!pip install scikit-optimize\n",
        "!pip install shortuuid\n",
        "!pip install torch\n",
        "!pip install torchsummary\n",
        "!pip install torchvision\n"
      ],
      "execution_count": 3,
      "outputs": [
        {
          "output_type": "stream",
          "text": [
            "Requirement already satisfied: matplotlib in /usr/local/lib/python3.6/dist-packages (3.2.1)\n",
            "Requirement already satisfied: cycler>=0.10 in /usr/local/lib/python3.6/dist-packages (from matplotlib) (0.10.0)\n",
            "Requirement already satisfied: numpy>=1.11 in /usr/local/lib/python3.6/dist-packages (from matplotlib) (1.18.2)\n",
            "Requirement already satisfied: pyparsing!=2.0.4,!=2.1.2,!=2.1.6,>=2.0.1 in /usr/local/lib/python3.6/dist-packages (from matplotlib) (2.4.7)\n",
            "Requirement already satisfied: python-dateutil>=2.1 in /usr/local/lib/python3.6/dist-packages (from matplotlib) (2.8.1)\n",
            "Requirement already satisfied: kiwisolver>=1.0.1 in /usr/local/lib/python3.6/dist-packages (from matplotlib) (1.2.0)\n",
            "Requirement already satisfied: six in /usr/local/lib/python3.6/dist-packages (from cycler>=0.10->matplotlib) (1.12.0)\n",
            "Requirement already satisfied: numpy in /usr/local/lib/python3.6/dist-packages (1.18.2)\n",
            "Requirement already satisfied: opencv-python in /usr/local/lib/python3.6/dist-packages (4.1.2.30)\n",
            "Requirement already satisfied: numpy>=1.11.3 in /usr/local/lib/python3.6/dist-packages (from opencv-python) (1.18.2)\n",
            "Collecting opencv-contrib-python==3.4.2.17\n",
            "\u001b[?25l  Downloading https://files.pythonhosted.org/packages/61/29/fc60b2de1713aa92946992544329f20ccb5e4ba26290f403e04b7da44105/opencv_contrib_python-3.4.2.17-cp36-cp36m-manylinux1_x86_64.whl (30.6MB)\n",
            "\u001b[K     |████████████████████████████████| 30.6MB 94kB/s \n",
            "\u001b[?25hRequirement already satisfied: numpy>=1.11.3 in /usr/local/lib/python3.6/dist-packages (from opencv-contrib-python==3.4.2.17) (1.18.2)\n",
            "Installing collected packages: opencv-contrib-python\n",
            "  Found existing installation: opencv-contrib-python 4.1.2.30\n",
            "    Uninstalling opencv-contrib-python-4.1.2.30:\n",
            "      Successfully uninstalled opencv-contrib-python-4.1.2.30\n",
            "Successfully installed opencv-contrib-python-3.4.2.17\n"
          ],
          "name": "stdout"
        },
        {
          "output_type": "display_data",
          "data": {
            "application/vnd.colab-display-data+json": {
              "pip_warning": {
                "packages": [
                  "cv2"
                ]
              }
            }
          },
          "metadata": {
            "tags": []
          }
        },
        {
          "output_type": "stream",
          "text": [
            "Requirement already satisfied: pandas in /usr/local/lib/python3.6/dist-packages (1.0.3)\n",
            "Requirement already satisfied: pytz>=2017.2 in /usr/local/lib/python3.6/dist-packages (from pandas) (2018.9)\n",
            "Requirement already satisfied: numpy>=1.13.3 in /usr/local/lib/python3.6/dist-packages (from pandas) (1.18.2)\n",
            "Requirement already satisfied: python-dateutil>=2.6.1 in /usr/local/lib/python3.6/dist-packages (from pandas) (2.8.1)\n",
            "Requirement already satisfied: six>=1.5 in /usr/local/lib/python3.6/dist-packages (from python-dateutil>=2.6.1->pandas) (1.12.0)\n",
            "Requirement already satisfied: pillow in /usr/local/lib/python3.6/dist-packages (7.0.0)\n",
            "Requirement already satisfied: scikit-learn in /usr/local/lib/python3.6/dist-packages (0.22.2.post1)\n",
            "Requirement already satisfied: numpy>=1.11.0 in /usr/local/lib/python3.6/dist-packages (from scikit-learn) (1.18.2)\n",
            "Requirement already satisfied: scipy>=0.17.0 in /usr/local/lib/python3.6/dist-packages (from scikit-learn) (1.4.1)\n",
            "Requirement already satisfied: joblib>=0.11 in /usr/local/lib/python3.6/dist-packages (from scikit-learn) (0.14.1)\n",
            "Requirement already satisfied: scikit-image in /usr/local/lib/python3.6/dist-packages (0.16.2)\n",
            "Requirement already satisfied: scipy>=0.19.0 in /usr/local/lib/python3.6/dist-packages (from scikit-image) (1.4.1)\n",
            "Requirement already satisfied: matplotlib!=3.0.0,>=2.0.0 in /usr/local/lib/python3.6/dist-packages (from scikit-image) (3.2.1)\n",
            "Requirement already satisfied: networkx>=2.0 in /usr/local/lib/python3.6/dist-packages (from scikit-image) (2.4)\n",
            "Requirement already satisfied: pillow>=4.3.0 in /usr/local/lib/python3.6/dist-packages (from scikit-image) (7.0.0)\n",
            "Requirement already satisfied: imageio>=2.3.0 in /usr/local/lib/python3.6/dist-packages (from scikit-image) (2.4.1)\n",
            "Requirement already satisfied: PyWavelets>=0.4.0 in /usr/local/lib/python3.6/dist-packages (from scikit-image) (1.1.1)\n",
            "Requirement already satisfied: numpy>=1.13.3 in /usr/local/lib/python3.6/dist-packages (from scipy>=0.19.0->scikit-image) (1.18.2)\n",
            "Requirement already satisfied: pyparsing!=2.0.4,!=2.1.2,!=2.1.6,>=2.0.1 in /usr/local/lib/python3.6/dist-packages (from matplotlib!=3.0.0,>=2.0.0->scikit-image) (2.4.7)\n",
            "Requirement already satisfied: python-dateutil>=2.1 in /usr/local/lib/python3.6/dist-packages (from matplotlib!=3.0.0,>=2.0.0->scikit-image) (2.8.1)\n",
            "Requirement already satisfied: kiwisolver>=1.0.1 in /usr/local/lib/python3.6/dist-packages (from matplotlib!=3.0.0,>=2.0.0->scikit-image) (1.2.0)\n",
            "Requirement already satisfied: cycler>=0.10 in /usr/local/lib/python3.6/dist-packages (from matplotlib!=3.0.0,>=2.0.0->scikit-image) (0.10.0)\n",
            "Requirement already satisfied: decorator>=4.3.0 in /usr/local/lib/python3.6/dist-packages (from networkx>=2.0->scikit-image) (4.4.2)\n",
            "Requirement already satisfied: six>=1.5 in /usr/local/lib/python3.6/dist-packages (from python-dateutil>=2.1->matplotlib!=3.0.0,>=2.0.0->scikit-image) (1.12.0)\n",
            "Collecting scikit-optimize\n",
            "\u001b[?25l  Downloading https://files.pythonhosted.org/packages/5c/87/310b52debfbc0cb79764e5770fa3f5c18f6f0754809ea9e2fc185e1b67d3/scikit_optimize-0.7.4-py2.py3-none-any.whl (80kB)\n",
            "\u001b[K     |████████████████████████████████| 81kB 2.3MB/s \n",
            "\u001b[?25hRequirement already satisfied: scipy>=0.18.0 in /usr/local/lib/python3.6/dist-packages (from scikit-optimize) (1.4.1)\n",
            "Requirement already satisfied: joblib>=0.11 in /usr/local/lib/python3.6/dist-packages (from scikit-optimize) (0.14.1)\n",
            "Collecting pyaml>=16.9\n",
            "  Downloading https://files.pythonhosted.org/packages/15/c4/1310a054d33abc318426a956e7d6df0df76a6ddfa9c66f6310274fb75d42/pyaml-20.4.0-py2.py3-none-any.whl\n",
            "Requirement already satisfied: scikit-learn>=0.19.1 in /usr/local/lib/python3.6/dist-packages (from scikit-optimize) (0.22.2.post1)\n",
            "Requirement already satisfied: numpy>=1.11.0 in /usr/local/lib/python3.6/dist-packages (from scikit-optimize) (1.18.2)\n",
            "Requirement already satisfied: PyYAML in /usr/local/lib/python3.6/dist-packages (from pyaml>=16.9->scikit-optimize) (3.13)\n",
            "Installing collected packages: pyaml, scikit-optimize\n",
            "Successfully installed pyaml-20.4.0 scikit-optimize-0.7.4\n",
            "Collecting shortuuid\n",
            "  Downloading https://files.pythonhosted.org/packages/25/a6/2ecc1daa6a304e7f1b216f0896b26156b78e7c38e1211e9b798b4716c53d/shortuuid-1.0.1-py3-none-any.whl\n",
            "Installing collected packages: shortuuid\n",
            "Successfully installed shortuuid-1.0.1\n",
            "Requirement already satisfied: torch in /usr/local/lib/python3.6/dist-packages (1.4.0)\n",
            "Requirement already satisfied: torchsummary in /usr/local/lib/python3.6/dist-packages (1.5.1)\n",
            "Requirement already satisfied: torchvision in /usr/local/lib/python3.6/dist-packages (0.5.0)\n",
            "Requirement already satisfied: torch==1.4.0 in /usr/local/lib/python3.6/dist-packages (from torchvision) (1.4.0)\n",
            "Requirement already satisfied: numpy in /usr/local/lib/python3.6/dist-packages (from torchvision) (1.18.2)\n",
            "Requirement already satisfied: pillow>=4.1.1 in /usr/local/lib/python3.6/dist-packages (from torchvision) (7.0.0)\n",
            "Requirement already satisfied: six in /usr/local/lib/python3.6/dist-packages (from torchvision) (1.12.0)\n"
          ],
          "name": "stdout"
        }
      ]
    },
    {
      "cell_type": "code",
      "metadata": {
        "pycharm": {
          "is_executing": false
        },
        "scrolled": true,
        "id": "noqAinN-7cMw",
        "colab_type": "code",
        "colab": {}
      },
      "source": [
        "import copy\n",
        "import csv\n",
        "import cv2\n",
        "import glob\n",
        "import os\n",
        "import shutil\n",
        "import time\n",
        "from collections import Counter\n",
        "from datetime import timedelta\n",
        "import shortuuid\n",
        "\n",
        "from IPython.display import display\n",
        "import matplotlib.pyplot as plt\n",
        "import numpy as np\n",
        "import pandas as pd\n",
        "import torch\n",
        "import torch.nn as nn\n",
        "import torch.optim as optim\n",
        "from PIL import Image\n",
        "from scipy import stats\n",
        "from sklearn.model_selection import train_test_split\n",
        "from sklearn.utils import class_weight\n",
        "from torchvision import models, transforms\n",
        "\n",
        "def ann_file(data_dir):\n",
        "    return os.path.join(data_dir, \"TrainAnnotations.csv\")\n",
        "\n",
        "\n",
        "TRAIN_DATA_DIR = \"/content/drive/My Drive/TrainData-C2\"\n",
        "TRAIN_DATA_ANN_FILE = ann_file(TRAIN_DATA_DIR)\n",
        "\n",
        "TRAIN_SPLIT_DATA_DIR           = \"/tmp/data/train/split\"\n",
        "TRAIN_SPLIT_ANN_FILE           = ann_file(TRAIN_SPLIT_DATA_DIR)\n",
        "TRAIN_SPLIT_AUGMENTED_DATA_DIR = \"/tmp/data/train/augmented\"\n",
        "TRAIN_SPLIT_AUGMENTED_ANN_FILE = ann_file(TRAIN_SPLIT_AUGMENTED_DATA_DIR)\n",
        "\n",
        "TRAIN_ALL_AUGMENTED_DATA_DIR   = \"/tmp/data/train-all/augmented\"\n",
        "TRAIN_ALL_AUGMENTED_ANN_FILE   = ann_file(TRAIN_ALL_AUGMENTED_DATA_DIR)\n",
        "\n",
        "VAL_SPLIT_DATA_DIR         = \"/tmp/data/val/split\"\n",
        "VAL_SPLIT_ANN_FILE         = ann_file(VAL_SPLIT_DATA_DIR)\n",
        "\n",
        "TEST_DATA_DIR         = \"/content/drive/My Drive/TestData/\"\n"
      ],
      "execution_count": 0,
      "outputs": []
    },
    {
      "cell_type": "code",
      "metadata": {
        "id": "IxpfGGthD2xj",
        "colab_type": "code",
        "colab": {
          "base_uri": "https://localhost:8080/",
          "height": 127
        },
        "outputId": "1a14c0a6-2f3d-47ee-95d6-2a8f535b8e9b"
      },
      "source": [
        "from google.colab import drive\n",
        "drive.mount('/content/drive')"
      ],
      "execution_count": 1,
      "outputs": [
        {
          "output_type": "stream",
          "text": [
            "Go to this URL in a browser: https://accounts.google.com/o/oauth2/auth?client_id=947318989803-6bn6qk8qdgf4n4g3pfee6491hc0brc4i.apps.googleusercontent.com&redirect_uri=urn%3aietf%3awg%3aoauth%3a2.0%3aoob&response_type=code&scope=email%20https%3a%2f%2fwww.googleapis.com%2fauth%2fdocs.test%20https%3a%2f%2fwww.googleapis.com%2fauth%2fdrive%20https%3a%2f%2fwww.googleapis.com%2fauth%2fdrive.photos.readonly%20https%3a%2f%2fwww.googleapis.com%2fauth%2fpeopleapi.readonly\n",
            "\n",
            "Enter your authorization code:\n",
            "··········\n",
            "Mounted at /content/drive\n"
          ],
          "name": "stdout"
        }
      ]
    },
    {
      "cell_type": "markdown",
      "metadata": {
        "id": "QfRD-DhA7cM2",
        "colab_type": "text"
      },
      "source": [
        "## Enable GPU if available"
      ]
    },
    {
      "cell_type": "code",
      "metadata": {
        "pycharm": {
          "is_executing": false
        },
        "id": "NYQfmTAd7cM3",
        "colab_type": "code",
        "colab": {}
      },
      "source": [
        "device = torch.device(\"cuda:0\" if torch.cuda.is_available() else \"cpu\")"
      ],
      "execution_count": 0,
      "outputs": []
    },
    {
      "cell_type": "code",
      "metadata": {
        "id": "qG8hTxRoFwUX",
        "colab_type": "code",
        "colab": {
          "base_uri": "https://localhost:8080/",
          "height": 35
        },
        "outputId": "a5f5199b-2be9-4f9b-eae4-3c436cb075ce"
      },
      "source": [
        "device"
      ],
      "execution_count": 6,
      "outputs": [
        {
          "output_type": "execute_result",
          "data": {
            "text/plain": [
              "device(type='cuda', index=0)"
            ]
          },
          "metadata": {
            "tags": []
          },
          "execution_count": 6
        }
      ]
    },
    {
      "cell_type": "markdown",
      "metadata": {
        "id": "ewAYY8cR7cM7",
        "colab_type": "text"
      },
      "source": [
        "## Split data\n",
        "Generate random, stratified 80/20 split for training and validation sets"
      ]
    },
    {
      "cell_type": "code",
      "metadata": {
        "id": "oQu2uA8y7cM8",
        "colab_type": "code",
        "colab": {
          "base_uri": "https://localhost:8080/",
          "height": 143
        },
        "outputId": "7513456c-8b04-4262-d716-067df9fb0759"
      },
      "source": [
        "if (os.path.exists(TRAIN_SPLIT_DATA_DIR) or os.path.exists(VAL_SPLIT_DATA_DIR)):\n",
        "    print(\"Data directories for splits already exist. Skipping\")\n",
        "else:\n",
        "    # Generate 80/20 split\n",
        "\n",
        "    print(\"Reading {} annotations...\".format(TRAIN_DATA_ANN_FILE))\n",
        "    ann_df = pd.read_csv(TRAIN_DATA_ANN_FILE, dtype={'file_name': 'object', 'annotation': 'category'})\n",
        "\n",
        "    print(\"Splitting data into training and validation sets...\")\n",
        "    train_df, val_df = train_test_split(ann_df,\n",
        "                                        train_size=0.80,\n",
        "                                        random_state=138,\n",
        "                                        shuffle=True,\n",
        "                                        stratify=ann_df[['annotation']].to_numpy(dtype=np.int32).flatten())\n",
        "\n",
        "    os.makedirs(TRAIN_SPLIT_DATA_DIR)\n",
        "    os.makedirs(VAL_SPLIT_DATA_DIR)\n",
        "    \n",
        "    print(\"Copying files for training split...\")\n",
        "    for _, row in train_df.iterrows():\n",
        "        filename = row['file_name']\n",
        "        src = os.path.join(TRAIN_DATA_DIR, filename)\n",
        "        dest = os.path.join(TRAIN_SPLIT_DATA_DIR, filename)\n",
        "        shutil.copyfile(src, dest)\n",
        "        \n",
        "    print(\"Generating training split annotations...\")\n",
        "    train_df.sort_values('file_name').to_csv(TRAIN_SPLIT_ANN_FILE, index=False)\n",
        "        \n",
        "    print(\"Copying files for validation split...\")\n",
        "    for _, row in val_df.iterrows():\n",
        "        filename = row['file_name']\n",
        "        src = os.path.join(TRAIN_DATA_DIR, filename)\n",
        "        dest = os.path.join(VAL_SPLIT_DATA_DIR, filename)\n",
        "        shutil.copyfile(src, dest)\n",
        "        \n",
        "    print(\"Generating validation split annotations...\")\n",
        "    val_df.sort_values('file_name').to_csv(VAL_SPLIT_ANN_FILE, index=False)\n",
        "        \n",
        "    print(\"Done.\")"
      ],
      "execution_count": 7,
      "outputs": [
        {
          "output_type": "stream",
          "text": [
            "Reading /content/drive/My Drive/TrainData-C2/TrainAnnotations.csv annotations...\n",
            "Splitting data into training and validation sets...\n",
            "Copying files for training split...\n",
            "Generating training split annotations...\n",
            "Copying files for validation split...\n",
            "Generating validation split annotations...\n",
            "Done.\n"
          ],
          "name": "stdout"
        }
      ]
    },
    {
      "cell_type": "markdown",
      "metadata": {
        "id": "FIXAqD5j7cNB",
        "colab_type": "text"
      },
      "source": [
        "## Augment data\n",
        "Because the training dataset is unbalanced, augment the training data set by generating\n",
        "new images for the lower numbered samples."
      ]
    },
    {
      "cell_type": "markdown",
      "metadata": {
        "id": "NofMYY9M7cNC",
        "colab_type": "text"
      },
      "source": [
        "\n"
      ]
    },
    {
      "cell_type": "code",
      "metadata": {
        "pycharm": {
          "is_executing": false,
          "name": "#%%\n"
        },
        "id": "aGyzq4Jg7cNE",
        "colab_type": "code",
        "colab": {}
      },
      "source": [
        "RANDOM_STATE = 13\n",
        "\n",
        "IMG_EXTENSIONS = ('.jpg', '.jpeg', '.png', '.ppm', '.bmp', '.pgm', '.tif', '.tiff', '.webp')\n",
        "\n",
        "\n",
        "def is_image_file(filename):\n",
        "    return filename.endswith(IMG_EXTENSIONS)\n",
        "\n",
        "\n",
        "def augment_data(src_dir, src_ann_file, dest_dir, dest_ann_file, class_sample_count=500):\n",
        "    os.makedirs(dest_dir)\n",
        "\n",
        "    ann_df = pd.read_csv(src_ann_file, dtype={'file_name': 'object', 'annotation': 'category'}) \n",
        "    new_samples = {}\n",
        "    \n",
        "    for i in range(5):\n",
        "        class_df = ann_df.query(\"annotation == '{}'\".format(i))\n",
        "        num_class_samples = class_df.shape[0]\n",
        "        num_to_create = class_sample_count - num_class_samples\n",
        "            \n",
        "        print(\"Creating {} images for class {}\".format(num_to_create, i))\n",
        "        samples = class_df.sample(n=num_to_create, replace=True, random_state=RANDOM_STATE)\n",
        "    \n",
        "        for idx, row in samples.iterrows():\n",
        "            new_filename = row['file_name'].split('.')[0] + \"_\" + shortuuid.uuid() + \".png\"\n",
        "    \n",
        "            # Apply transformations to each randomly selected sample\n",
        "            img = Image.open(src_dir + \"/\" + row['file_name'])\n",
        "            image_transforms = transforms.Compose([\n",
        "                transforms.RandomAffine(degrees=20, translate=(0.2, 0.2)),\n",
        "                transforms.ColorJitter(brightness=0.1, contrast=0.1, saturation=0.1, hue=0.1),\n",
        "                transforms.RandomResizedCrop((480, 640), scale=(1.0, 1.2)),\n",
        "            ])\n",
        "            transformed_img = image_transforms(img)\n",
        "            transformed_img.save(os.path.join(dest_dir, new_filename))\n",
        "    \n",
        "            new_samples[new_filename] = row['annotation']\n",
        "    \n",
        "    # Add to new dataframe\n",
        "    balanced_df = pd.read_csv(src_ann_file, dtype={'file_name': 'object', 'annotation': 'category'})\n",
        "    balanced_df = balanced_df.append(pd.DataFrame.from_records([(k, v) for k, v in new_samples.items()],\n",
        "                                                 columns=['file_name', 'annotation']))\n",
        "    \n",
        "    # Write new annotations\n",
        "    balanced_df.sort_values('file_name').to_csv(dest_ann_file, index=False)\n",
        "    \n",
        "    # Copy images from training data split\n",
        "    for file in glob.glob(src_dir + \"/*\"):\n",
        "        if is_image_file(file):\n",
        "            shutil.copy(file, os.path.join(dest_dir, os.path.basename(file)))\n",
        "\n",
        "\n",
        "\n"
      ],
      "execution_count": 0,
      "outputs": []
    },
    {
      "cell_type": "markdown",
      "metadata": {
        "pycharm": {
          "name": "#%% md\n"
        },
        "id": "vd_Rqbpq7cNI",
        "colab_type": "text"
      },
      "source": [
        "### Run data augmentation\n",
        "\n",
        "Perform the data augmentation on the training data set split to balance the class samples."
      ]
    },
    {
      "cell_type": "code",
      "metadata": {
        "pycharm": {
          "is_executing": false,
          "name": "#%%\n"
        },
        "id": "VW9-Evfi7cNJ",
        "colab_type": "code",
        "colab": {
          "base_uri": "https://localhost:8080/",
          "height": 269
        },
        "outputId": "c3cf0bef-7ea2-4fc4-ead4-44e8a84911f5"
      },
      "source": [
        "if os.path.exists(TRAIN_SPLIT_AUGMENTED_DATA_DIR):\n",
        "    print(\"Augmented SPLIT training data already exists. Skipping.\")\n",
        "else:\n",
        "    print(\"Balancing class samples for SPLIT training data...\")\n",
        "    augment_data(TRAIN_SPLIT_DATA_DIR,\n",
        "                 TRAIN_SPLIT_ANN_FILE,\n",
        "                 TRAIN_SPLIT_AUGMENTED_DATA_DIR,\n",
        "                 TRAIN_SPLIT_AUGMENTED_ANN_FILE,\n",
        "                 class_sample_count=400)    \n",
        "    print(\"Done.\")\n",
        "\n",
        "if os.path.exists(TRAIN_ALL_AUGMENTED_DATA_DIR):\n",
        "    print(\"Augmented ALL training data already exists. Skipping.\")\n",
        "else:\n",
        "    print(\"Balancing class samples for ALL training data...\")\n",
        "    augment_data(TRAIN_DATA_DIR,\n",
        "                 TRAIN_DATA_ANN_FILE,\n",
        "                 TRAIN_ALL_AUGMENTED_DATA_DIR,\n",
        "                 TRAIN_ALL_AUGMENTED_ANN_FILE,\n",
        "                 class_sample_count=500)\n",
        "    print(\"Done.\")"
      ],
      "execution_count": 9,
      "outputs": [
        {
          "output_type": "stream",
          "text": [
            "Balancing class samples for SPLIT training data...\n",
            "Creating 10 images for class 0\n",
            "Creating 137 images for class 1\n",
            "Creating 296 images for class 2\n",
            "Creating 295 images for class 3\n",
            "Creating 242 images for class 4\n",
            "Done.\n",
            "Balancing class samples for ALL training data...\n",
            "Creating 12 images for class 0\n",
            "Creating 171 images for class 1\n",
            "Creating 370 images for class 2\n",
            "Creating 369 images for class 3\n",
            "Creating 303 images for class 4\n",
            "Done.\n"
          ],
          "name": "stdout"
        }
      ]
    },
    {
      "cell_type": "markdown",
      "metadata": {
        "pycharm": {
          "name": "#%% md\n"
        },
        "id": "Ka1mtady7cNN",
        "colab_type": "text"
      },
      "source": [
        "## Datasets\n",
        "\n",
        "Given a directory of images and a CSV file of annotations, this defines a PyTorch Dataset which will load an image from disk and apply all configure transformations and return a tuple containing the image and label.\n"
      ]
    },
    {
      "cell_type": "code",
      "metadata": {
        "pycharm": {
          "is_executing": false
        },
        "scrolled": true,
        "id": "7MB1CoV27cNO",
        "colab_type": "code",
        "colab": {}
      },
      "source": [
        "class SoybeanDataset(torch.utils.data.dataset.Dataset):\n",
        "    def __init__(self, data_path, ann_df, transforms=None):\n",
        "        \"\"\"\n",
        "        Args:\n",
        "            data_path (string): path to images\n",
        "            ann_df (string): pandas data frame containing file names and annotations\n",
        "            transform: pytorch transforms for transforms and tensor conversion\n",
        "        \"\"\"\n",
        "        self.data_path = data_path\n",
        "        \n",
        "        self.data = ann_df\n",
        "        self.labels = np.asarray(self.data.iloc[:, 1])\n",
        "        \n",
        "        self.transforms = transforms\n",
        "\n",
        "    def __getitem__(self, index):\n",
        "        #print('index:', index)\n",
        "        image_label = int(self.labels[index])\n",
        "        img_path = os.path.join(self.data_path, self.data.file_name[index])\n",
        "\n",
        "        img = Image.open(img_path)\n",
        "        \n",
        "        # Transform image\n",
        "        if self.transforms is not None:\n",
        "            img = self.transforms(img)\n",
        "            \n",
        "        # Return image and the label\n",
        "        return img, image_label\n",
        "\n",
        "    def __len__(self):\n",
        "        return self.data.shape[0]\n",
        "\n",
        "\n",
        "class SoybeanTestDatasetFolder(torch.utils.data.IterableDataset):\n",
        "    def __init__(self, data_path, transforms=None):\n",
        "        \"\"\"\n",
        "        Args:\n",
        "            data_path (string): path to images\n",
        "            transform: pytorch transforms for transforms and tensor conversion\n",
        "        \"\"\"\n",
        "        self.data_path = data_path\n",
        "        self.transforms = transforms\n",
        "        \n",
        "        self.images = []\n",
        "        \n",
        "        for root, _, fnames in sorted(os.walk(data_path, followlinks=True)):\n",
        "            for fname in sorted(fnames):\n",
        "                path = fname\n",
        "                if is_image_file(path):\n",
        "                    self.images.append(path)\n",
        "\n",
        "                                       \n",
        "    def image_gen(self):\n",
        "        for i in self.images:\n",
        "            img_path = os.path.join(self.data_path, i)\n",
        "            img = Image.open(img_path)\n",
        "        \n",
        "            # Transform image\n",
        "            if self.transforms is not None:\n",
        "                img = self.transforms(img)\n",
        "                \n",
        "            yield img\n",
        "            \n",
        "\n",
        "    def __iter__(self):\n",
        "        return iter(self.image_gen())\n",
        "\n",
        "    \n",
        "    def __len__(self):\n",
        "        return len(self.images)\n",
        "    \n",
        "\n",
        "\n",
        "class SoybeanDataGroup():\n",
        "    def __init__(self, class_weights, \n",
        "                 train_dataloader,\n",
        "                 val_dataloader=None,\n",
        "                 test_dataloader=None):\n",
        "        self.class_weights = class_weights\n",
        "        self.train_dataloader = train_dataloader\n",
        "        self.val_dataloader = val_dataloader\n",
        "        self.test_dataloader = test_dataloader\n",
        "\n",
        "\n",
        "def compute_class_weights(df, y_col):\n",
        "    \"\"\"\n",
        "    Returns a list of class labels to 'balanced' weights based on the\n",
        "    frequency of the weights across the labels in the specified dataframe\n",
        "    \"\"\"\n",
        "    y = df[[y_col]].to_numpy(dtype=np.int32).flatten()\n",
        "    weights = class_weight.compute_class_weight('balanced', np.unique(y), y)\n",
        "    return torch.tensor(weights, dtype=torch.float32).to(device)\n",
        "    \n"
      ],
      "execution_count": 0,
      "outputs": []
    },
    {
      "cell_type": "markdown",
      "metadata": {
        "id": "YO5a1hNZ7cNS",
        "colab_type": "text"
      },
      "source": [
        "### Common image transformations\n",
        "These images transformations will apply to both train and validation data."
      ]
    },
    {
      "cell_type": "code",
      "metadata": {
        "pycharm": {
          "is_executing": false
        },
        "id": "hMVSt8Lt7cNS",
        "colab_type": "code",
        "colab": {}
      },
      "source": [
        "class SamplewiseCenterNormalize(object):\n",
        "\n",
        "    def __init__(self):\n",
        "        pass\n",
        "    \n",
        "    def __call__(self, tensor):\n",
        "        \"\"\"\n",
        "        Args:\n",
        "            tensor (Tensor): Tensor image of size (C, H, W) to be normalized.\n",
        "\n",
        "        Returns:\n",
        "            Tensor: Normalized Tensor image.\n",
        "        \"\"\"\n",
        "        \n",
        "        return torch.div(torch.add(tensor, torch.mul(torch.mean(tensor), -1)), torch.std(tensor) + 1e-6)\n",
        "        \n",
        "\n",
        "    def __repr__(self):\n",
        "        return self.__class__.__name__\n",
        "\n",
        "\n",
        "\n",
        "DATA_TRANSFORMS = transforms.Compose([\n",
        "    transforms.RandomHorizontalFlip(),\n",
        "    #transforms.RandomAffine(degrees=20, translate=(0.2, 0.2)),\n",
        "    transforms.RandomAffine(degrees=20, translate=(0.2, 0.2), shear=10, scale=(1.0, 1.2)),\n",
        "    transforms.ColorJitter(brightness=0.1, contrast=0.1, saturation=0.1, hue=0.1),\n",
        "    #transforms.RandomCrop(size=(480,640)),\n",
        "    transforms.ToTensor(),\n",
        "    # transforms.Normalize((0.5, 0.5, 0.5), (0.5, 0.5, 0.5))\n",
        "    # SamplewiseCenterNormalize()\n",
        "\n",
        "    transforms.Normalize((0.485, 0.456, 0.406), (0.229, 0.224, 0.225))\n",
        "])\n",
        "\n",
        "TEST_DATA_TRANSFORMS = transforms.Compose([\n",
        "    transforms.ToTensor(),\n",
        "    # transforms.Normalize((0.5, 0.5, 0.5), (0.5, 0.5, 0.5))\n",
        "    # SamplewiseCenterNormalize()\n",
        "    transforms.Normalize((0.485, 0.456, 0.406), (0.229, 0.224, 0.225))\n",
        "])"
      ],
      "execution_count": 0,
      "outputs": []
    },
    {
      "cell_type": "markdown",
      "metadata": {
        "id": "NXx52-qM7cNU",
        "colab_type": "text"
      },
      "source": [
        "### Train 0.80/Val 0.20 Split"
      ]
    },
    {
      "cell_type": "code",
      "metadata": {
        "pycharm": {
          "is_executing": false
        },
        "id": "U9P2484z7cNV",
        "colab_type": "code",
        "colab": {}
      },
      "source": [
        "def train_val_split_group(class_weights=None):\n",
        "    \n",
        "    print(\"Reading annotations...\")\n",
        "    train_ann_df = pd.read_csv(TRAIN_SPLIT_AUGMENTED_ANN_FILE, dtype={'file_name': 'object', 'annotation': 'category'})\n",
        "    val_ann_df   = pd.read_csv(VAL_SPLIT_ANN_FILE, dtype={'file_name': 'object', 'annotation': 'category'})\n",
        "    \n",
        "    if class_weights is None:\n",
        "        print(\"Computing class weights...\")\n",
        "        class_weights = compute_class_weights(train_ann_df, 'annotation')\n",
        "        print(class_weights)\n",
        "    else:\n",
        "        print(\"Using class weights:\", class_weights)\n",
        "        \n",
        "    train_dataset = SoybeanDataset(TRAIN_SPLIT_AUGMENTED_DATA_DIR, train_ann_df, transforms=DATA_TRANSFORMS)\n",
        "    val_dataset = SoybeanDataset(VAL_SPLIT_DATA_DIR, val_ann_df, transforms=TEST_DATA_TRANSFORMS)\n",
        "    test_dataset  = SoybeanTestDatasetFolder(TEST_DATA_DIR, transforms=TEST_DATA_TRANSFORMS)\n",
        "    \n",
        "    train_dataloader = torch.utils.data.DataLoader(train_dataset, \n",
        "                                                   batch_size=BATCH_SIZE,\n",
        "                                                   pin_memory=True, \n",
        "                                                   num_workers=16)\n",
        "    val_dataloader = torch.utils.data.DataLoader(val_dataset,\n",
        "                                                 batch_size=BATCH_SIZE,\n",
        "                                                 pin_memory=True,\n",
        "                                                 num_workers=16)\n",
        "    test_dataloader = torch.utils.data.DataLoader(test_dataset,\n",
        "                                                  batch_size=BATCH_SIZE,\n",
        "                                                  pin_memory=True,\n",
        "                                                  num_workers=0)\n",
        "    \n",
        "    return SoybeanDataGroup(class_weights, train_dataloader, val_dataloader, test_dataloader)\n"
      ],
      "execution_count": 0,
      "outputs": []
    },
    {
      "cell_type": "markdown",
      "metadata": {
        "id": "DBkL7NWZ7cNW",
        "colab_type": "text"
      },
      "source": [
        "### Train 100%\n",
        "\n",
        "Train with all the data in the `TrainData-C2` dataset "
      ]
    },
    {
      "cell_type": "code",
      "metadata": {
        "pycharm": {
          "is_executing": false
        },
        "id": "m0_EUTtT7cNX",
        "colab_type": "code",
        "colab": {}
      },
      "source": [
        "def all_train_data_group(class_weights=None):\n",
        "    print(\"Reading annotations...\")\n",
        "    ann_df = pd.read_csv(TRAIN_DATA_AUGMENTED_ANN_FILE, dtype={'file_name': 'object', 'annotation': 'category'})\n",
        "    \n",
        "    if class_weights is None:\n",
        "        print(\"Computing class weights...\")\n",
        "        class_weights = compute_class_weights(ann_df, 'annotation')\n",
        "        print(class_weights)\n",
        "    else:\n",
        "        print(\"Using class weights:\", class_weights)\n",
        "\n",
        "    train_dataset = SoybeanDataset(TRAIN_DATA_AUGMENTED_DATA_DIR, ann_df, transforms=DATA_TRANSFORMS)\n",
        "    test_dataset  = SoybeanTestDatasetFolder(TEST_DATA_DIR, transforms=TEST_DATA_TRANSFORMS)\n",
        "    \n",
        "    train_dataloader = torch.utils.data.DataLoader(train_dataset, \n",
        "                                                   batch_size=BATCH_SIZE,\n",
        "                                                   pin_memory=True, \n",
        "                                                   num_workers=16)\n",
        "    \n",
        "    test_dataloader = torch.utils.data.DataLoader(test_dataset,\n",
        "                                                  batch_size=BATCH_SIZE,\n",
        "                                                  pin_memory=True,\n",
        "                                                  num_workers=0)\n",
        "    \n",
        "    return SoybeanDataGroup(class_weights, train_dataloader, None, test_dataloader)"
      ],
      "execution_count": 0,
      "outputs": []
    },
    {
      "cell_type": "markdown",
      "metadata": {
        "id": "b2gd8pv57cNZ",
        "colab_type": "text"
      },
      "source": [
        "## Model\n",
        "\n",
        "This model is based on the VGG16 network with custom classifier layers \n",
        "with the feature layers initialized with weights based on the ImageNet data. \n",
        "\n",
        "The number of neurons and dropout rates in the classifier layers are parameterized."
      ]
    },
    {
      "cell_type": "code",
      "metadata": {
        "pycharm": {
          "is_executing": false
        },
        "id": "aw8JROHi7cNZ",
        "colab_type": "code",
        "colab": {}
      },
      "source": [
        "def get_model(n1, n2, dropout, batch_normalization=False):\n",
        "    if batch_normalization:\n",
        "        model = models.vgg16_bn(pretrained=True)\n",
        "    else:\n",
        "        model = models.vgg16(pretrained=True) \n",
        "\n",
        "    # Freeze training for all layers\n",
        "    for param in model.features.parameters():\n",
        "        param.requires_grad = False\n",
        "\n",
        "    model.avgpool = nn.AdaptiveAvgPool2d((1,1))\n",
        "    \n",
        "    # Replace the VGG16 classifier with a custom classifier for soybean wilting \n",
        "    model.classifier = nn.Sequential(\n",
        "        nn.Linear(512 * 1 * 1, n1, bias=True),\n",
        "        nn.ReLU(),\n",
        "        nn.Dropout(p=dropout),\n",
        "        nn.Linear(n1, n2, bias=True),\n",
        "        nn.ReLU(),\n",
        "        nn.Dropout(p=dropout),\n",
        "        nn.Linear(n2, 5, bias=True)\n",
        "    )\n",
        "    \n",
        "    return model"
      ],
      "execution_count": 0,
      "outputs": []
    },
    {
      "cell_type": "markdown",
      "metadata": {
        "id": "WwZpxLMY7cNc",
        "colab_type": "text"
      },
      "source": [
        "## Training loop\n",
        "For training and validation, this trains a model across a configured number of epochs and outputs the training and validation loss and accuracy for each epoch."
      ]
    },
    {
      "cell_type": "code",
      "metadata": {
        "pycharm": {
          "is_executing": false
        },
        "id": "5C6V4fu97cNc",
        "colab_type": "code",
        "colab": {}
      },
      "source": [
        "def train_model(model, criterion, optimizer, dataloaders, num_epochs=25):\n",
        "    \"\"\"\n",
        "    Trains the specified neural network model\n",
        "    \n",
        "    Args:\n",
        "        model:         - neural network model to train\n",
        "        criterion:     - loss function\n",
        "        optimizer:     - gradient descent optimization algorithm\n",
        "        dataloaders:   - dict of DataLoaders for training and validation data\n",
        "        num_epochs:    - number of epochs to train model\n",
        "    Returns:\n",
        "        model   - trained model with weights from the epoch with the best validation accuracy\n",
        "        history - dict of training and validation loss and accuracy for all epochs\n",
        "    \"\"\"\n",
        "    since = time.time()\n",
        "    \n",
        "    # summary(model, input_size=(3, 224, 224))\n",
        "\n",
        "    best_model_wts = copy.deepcopy(model.state_dict())\n",
        "    best_acc = 0.0\n",
        "    \n",
        "    history = {'train': {'loss': [], 'acc': []}}\n",
        "    phases = ['train']\n",
        "    if ('val' in dataloaders and dataloaders['val'] is not None):\n",
        "        phases += ['val']\n",
        "        history['val'] = {'loss': [], 'acc': []}\n",
        "    \n",
        "    \n",
        "    for epoch in range(num_epochs):\n",
        "        epoch_start = time.time()\n",
        "        \n",
        "        print('Epoch {}/{}'.format(epoch, num_epochs - 1))\n",
        "        print('-' * 10)\n",
        "\n",
        "        # Each epoch has a training and optionally, a validation phase\n",
        "        for phase in phases:\n",
        "            if phase == 'train':\n",
        "                model.train()  # Set model to training mode\n",
        "            else:\n",
        "                model.eval()   # Set model to evaluate mode\n",
        "                \n",
        "            phase_start = time.time()\n",
        "\n",
        "            sample_count = 0\n",
        "            running_loss = 0.0\n",
        "            running_corrects = 0\n",
        "\n",
        "            # Iterate over data.\n",
        "            for inputs, labels in dataloaders[phase]:               \n",
        "                inputs = inputs.to(device)\n",
        "                labels = labels.to(device)\n",
        "\n",
        "                # zero the parameter gradients\n",
        "                optimizer.zero_grad()\n",
        "\n",
        "                # forward\n",
        "                # track history if only in train\n",
        "                with torch.set_grad_enabled(phase == 'train'):\n",
        "                    outputs = model(inputs)\n",
        "                    _, preds = torch.max(outputs, 1)\n",
        "                    loss = criterion(outputs, labels)\n",
        "\n",
        "                    # backward + optimize only if in training phase\n",
        "                    if phase == 'train':\n",
        "                        loss.backward()\n",
        "                        nn.utils.clip_grad_norm_(model.parameters(), 1)\n",
        "                        nn.utils.clip_grad_value_(model.parameters(), 0.5)\n",
        "                        optimizer.step()\n",
        "\n",
        "                # statistics\n",
        "                sample_count += inputs.size(0)\n",
        "                running_loss += loss.item() * inputs.size(0)\n",
        "                running_corrects += preds.eq(labels.data.view_as(preds)).cpu().sum()\n",
        "            \n",
        "            print('Num samples', sample_count)\n",
        "            \n",
        "            epoch_loss = running_loss / sample_count\n",
        "            epoch_acc = running_corrects.double() / sample_count\n",
        "            \n",
        "            history[phase]['loss'].append(epoch_loss)\n",
        "            history[phase]['acc'].append(epoch_acc)\n",
        "            \n",
        "            phase_end = time.time()\n",
        "            phase_elapsed = phase_end - phase_start\n",
        "\n",
        "            print('{} {} loss: {:.4f} accuracy: {:.4f}'.format(\n",
        "                phase, str(timedelta(seconds=phase_elapsed)), epoch_loss, epoch_acc))\n",
        "\n",
        "            # deep copy the model\n",
        "            if ('val' not in phases or phase == 'val') and epoch_acc > best_acc:\n",
        "                best_acc = epoch_acc\n",
        "                best_model_wts = copy.deepcopy(model.state_dict())\n",
        "\n",
        "        epoch_end = time.time()\n",
        "        epoch_elapsed = epoch_end - epoch_start\n",
        "        print('Elapsed time: {}'.format(str(timedelta(seconds=epoch_elapsed))))\n",
        "        \n",
        "        print()\n",
        "        \n",
        "\n",
        "    time_elapsed = time.time() - since\n",
        "    print('Training complete in {:.0f}m {:.0f}s'.format(time_elapsed // 60, time_elapsed % 60))\n",
        "    print('Best acc: {:4f}'.format(best_acc))\n",
        "\n",
        "    # load best model weights\n",
        "    model.load_state_dict(best_model_wts)\n",
        "    \n",
        "    return model, history"
      ],
      "execution_count": 0,
      "outputs": []
    },
    {
      "cell_type": "markdown",
      "metadata": {
        "id": "35400hD97cNe",
        "colab_type": "text"
      },
      "source": [
        "## Train models"
      ]
    },
    {
      "cell_type": "code",
      "metadata": {
        "pycharm": {
          "is_executing": false
        },
        "scrolled": false,
        "id": "lsjkwx-Y7cNf",
        "colab_type": "code",
        "colab": {}
      },
      "source": [
        "BATCH_SIZE = 32\n",
        "\n",
        "def get_sample_count(dataset, sampler):\n",
        "    if (sampler is not None):\n",
        "        return len(sampler)\n",
        "    elif (dataset is not None):\n",
        "        return len(dataset)\n",
        "    else:\n",
        "        return None\n",
        "    \n",
        "\n",
        "def train(model, group, num_epochs=20):\n",
        "    criterion = nn.CrossEntropyLoss(weight=group.class_weights)\n",
        "    optimizer = optim.Adam(model.parameters(), lr=0.001, eps=1e-07)\n",
        "    \n",
        "    dataloaders = {\n",
        "        'train': group.train_dataloader,\n",
        "        'val': group.val_dataloader\n",
        "    }\n",
        " \n",
        "    model_trained, history = train_model(model, criterion, optimizer, dataloaders, num_epochs)\n",
        "    \n",
        "    \n",
        "    return model_trained, history\n",
        "\n",
        "\n",
        "def get_all_labels(loader):\n",
        "    all_labels = torch.tensor([], dtype=torch.long)\n",
        "    for batch in loader:\n",
        "        _, labels = batch\n",
        "        all_labels = torch.cat((all_labels, labels), dim=0)\n",
        "    return all_labels\n",
        "\n",
        "\n",
        "def plot_metrics(model, history, train_dataloader, val_dataloader=None):\n",
        "    \n",
        "    print()\n",
        "    print('Metrics')\n",
        "    print('-' * 10)\n",
        "    \n",
        "    # Create count of the number of epochs\n",
        "    epoch_count = range(1, len(history['train']['loss']) + 1)\n",
        "\n",
        "    # Visualize loss history\n",
        "    plt.plot(epoch_count, history['train']['loss'], 'g-')\n",
        "    loss_legend = ['Training Loss']\n",
        "    \n",
        "    if ('val' in history and history['val'] is not None):\n",
        "        plt.plot(epoch_count, history['val']['loss'], 'b-')\n",
        "        loss_legend += ['Validation Loss']\n",
        "        \n",
        "    plt.legend(loss_legend)\n",
        "    plt.xlabel('Epoch')\n",
        "    plt.ylabel('Loss')\n",
        "    plt.show()\n",
        "    \n",
        "    # Visualize accuracy history\n",
        "    plt.plot(epoch_count, history['train']['acc'], 'g-')\n",
        "    acc_legend = ['Training Accuracy']\n",
        "    \n",
        "    if ('val' in history and history['val'] is not None):\n",
        "        plt.plot(epoch_count, history['val']['acc'], 'b-')\n",
        "        acc_legend += ['Validation Accuracy']\n",
        "    \n",
        "    plt.legend(acc_legend)\n",
        "    plt.xlabel('Epoch')\n",
        "    plt.ylabel('Accuracy')\n",
        "    plt.show()\n",
        "    \n",
        "    \n",
        "    # Training confusion matrix\n",
        "    #train_predictions = predict(model, train_dataloader).cpu().numpy()\n",
        "    \n",
        "    #print(\"Training Confusion Matrix\")\n",
        "    #print(\"-\" * 30)\n",
        "    #print_confusion_matrix(get_all_labels(train_dataloader).cpu().numpy(),\n",
        "    #                       train_predictions)\n",
        "        \n",
        "    # Validation confusion matrix\n",
        "    #if val_dataloader is not None:\n",
        "    #    val_predictions = predict(model, val_dataloader).cpu().numpy()\n",
        "        \n",
        "    #    print(\"Validation Confusion Matrix\")\n",
        "    #    print(\"-\" * 30)\n",
        "    #    print_confusion_matrix(get_all_labels(val_dataloader).cpu().numpy(),\n",
        "    #                           val_predictions)\n",
        "        \n",
        "\n",
        "def train_and_test(model, group, num_epochs=60):\n",
        "    model_trained, history = train(model, group, num_epochs)\n",
        "    \n",
        "    # Plot history metrics\n",
        "    plot_metrics(model_trained, history, group.train_dataloader, group.val_dataloader)\n",
        "    \n",
        "    # Classify test data\n",
        "    return predict(model_trained, group.test_dataloader)\n",
        "\n",
        "\n",
        "def predict(model, dataloader):\n",
        "    predictions = torch.tensor([], dtype=torch.long).to(device)\n",
        "    \n",
        "    with torch.no_grad():\n",
        "        for data in dataloader:\n",
        "            if (type(data) is list):\n",
        "                images = data[0].to(device)\n",
        "            else:\n",
        "                images = data.to(device)\n",
        "            model.eval()\n",
        "            outputs = model(images)\n",
        "            _, predicted = torch.max(outputs, 1)\n",
        "            predictions = torch.cat((predictions, predicted))\n",
        "\n",
        "    return predictions\n",
        "\n",
        "def one_hot_encode_predictions(predictions, csvfile):\n",
        "\n",
        "    #for k, v in sorted(Counter(predictions).items()): \n",
        "    #    print(str(k) + ': '+ str(v))    \n",
        "\n",
        "    one_hots = [np.zeros((5,1)) for pred in predictions]\n",
        "    for i in range(len(one_hots)):\n",
        "        pred = predictions[i]  # the index of the one-hot encoding\n",
        "        one_hots[i][pred] = 1\n",
        "    with open(csvfile, 'w') as predictions_file:\n",
        "        writer = csv.writer(predictions_file)\n",
        "        for pred in one_hots:\n",
        "            pred = np.array(pred, dtype=int)\n",
        "            writer.writerow(pred.T.tolist()[0])\n",
        "    print('Finished generating predictions to', csvfile)\n",
        "\n",
        "\n",
        "def print_confusion_matrix(y, y_hat):\n",
        "    confusion_matrix = np.zeros((5, 5))\n",
        "    labels = [0, 1, 2, 3, 4]\n",
        "    for i in range(len(labels)):\n",
        "        for j in range(len(labels)):\n",
        "            ground_truth = y==labels[i]\n",
        "            prediction = y_hat==labels[j]\n",
        "            confusion_matrix[i, j] = sum(np.bitwise_and(ground_truth, prediction))\n",
        "    df = pd.DataFrame(confusion_matrix, dtype=int)\n",
        "    display(df)"
      ],
      "execution_count": 0,
      "outputs": []
    },
    {
      "cell_type": "markdown",
      "metadata": {
        "id": "0mbw-waF7cNg",
        "colab_type": "text"
      },
      "source": [
        "### Train and Test - 80/20 Split"
      ]
    },
    {
      "cell_type": "code",
      "metadata": {
        "pycharm": {
          "is_executing": false
        },
        "scrolled": true,
        "id": "UTDUHqwa7cNh",
        "colab_type": "code",
        "colab": {}
      },
      "source": [
        "model = get_model(1024, 128, 0.5).to(device)\n",
        "y_hat_test = train_and_test(model, train_val_split_group(), num_epochs=1)\n",
        "predictions_file = \"predict_c2_g1_\" + shortuuid.uuid()\n",
        "print('predictions file:', predictions_file)\n",
        "predict_whole_images(y_hat_test, 5, 5, predictions_file)"
      ],
      "execution_count": 0,
      "outputs": []
    },
    {
      "cell_type": "markdown",
      "metadata": {
        "id": "1nskqko77cNi",
        "colab_type": "text"
      },
      "source": [
        "### Train and Test - All Train Data\n"
      ]
    },
    {
      "cell_type": "code",
      "metadata": {
        "id": "Zt3yqV-U7cNj",
        "colab_type": "code",
        "colab": {}
      },
      "source": [
        "model = get_model(1024, 128, 0.1).to(device)\n",
        "y_hat_test = train_and_test(model, group_3())\n",
        "predict_whole_images(y_hat_test, 5, 5, 'predictions_c2_g3.csv')\n"
      ],
      "execution_count": 0,
      "outputs": []
    },
    {
      "cell_type": "markdown",
      "metadata": {
        "id": "Rx9eyrNE7cNk",
        "colab_type": "text"
      },
      "source": [
        "## Hyperparameter Optimization\n",
        "The following hyperparameters can be tuned:\n",
        "1. `n1` - Number of neurons in the first classifier dense layer\n",
        "2. `n2` - Number of neurons in the second classifier dense layer\n",
        "3. `d` - Dropout rate after classifier dense layers\n",
        "4. class weights - `[1,1,1,1,1]` (default) or `[1,1,5,5,1]`\n",
        "5. batch normalization - `no` or `yes`\n",
        "\n"
      ]
    },
    {
      "cell_type": "code",
      "metadata": {
        "id": "NYzqxiwl7cNl",
        "colab_type": "code",
        "colab": {}
      },
      "source": [
        "def run_trial(name, model, class_weights=None, num_epochs=40):\n",
        "    y_hat_test = train_and_test(model, train_val_split_group(class_weights), num_epochs)\n",
        "    predictions_file = \"predict_c2_whole_{}_{}.csv\".format(name, shortuuid.uuid())\n",
        "    print('predictions file:', predictions_file)\n",
        "    one_hot_encode_predictions(y_hat_test, predictions_file)\n",
        "\n",
        "    print('Test distribution:')\n",
        "    y_hat_test.bincount()\n",
        "    return y_hat_test"
      ],
      "execution_count": 0,
      "outputs": []
    },
    {
      "cell_type": "markdown",
      "metadata": {
        "id": "XQ6f-3Os7cNn",
        "colab_type": "text"
      },
      "source": [
        "#### H1: 1024-128-5\n",
        "\n",
        "* DNN Structure: 1024-128-5\n",
        "* Dropout: 0.5\n",
        "* Class weights: [1,1,1,1,1]\n",
        "* Batch normalization: no\n"
      ]
    },
    {
      "cell_type": "code",
      "metadata": {
        "id": "gIPG65Ma7cNn",
        "colab_type": "code",
        "colab": {
          "base_uri": "https://localhost:8080/",
          "height": 1000
        },
        "outputId": "4274e2b4-4e87-4416-cb9a-262c89baa6d2"
      },
      "source": [
        "model = get_model(1024, 128, 0.5).to(device)\n",
        "run_trial(\"h1\", model)"
      ],
      "execution_count": 36,
      "outputs": [
        {
          "output_type": "stream",
          "text": [
            "Reading annotations...\n",
            "Computing class weights...\n",
            "tensor([1., 1., 1., 1., 1.], device='cuda:0')\n",
            "Epoch 0/39\n",
            "----------\n",
            "Num samples 2000\n",
            "train 0:01:50.520122 loss: 1.4049 accuracy: 0.3840\n",
            "Num samples 255\n",
            "val 0:00:10.047908 loss: 1.3047 accuracy: 0.3922\n",
            "Elapsed time: 0:02:00.572431\n",
            "\n",
            "Epoch 1/39\n",
            "----------\n",
            "Num samples 2000\n",
            "train 0:01:49.633760 loss: 1.3345 accuracy: 0.4400\n",
            "Num samples 255\n",
            "val 0:00:10.020579 loss: 0.9849 accuracy: 0.5882\n",
            "Elapsed time: 0:01:59.658906\n",
            "\n",
            "Epoch 2/39\n",
            "----------\n",
            "Num samples 2000\n",
            "train 0:01:49.625023 loss: 1.1792 accuracy: 0.4735\n",
            "Num samples 255\n",
            "val 0:00:10.145666 loss: 0.9670 accuracy: 0.5804\n",
            "Elapsed time: 0:01:59.771749\n",
            "\n",
            "Epoch 3/39\n",
            "----------\n",
            "Num samples 2000\n",
            "train 0:01:49.779085 loss: 1.1220 accuracy: 0.4935\n",
            "Num samples 255\n",
            "val 0:00:09.777529 loss: 0.9349 accuracy: 0.5882\n",
            "Elapsed time: 0:01:59.557664\n",
            "\n",
            "Epoch 4/39\n",
            "----------\n",
            "Num samples 2000\n",
            "train 0:01:49.303055 loss: 1.0726 accuracy: 0.5315\n",
            "Num samples 255\n",
            "val 0:00:09.974896 loss: 0.9293 accuracy: 0.6039\n",
            "Elapsed time: 0:01:59.282434\n",
            "\n",
            "Epoch 5/39\n",
            "----------\n",
            "Num samples 2000\n",
            "train 0:01:49.012721 loss: 1.0420 accuracy: 0.5400\n",
            "Num samples 255\n",
            "val 0:00:09.746819 loss: 0.9376 accuracy: 0.6157\n",
            "Elapsed time: 0:01:58.763989\n",
            "\n",
            "Epoch 6/39\n",
            "----------\n",
            "Num samples 2000\n",
            "train 0:01:48.885884 loss: 0.9882 accuracy: 0.5835\n",
            "Num samples 255\n",
            "val 0:00:10.150345 loss: 0.9367 accuracy: 0.4941\n",
            "Elapsed time: 0:01:59.037840\n",
            "\n",
            "Epoch 7/39\n",
            "----------\n",
            "Num samples 2000\n",
            "train 0:01:48.680895 loss: 0.9821 accuracy: 0.5595\n",
            "Num samples 255\n",
            "val 0:00:09.925283 loss: 0.9418 accuracy: 0.6431\n",
            "Elapsed time: 0:01:58.610744\n",
            "\n",
            "Epoch 8/39\n",
            "----------\n",
            "Num samples 2000\n",
            "train 0:01:48.494801 loss: 0.9827 accuracy: 0.5720\n",
            "Num samples 255\n",
            "val 0:00:09.913237 loss: 0.8823 accuracy: 0.6275\n",
            "Elapsed time: 0:01:58.409255\n",
            "\n",
            "Epoch 9/39\n",
            "----------\n",
            "Num samples 2000\n",
            "train 0:01:48.538517 loss: 0.9506 accuracy: 0.6060\n",
            "Num samples 255\n",
            "val 0:00:09.798272 loss: 0.8510 accuracy: 0.6863\n",
            "Elapsed time: 0:01:58.340980\n",
            "\n",
            "Epoch 10/39\n",
            "----------\n",
            "Num samples 2000\n",
            "train 0:01:48.893390 loss: 0.9631 accuracy: 0.5740\n",
            "Num samples 255\n",
            "val 0:00:09.884660 loss: 0.8650 accuracy: 0.6667\n",
            "Elapsed time: 0:01:58.779062\n",
            "\n",
            "Epoch 11/39\n",
            "----------\n",
            "Num samples 2000\n",
            "train 0:01:49.396420 loss: 0.9100 accuracy: 0.6015\n",
            "Num samples 255\n",
            "val 0:00:09.996668 loss: 0.9174 accuracy: 0.6863\n",
            "Elapsed time: 0:01:59.395822\n",
            "\n",
            "Epoch 12/39\n",
            "----------\n",
            "Num samples 2000\n",
            "train 0:01:48.124297 loss: 0.9167 accuracy: 0.6030\n",
            "Num samples 255\n",
            "val 0:00:09.943646 loss: 0.9080 accuracy: 0.6667\n",
            "Elapsed time: 0:01:58.069262\n",
            "\n",
            "Epoch 13/39\n",
            "----------\n",
            "Num samples 2000\n",
            "train 0:01:48.772719 loss: 0.8840 accuracy: 0.6090\n",
            "Num samples 255\n",
            "val 0:00:10.033027 loss: 0.9014 accuracy: 0.6627\n",
            "Elapsed time: 0:01:58.807620\n",
            "\n",
            "Epoch 14/39\n",
            "----------\n",
            "Num samples 2000\n",
            "train 0:01:48.396912 loss: 0.8872 accuracy: 0.6205\n",
            "Num samples 255\n",
            "val 0:00:09.939230 loss: 0.8621 accuracy: 0.6667\n",
            "Elapsed time: 0:01:58.337327\n",
            "\n",
            "Epoch 15/39\n",
            "----------\n",
            "Num samples 2000\n",
            "train 0:01:48.035527 loss: 0.8983 accuracy: 0.6175\n",
            "Num samples 255\n",
            "val 0:00:09.982219 loss: 0.8806 accuracy: 0.6471\n",
            "Elapsed time: 0:01:58.019036\n",
            "\n",
            "Epoch 16/39\n",
            "----------\n",
            "Num samples 2000\n",
            "train 0:01:48.020088 loss: 0.8819 accuracy: 0.6250\n",
            "Num samples 255\n",
            "val 0:00:10.032254 loss: 0.9071 accuracy: 0.6471\n",
            "Elapsed time: 0:01:58.053526\n",
            "\n",
            "Epoch 17/39\n",
            "----------\n",
            "Num samples 2000\n",
            "train 0:01:47.691446 loss: 0.9122 accuracy: 0.6155\n",
            "Num samples 255\n",
            "val 0:00:09.964342 loss: 0.8534 accuracy: 0.6706\n",
            "Elapsed time: 0:01:57.656854\n",
            "\n",
            "Epoch 18/39\n",
            "----------\n",
            "Num samples 2000\n",
            "train 0:01:48.878375 loss: 0.8669 accuracy: 0.6355\n",
            "Num samples 255\n",
            "val 0:00:09.791620 loss: 0.8137 accuracy: 0.6706\n",
            "Elapsed time: 0:01:58.671416\n",
            "\n",
            "Epoch 19/39\n",
            "----------\n",
            "Num samples 2000\n",
            "train 0:01:48.243391 loss: 0.8391 accuracy: 0.6385\n",
            "Num samples 255\n",
            "val 0:00:09.974895 loss: 0.9187 accuracy: 0.6627\n",
            "Elapsed time: 0:01:58.219496\n",
            "\n",
            "Epoch 20/39\n",
            "----------\n",
            "Num samples 2000\n",
            "train 0:01:48.292992 loss: 0.8497 accuracy: 0.6320\n",
            "Num samples 255\n",
            "val 0:00:09.723268 loss: 0.7997 accuracy: 0.6824\n",
            "Elapsed time: 0:01:58.017469\n",
            "\n",
            "Epoch 21/39\n",
            "----------\n",
            "Num samples 2000\n",
            "train 0:01:48.068440 loss: 0.8639 accuracy: 0.6315\n",
            "Num samples 255\n",
            "val 0:00:09.790542 loss: 0.8123 accuracy: 0.6549\n",
            "Elapsed time: 0:01:57.860197\n",
            "\n",
            "Epoch 22/39\n",
            "----------\n",
            "Num samples 2000\n",
            "train 0:01:48.047210 loss: 0.8516 accuracy: 0.6290\n",
            "Num samples 255\n",
            "val 0:00:10.071317 loss: 0.8131 accuracy: 0.6667\n",
            "Elapsed time: 0:01:58.119803\n",
            "\n",
            "Epoch 23/39\n",
            "----------\n",
            "Num samples 2000\n",
            "train 0:01:48.187459 loss: 0.8517 accuracy: 0.6495\n",
            "Num samples 255\n",
            "val 0:00:09.853605 loss: 0.7541 accuracy: 0.6902\n",
            "Elapsed time: 0:01:58.045861\n",
            "\n",
            "Epoch 24/39\n",
            "----------\n",
            "Num samples 2000\n",
            "train 0:01:47.836559 loss: 0.8306 accuracy: 0.6425\n",
            "Num samples 255\n",
            "val 0:00:09.988725 loss: 0.8854 accuracy: 0.6667\n",
            "Elapsed time: 0:01:57.826519\n",
            "\n",
            "Epoch 25/39\n",
            "----------\n",
            "Num samples 2000\n",
            "train 0:01:47.266848 loss: 0.8080 accuracy: 0.6610\n",
            "Num samples 255\n",
            "val 0:00:09.826337 loss: 0.7352 accuracy: 0.6784\n",
            "Elapsed time: 0:01:57.094403\n",
            "\n",
            "Epoch 26/39\n",
            "----------\n",
            "Num samples 2000\n",
            "train 0:01:47.228234 loss: 0.8197 accuracy: 0.6545\n",
            "Num samples 255\n",
            "val 0:00:10.079653 loss: 0.7469 accuracy: 0.6902\n",
            "Elapsed time: 0:01:57.309026\n",
            "\n",
            "Epoch 27/39\n",
            "----------\n",
            "Num samples 2000\n",
            "train 0:01:46.832332 loss: 0.8093 accuracy: 0.6660\n",
            "Num samples 255\n",
            "val 0:00:09.986813 loss: 0.8015 accuracy: 0.6667\n",
            "Elapsed time: 0:01:56.820435\n",
            "\n",
            "Epoch 28/39\n",
            "----------\n",
            "Num samples 2000\n",
            "train 0:01:47.313689 loss: 0.8027 accuracy: 0.6645\n",
            "Num samples 255\n",
            "val 0:00:09.943474 loss: 0.7502 accuracy: 0.7020\n",
            "Elapsed time: 0:01:57.266014\n",
            "\n",
            "Epoch 29/39\n",
            "----------\n",
            "Num samples 2000\n",
            "train 0:01:48.125547 loss: 0.8092 accuracy: 0.6640\n",
            "Num samples 255\n",
            "val 0:00:09.859051 loss: 0.7615 accuracy: 0.6824\n",
            "Elapsed time: 0:01:57.985908\n",
            "\n",
            "Epoch 30/39\n",
            "----------\n",
            "Num samples 2000\n",
            "train 0:01:48.136349 loss: 0.8287 accuracy: 0.6405\n",
            "Num samples 255\n",
            "val 0:00:10.174176 loss: 0.7470 accuracy: 0.6902\n",
            "Elapsed time: 0:01:58.311721\n",
            "\n",
            "Epoch 31/39\n",
            "----------\n",
            "Num samples 2000\n",
            "train 0:01:49.008631 loss: 0.7926 accuracy: 0.6535\n",
            "Num samples 255\n",
            "val 0:00:09.788525 loss: 0.7854 accuracy: 0.6902\n",
            "Elapsed time: 0:01:58.798695\n",
            "\n",
            "Epoch 32/39\n",
            "----------\n",
            "Num samples 2000\n",
            "train 0:01:47.905530 loss: 0.7808 accuracy: 0.6840\n",
            "Num samples 255\n",
            "val 0:00:09.947724 loss: 0.9536 accuracy: 0.6471\n",
            "Elapsed time: 0:01:57.854988\n",
            "\n",
            "Epoch 33/39\n",
            "----------\n",
            "Num samples 2000\n",
            "train 0:01:48.373773 loss: 0.7965 accuracy: 0.6640\n",
            "Num samples 255\n",
            "val 0:00:09.949104 loss: 0.8170 accuracy: 0.6588\n",
            "Elapsed time: 0:01:58.324493\n",
            "\n",
            "Epoch 34/39\n",
            "----------\n",
            "Num samples 2000\n",
            "train 0:01:48.819352 loss: 0.7662 accuracy: 0.6820\n",
            "Num samples 255\n",
            "val 0:00:09.865525 loss: 0.7276 accuracy: 0.6902\n",
            "Elapsed time: 0:01:58.686094\n",
            "\n",
            "Epoch 35/39\n",
            "----------\n",
            "Num samples 2000\n",
            "train 0:01:48.003201 loss: 0.7906 accuracy: 0.6510\n",
            "Num samples 255\n",
            "val 0:00:09.937503 loss: 0.7537 accuracy: 0.6941\n",
            "Elapsed time: 0:01:57.942094\n",
            "\n",
            "Epoch 36/39\n",
            "----------\n",
            "Num samples 2000\n",
            "train 0:01:47.554956 loss: 0.8001 accuracy: 0.6590\n",
            "Num samples 255\n",
            "val 0:00:09.718123 loss: 0.8015 accuracy: 0.6549\n",
            "Elapsed time: 0:01:57.274287\n",
            "\n",
            "Epoch 37/39\n",
            "----------\n",
            "Num samples 2000\n",
            "train 0:01:49.105031 loss: 0.7696 accuracy: 0.6750\n",
            "Num samples 255\n",
            "val 0:00:09.884676 loss: 0.7788 accuracy: 0.6706\n",
            "Elapsed time: 0:01:58.990839\n",
            "\n",
            "Epoch 38/39\n",
            "----------\n",
            "Num samples 2000\n",
            "train 0:01:49.913421 loss: 0.7570 accuracy: 0.6925\n",
            "Num samples 255\n",
            "val 0:00:10.009902 loss: 0.7992 accuracy: 0.6549\n",
            "Elapsed time: 0:01:59.924727\n",
            "\n",
            "Epoch 39/39\n",
            "----------\n",
            "Num samples 2000\n",
            "train 0:01:49.233195 loss: 0.7725 accuracy: 0.6780\n",
            "Num samples 255\n",
            "val 0:00:09.958090 loss: 0.7761 accuracy: 0.6588\n",
            "Elapsed time: 0:01:59.192732\n",
            "\n",
            "Training complete in 78m 58s\n",
            "Best acc: 0.701961\n",
            "\n",
            "Metrics\n",
            "----------\n"
          ],
          "name": "stdout"
        },
        {
          "output_type": "display_data",
          "data": {
            "image/png": "[encoded data removed]",
            "text/plain": [
              "<Figure size 432x288 with 1 Axes>"
            ]
          },
          "metadata": {
            "tags": [],
            "needs_background": "light"
          }
        },
        {
          "output_type": "display_data",
          "data": {
            "image/png": "[encoded data removed]",
            "text/plain": [
              "<Figure size 432x288 with 1 Axes>"
            ]
          },
          "metadata": {
            "tags": [],
            "needs_background": "light"
          }
        },
        {
          "output_type": "stream",
          "text": [
            "predictions file: predict_c2_whole_h1_9EDNcRLZzCydbYBodsqmFC.csv\n",
            "Finished generating predictions to predict_c2_whole_h1_9EDNcRLZzCydbYBodsqmFC.csv\n",
            "Test distribution:\n"
          ],
          "name": "stdout"
        },
        {
          "output_type": "execute_result",
          "data": {
            "text/plain": [
              "tensor([0, 4, 4, 0, 1, 4, 1, 0, 1, 0, 4, 4, 4, 1, 0, 1, 1, 1, 1, 0, 1, 0, 0, 0,\n",
              "        0, 0, 4, 0, 1, 0, 4, 1, 4, 1, 1, 4, 4, 0, 1, 0, 1, 4, 1, 0, 0, 4, 1, 1,\n",
              "        1, 1, 0, 0, 1, 4, 4, 4, 0, 4, 1, 0, 1, 0, 1, 1, 0, 1, 1, 0, 0, 4, 4, 1,\n",
              "        1, 4, 0, 4, 4, 1, 1, 1, 0, 0, 4, 0, 1, 4, 0, 0, 0, 4, 4, 1, 1, 1, 1, 0,\n",
              "        0, 4, 0, 1, 4, 4, 4, 0, 0, 1, 4, 0, 1, 1, 1, 0, 4, 0, 4, 4, 1, 0, 1, 4,\n",
              "        1, 0, 0, 4, 4, 1, 4, 4, 1, 1, 1, 4, 0, 4, 0, 0, 0, 1, 0, 1, 1, 4, 0, 1,\n",
              "        0, 1, 1, 1, 4, 4, 0, 1, 0, 1, 4, 1, 0, 0, 0, 0, 1, 0, 0, 0, 1, 0, 4, 4,\n",
              "        4, 0, 4, 4, 0, 1, 4, 1, 1, 4, 4, 4, 1, 0, 4, 0, 1, 1, 0, 1, 1, 0, 1, 1,\n",
              "        4, 0, 4, 0, 4, 1, 0, 0], device='cuda:0')"
            ]
          },
          "metadata": {
            "tags": []
          },
          "execution_count": 36
        }
      ]
    },
    {
      "cell_type": "code",
      "metadata": {
        "id": "IedWYs7dctv3",
        "colab_type": "code",
        "colab": {
          "base_uri": "https://localhost:8080/",
          "height": 35
        },
        "outputId": "c7d13847-d75e-4257-afd8-983a7e947096"
      },
      "source": [
        "#group = train_val_split_group()\n",
        "#y_hat_test = predict(model, group.test_dataloader)\n",
        "#predictions_file = \"predict_c2_whole_{}_{}.csv\".format(\"h1\", shortuuid.uuid())\n",
        "#print('predictions file:', predictions_file)\n",
        "#one_hot_encode_predictions(y_hat_test, predictions_file)\n",
        "y_hat_test.bincount()"
      ],
      "execution_count": 34,
      "outputs": [
        {
          "output_type": "execute_result",
          "data": {
            "text/plain": [
              "tensor([39, 99,  0,  0, 62], device='cuda:0')"
            ]
          },
          "metadata": {
            "tags": []
          },
          "execution_count": 34
        }
      ]
    },
    {
      "cell_type": "code",
      "metadata": {
        "id": "rdBBniN9ffjv",
        "colab_type": "code",
        "colab": {
          "base_uri": "https://localhost:8080/",
          "height": 89
        },
        "outputId": "e52cfe70-da78-4afe-8222-6507374c4898"
      },
      "source": [
        "group = train_val_split_group()\n",
        "len(group.test_dataloader)"
      ],
      "execution_count": 30,
      "outputs": [
        {
          "output_type": "stream",
          "text": [
            "Reading annotations...\n",
            "Computing class weights...\n",
            "tensor([1., 1., 1., 1., 1.], device='cuda:0')\n"
          ],
          "name": "stdout"
        },
        {
          "output_type": "execute_result",
          "data": {
            "text/plain": [
              "200"
            ]
          },
          "metadata": {
            "tags": []
          },
          "execution_count": 30
        }
      ]
    },
    {
      "cell_type": "markdown",
      "metadata": {
        "id": "TFIFN9HC7cNp",
        "colab_type": "text"
      },
      "source": [
        "#### H2: 2048-256-5\n",
        "\n",
        "* DNN Structure: 2048-256-5\n",
        "* Dropout: 0.5\n",
        "* Class weights: [1,1,1,1,1]\n",
        "* Batch normalization: no\n"
      ]
    },
    {
      "cell_type": "code",
      "metadata": {
        "scrolled": true,
        "id": "uVz21wq77cNp",
        "colab_type": "code",
        "colab": {}
      },
      "source": [
        "model = get_model(2048, 256, 0.5).to(device)\n",
        "run_trial(\"h2\", model)"
      ],
      "execution_count": 0,
      "outputs": []
    },
    {
      "cell_type": "markdown",
      "metadata": {
        "id": "t42x-Z-77cNr",
        "colab_type": "text"
      },
      "source": [
        "#### H3: 512-64-5\n",
        "\n",
        "* DNN Structure: 512-64-5\n",
        "* Dropout: 0.5\n",
        "* Class weights: [1,1,1,1,1]\n",
        "* Batch normalization: no\n"
      ]
    },
    {
      "cell_type": "code",
      "metadata": {
        "id": "4EhTgRkV7cNr",
        "colab_type": "code",
        "colab": {}
      },
      "source": [
        "model = get_model(512, 64, 0.5).to(device)\n",
        "run_trial(\"h3\", model)"
      ],
      "execution_count": 0,
      "outputs": []
    },
    {
      "cell_type": "markdown",
      "metadata": {
        "id": "w3co17MA7cNt",
        "colab_type": "text"
      },
      "source": [
        "#### H4: Best from above, dropout 0.25\n",
        "\n",
        "* DNN Structure: \n",
        "* Dropout: 0.25\n",
        "* Class weights: [1,1,1,1,1]\n",
        "* Batch normalization: no\n"
      ]
    },
    {
      "cell_type": "code",
      "metadata": {
        "id": "8QO2Xw8T7cNt",
        "colab_type": "code",
        "colab": {}
      },
      "source": [
        "model = get_model(n1, n2, 0.25).to(device)\n",
        "run_trial(\"h4\", model)"
      ],
      "execution_count": 0,
      "outputs": []
    },
    {
      "cell_type": "markdown",
      "metadata": {
        "id": "YpyV6kfN7cNv",
        "colab_type": "text"
      },
      "source": [
        "#### H5: Best from above, dropout 0.1\n",
        "\n",
        "* DNN Structure: \n",
        "* Dropout: 0.1\n",
        "* Class weights: [1,1,1,1,1]\n",
        "* Batch normalization: no\n"
      ]
    },
    {
      "cell_type": "code",
      "metadata": {
        "id": "wEmmq1lF7cNv",
        "colab_type": "code",
        "colab": {}
      },
      "source": [
        "model = get_model(n1, n2, 0.1).to(device)\n",
        "run_trial(\"h5\", model)"
      ],
      "execution_count": 0,
      "outputs": []
    },
    {
      "cell_type": "markdown",
      "metadata": {
        "id": "Q0wmNdzd7cNx",
        "colab_type": "text"
      },
      "source": [
        "#### H6: Best from above, skewed class weights\n",
        "\n",
        "* DNN Structure: \n",
        "* Dropout: 0.5\n",
        "* Class weights: [1,1,5,5,1]\n",
        "* Batch normalization: no\n"
      ]
    },
    {
      "cell_type": "code",
      "metadata": {
        "id": "IXUYnHqH7cNy",
        "colab_type": "code",
        "colab": {}
      },
      "source": [
        "model = get_model(n1, n2, 0.5).to(device)\n",
        "run_trial(\"h6\", model, class_weights=[1., 1., 5., 5., 1.])"
      ],
      "execution_count": 0,
      "outputs": []
    },
    {
      "cell_type": "markdown",
      "metadata": {
        "id": "FPjHhxjQ7cN1",
        "colab_type": "text"
      },
      "source": [
        "#### H7: Best from above, batch normalization\n",
        "\n",
        "* DNN Structure: \n",
        "* Dropout: 0.5\n",
        "* Class weights: \n",
        "* Batch normalization: yes\n"
      ]
    },
    {
      "cell_type": "code",
      "metadata": {
        "id": "iuxsx-797cN1",
        "colab_type": "code",
        "colab": {}
      },
      "source": [
        "model = get_model(n1, n2, 0.5, batch_normalization=True).to(device)\n",
        "run_trial(\"h7\", model)"
      ],
      "execution_count": 0,
      "outputs": []
    },
    {
      "cell_type": "markdown",
      "metadata": {
        "id": "nbvi5JEf7cN3",
        "colab_type": "text"
      },
      "source": [
        "#### Summary: Best hyperparameters"
      ]
    },
    {
      "cell_type": "code",
      "metadata": {
        "pycharm": {
          "is_executing": false
        },
        "id": "l-EQAGsU7cN3",
        "colab_type": "code",
        "colab": {}
      },
      "source": [
        "optimal_n1 = 1024\n",
        "optimal_n2 = 128\n",
        "optimal_d = 0.1\n"
      ],
      "execution_count": 0,
      "outputs": []
    },
    {
      "cell_type": "markdown",
      "metadata": {
        "id": "Y21C4M2D7cN4",
        "colab_type": "text"
      },
      "source": [
        "## Train with all C2 data and optimal hyperparameters"
      ]
    },
    {
      "cell_type": "code",
      "metadata": {
        "pycharm": {
          "is_executing": false
        },
        "scrolled": false,
        "id": "cqodK5jX7cN5",
        "colab_type": "code",
        "colab": {}
      },
      "source": [
        "model = get_model(optimal_n1, optimal_n2, optimal_d).to(device)\n",
        "# model.load_state_dict(torch.load('cnn_pytorch_c2.pt'))\n",
        "y_hat_test = train_and_test(model, group_3(), num_epochs=40)\n",
        "predictions_file = \"predict_c2_whole_{}.csv\".format(shortuuid.uuid())\n",
        "print('predictions file:', predictions_file)\n",
        "one_hot_encode_predictions(y_hat_test, predictions_file)"
      ],
      "execution_count": 0,
      "outputs": []
    },
    {
      "cell_type": "code",
      "metadata": {
        "pycharm": {
          "is_executing": false,
          "name": "#%%\n"
        },
        "id": "__y-plJ97cN6",
        "colab_type": "code",
        "colab": {}
      },
      "source": [
        "torch.set_printoptions(profile=\"full\")\n",
        "print(y_hat_test)\n",
        "torch.set_printoptions(profile=\"default\")"
      ],
      "execution_count": 0,
      "outputs": []
    },
    {
      "cell_type": "markdown",
      "metadata": {
        "id": "-GosrUj67cN8",
        "colab_type": "text"
      },
      "source": [
        "### Save model"
      ]
    },
    {
      "cell_type": "code",
      "metadata": {
        "id": "Hfi60sat7cN8",
        "colab_type": "code",
        "colab": {}
      },
      "source": [
        "torch.save(model.state_dict(), 'cnn_pytorch_c2_whole.pt')"
      ],
      "execution_count": 0,
      "outputs": []
    }
  ]
}