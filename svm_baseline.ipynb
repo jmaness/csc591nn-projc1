{
 "cells": [
  {
   "cell_type": "markdown",
   "metadata": {},
   "source": [
    "# Baseline Soybean Classification"
   ]
  },
  {
   "cell_type": "code",
   "execution_count": null,
   "metadata": {
    "collapsed": true
   },
   "outputs": [],
   "source": [
    "from PIL import Image\n",
    "import numpy as np\n",
    "import matplotlib.pyplot as plt\n",
    "import pandas as pd\n",
    "import cv2\n",
    "from skimage.feature import hog\n",
    "from sklearn import svm\n",
    "from sklearn.model_selection import train_test_split\n",
    "from PIL import ImageFilter\n",
    "import random"
   ]
  },
  {
   "cell_type": "markdown",
   "metadata": {},
   "source": [
    "## File Paths"
   ]
  },
  {
   "cell_type": "code",
   "execution_count": null,
   "metadata": {
    "collapsed": true
   },
   "outputs": [],
   "source": [
    "train_dir = \"TrainData/\"\n",
    "train_ann = \"TrainAnnotations.csv\""
   ]
  },
  {
   "cell_type": "code",
   "execution_count": null,
   "metadata": {},
   "outputs": [],
   "source": [
    "def load_data():\n",
    "    \"\"\"\n",
    "    Load the image training data and classes\n",
    "    :return: list of numpy arrays, list of integer labels, list of string filenames (for reference)\n",
    "    \"\"\"\n",
    "    file_labels = pd.read_csv(train_ann)\n",
    "    ann_dict = pd.Series(file_labels.annotation.values, index=file_labels.file_name).to_dict()\n",
    "    image_dict = dict.fromkeys(ann_dict.keys())\n",
    "    print(\"Loading image data into dictionary...\")\n",
    "    for filename in list(ann_dict.keys()):\n",
    "        image_dict[filename] = np.array(Image.open(train_dir + filename))\n",
    "    print(\"Loading complete.\")\n",
    "    print(\"Preparing training data...\")\n",
    "    data = []\n",
    "    labels = []\n",
    "    names = []\n",
    "    for filename in list(ann_dict):\n",
    "        data.append(image_dict[filename])\n",
    "        labels.append(ann_dict[filename])\n",
    "        names.append(filename)\n",
    "    print(\"Preparation complete.\")\n",
    "    return data, labels, names\n",
    "\n",
    "X, y, filenames = load_data()\n"
   ]
  },
  {
   "cell_type": "markdown",
   "metadata": {},
   "source": [
    "## Visualize the Data"
   ]
  },
  {
   "cell_type": "code",
   "execution_count": null,
   "metadata": {
    "collapsed": true
   },
   "outputs": [],
   "source": [
    "def visualize_data(array):\n",
    "    \"\"\"\n",
    "    Plot a given numpy array\n",
    "    :param array: a numpy array (image)\n",
    "    \"\"\"\n",
    "    if len(array.shape) == 3:  # has all 3 RGB channels\n",
    "        plt.imshow(array)\n",
    "    else:  # just a black and white image (one channel)\n",
    "        plt.imshow(array, cmap='gray')\n",
    "    plt.axis(\"off\")\n",
    "    plt.show()"
   ]
  },
  {
   "cell_type": "markdown",
   "metadata": {},
   "source": [
    "## Feature Extraction Functions"
   ]
  },
  {
   "cell_type": "code",
   "execution_count": null,
   "metadata": {
    "collapsed": true
   },
   "outputs": [],
   "source": [
    "def edge_filter(array, f_type=\"canny\"):\n",
    "    \"\"\"\n",
    "    Detect the edges within an image using a chosen filter\n",
    "    :param array: a numpy array (image)\n",
    "    :param f_type: the filter type in ['canny', 'laplacian', 'sobelx', 'sobely']\n",
    "    :return: a numpy array (edge image)\n",
    "    \"\"\"\n",
    "    edges = None\n",
    "    if f_type == 'canny':\n",
    "        edges = cv2.Canny(array, 120, 200)\n",
    "    elif f_type == 'laplacian':\n",
    "        # convert to grayscale --- one channel\n",
    "        # Sobel filter in both directions\n",
    "        array = np.array(Image.fromarray(array).convert('L'))\n",
    "        edges = np.abs(cv2.Laplacian(array, cv2.CV_64F, ksize=5))\n",
    "    elif f_type == \"sobelx\":\n",
    "        # convert to grayscale --- one channel\n",
    "        # get vertical edges\n",
    "        array = np.array(Image.fromarray(array).convert('L'))\n",
    "        edges = np.abs(cv2.Sobel(array, cv2.CV_64F, 1, 0, ksize=5))\n",
    "    elif f_type == \"sobely\":\n",
    "        # convert to grayscale --- one channel\n",
    "        # get horizontal edges\n",
    "        array = np.array(Image.fromarray(array).convert('L'))\n",
    "        edges = np.abs(cv2.Sobel(array, cv2.CV_64F, 0, 1, ksize=5))\n",
    "    return edges\n",
    "\n",
    "def extract_channel(array, channel='green'):\n",
    "    \"\"\"\n",
    "    Extract one channel from the image (default green because that is arguably the most important\n",
    "    for this application)\n",
    "    :param array: a numpy array (image)\n",
    "    :param channel: string in ('red', 'green', 'blue')\n",
    "    :return: a numpy array (image, one channel)\n",
    "    \"\"\"\n",
    "    channel_dict = {'red': 0, 'green': 1, 'blue': 2}\n",
    "    matrix = array[:, :, channel_dict[channel]]\n",
    "    return matrix\n",
    "\n",
    "def extract_sift(array):\n",
    "    \"\"\"\n",
    "    Get the SIFT features from an image\n",
    "    :param array: a numpy array (image)\n",
    "    :return: key points, image of the key points\n",
    "    \"\"\"\n",
    "    sift = cv2.xfeatures2d.SIFT_create(1000)\n",
    "    key_points = sift.detect(array, None)\n",
    "    image = cv2.drawKeypoints(array, key_points, np.array([]), (0, 0, 255),\n",
    "                              cv2.DRAW_MATCHES_FLAGS_DRAW_RICH_KEYPOINTS)\n",
    "    return key_points, image\n",
    "\n",
    "def extract_pil_edges(array):\n",
    "    \"\"\"\n",
    "    Get the edges from an image\n",
    "    :param array: a numpy array (image)\n",
    "    :return: a numpy array (edge map)\n",
    "    \"\"\"\n",
    "    im = Image.fromarray(array)\n",
    "    edge = im.filter(ImageFilter.FIND_EDGES)\n",
    "    return np.array(edge)\n",
    "\n",
    "def extract_pil_emboss(array):\n",
    "    \"\"\"\n",
    "    Get the embossed version of an image\n",
    "    :param array: a numpy array (image)\n",
    "    :return: a numpy array (embossed)\n",
    "    \"\"\"\n",
    "    im = Image.fromarray(array)\n",
    "    emboss = im.filter(ImageFilter.EMBOSS)\n",
    "    return np.array(emboss)\n",
    "\n",
    "def extract_hog(array, visualize=False):\n",
    "    \"\"\"\n",
    "    Get the Histogram of Gradients of the image\n",
    "    :param array: a numpy array (image)\n",
    "    :param visualize: to visualize the HOG image or not [True, False]\n",
    "    :return: HOG vector (for training), HOG image (for visualization)\n",
    "    \"\"\"\n",
    "    if visualize:\n",
    "        vector, im = hog(array,\n",
    "                         orientations=8,\n",
    "                         pixels_per_cell=(4, 4),\n",
    "                         cells_per_block=(1, 1),\n",
    "                         block_norm='L2-Hys',\n",
    "                         feature_vector=True,\n",
    "                         visualize=True)\n",
    "        return vector, im\n",
    "    else:\n",
    "        vector = hog(array,\n",
    "                     orientations=8,\n",
    "                     pixels_per_cell=(4, 4),\n",
    "                     cells_per_block=(1, 1),\n",
    "                     feature_vector=True,\n",
    "                     block_norm='L2-Hys')\n",
    "        return vector"
   ]
  },
  {
   "cell_type": "markdown",
   "metadata": {},
   "source": [
    "## Features"
   ]
  },
  {
   "cell_type": "code",
   "execution_count": null,
   "metadata": {},
   "outputs": [],
   "source": [
    "print(\"Extracting features...\")\n",
    "# lists of non-flattened numpy arrays\n",
    "hogs = []\n",
    "greens = []\n",
    "edges = []\n",
    "sifts = []\n",
    "embosses = []\n",
    "sift_images = []  # for visualization only\n",
    "for i in range(len(X)):\n",
    "    if i % 10 == 0:\n",
    "        print(\"Preprocessing Image\", i+1, '/', len(X))\n",
    "    hogs.append(extract_hog(X[i], visualize=False))\n",
    "    greens.append(extract_channel(X[i], channel=\"green\"))\n",
    "    edges.append(extract_pil_edges(X[i]))\n",
    "    embosses.append(extract_pil_emboss(X[i]))\n",
    "    sift = extract_sift(X[i])\n",
    "    sifts.append(sift[0])  # the key point vector that would actually be used for data representation\n",
    "    sift_images.append(sift[1])  # the image, purely for visualization of those key points\n",
    "print(\"Feature Extraction Complete.\")"
   ]
  },
  {
   "cell_type": "markdown",
   "metadata": {},
   "source": [
    "## Preview Random Image"
   ]
  },
  {
   "cell_type": "markdown",
   "metadata": {},
   "source": [
    "### Do any visualization you want here befoer the data is flattened in the next section"
   ]
  },
  {
   "cell_type": "code",
   "execution_count": null,
   "metadata": {
    "collapsed": true
   },
   "outputs": [],
   "source": [
    "# RGB\n",
    "index = random.randint(0, len(X))\n",
    "print(\"Previewing image\", filenames[index], \"from class\", y[index])\n",
    "visualize_data(X[index])"
   ]
  },
  {
   "cell_type": "code",
   "execution_count": null,
   "metadata": {
    "collapsed": true
   },
   "outputs": [],
   "source": [
    "# Edge\n",
    "visualize_data(edges[index])"
   ]
  },
  {
   "cell_type": "code",
   "execution_count": null,
   "metadata": {
    "collapsed": true
   },
   "outputs": [],
   "source": [
    "# Green\n",
    "visualize_data(greens[index])"
   ]
  },
  {
   "cell_type": "code",
   "execution_count": null,
   "metadata": {
    "collapsed": true
   },
   "outputs": [],
   "source": [
    "# Emboss\n",
    "visualize_data(embosses[index])"
   ]
  },
  {
   "cell_type": "code",
   "execution_count": null,
   "metadata": {
    "collapsed": true
   },
   "outputs": [],
   "source": [
    "# SIFT\n",
    "visualize_data(sift_images[index])"
   ]
  },
  {
   "cell_type": "markdown",
   "metadata": {},
   "source": [
    "## Flatten the Data"
   ]
  },
  {
   "cell_type": "code",
   "execution_count": null,
   "metadata": {},
   "outputs": [],
   "source": [
    "print(\"Flattening data...\")\n",
    "hogs = np.array([h.flatten() for h in hogs])\n",
    "greens = [g.flatten() for g in greens]\n",
    "edges = [e.flatten() for e in edges]\n",
    "# sifts does not need flattened\n",
    "embosses = [e.flatten() for e in embosses]\n",
    "print(\"Data flattening complete.\")"
   ]
  },
  {
   "cell_type": "markdown",
   "metadata": {},
   "source": [
    "## Choose Features\n",
    "### The features with which you'd like to represent each image"
   ]
  },
  {
   "cell_type": "code",
   "execution_count": null,
   "metadata": {
    "collapsed": true
   },
   "outputs": [],
   "source": [
    "# can be any number of features, just leave np.array([]). This allows for one feature to be used alone\n",
    "# e.g. features = (np.array([]), hogs[i]); features = (np.array([]), hogs[i], greens[i])\n",
    "print(\"Building training data...\")\n",
    "for i in range(len(X)):\n",
    "    features = (np.array([]), hogs[i], greens[i])\n",
    "    X[i] = np.concatenate(features, axis=0)\n",
    "print(\"Building feature representation complete.\")"
   ]
  },
  {
   "cell_type": "markdown",
   "metadata": {},
   "source": [
    "## Split the Data"
   ]
  },
  {
   "cell_type": "code",
   "execution_count": null,
   "metadata": {
    "collapsed": true
   },
   "outputs": [],
   "source": [
    "X = np.array(X)\n",
    "y = np.array(y)\n",
    "print(\"Vector size:\", X[0].shape)\n",
    "\n",
    "print(\"Splitting the data...\")\n",
    "X_train, X_valid, y_train, y_valid = train_test_split(X, y,\n",
    "                                                      train_size=0.7,\n",
    "                                                      random_state=138,\n",
    "                                                      shuffle=True,\n",
    "                                                      stratify=y)\n",
    "print(\"Splitting complete.\")"
   ]
  },
  {
   "cell_type": "markdown",
   "metadata": {},
   "source": [
    "## Train the Model"
   ]
  },
  {
   "cell_type": "code",
   "execution_count": null,
   "metadata": {
    "collapsed": true
   },
   "outputs": [],
   "source": [
    "print(\"Training the model...\")\n",
    "clf = svm.SVC(kernel=\"rbf\")\n",
    "clf.fit(X_train, y_train)\n",
    "print(\"Training complete.\")"
   ]
  },
  {
   "cell_type": "code",
   "execution_count": null,
   "metadata": {
    "collapsed": true
   },
   "outputs": [],
   "source": [
    "# Training Accuracy\n",
    "y_hat = clf.predict(X_train)\n",
    "print(list(y_train))\n",
    "print(list(y_hat))\n",
    "accuracy = np.sum(y_train == y_hat) / y_train.shape[0]\n",
    "print()\n",
    "print(\"Training Accuracy:\", accuracy)"
   ]
  },
  {
   "cell_type": "markdown",
   "metadata": {},
   "source": [
    "## Validate the Model"
   ]
  },
  {
   "cell_type": "code",
   "execution_count": null,
   "metadata": {
    "collapsed": true
   },
   "outputs": [],
   "source": [
    "# Predict on Validation Set (validation accuracy)\n",
    "print(\"Validating the model...\")\n",
    "y_hat = clf.predict(X_valid)\n",
    "print()\n",
    "print(list(y_valid))\n",
    "print(list(y_hat))\n",
    "accuracy = np.sum(y_valid == y_hat) / y_valid.shape[0]\n",
    "print()\n",
    "print(\"Validation Accuracy:\", accuracy)"
   ]
  }
 ],
 "metadata": {
  "kernelspec": {
   "display_name": "Python 3",
   "language": "python",
   "name": "python3"
  },
  "language_info": {
   "codemirror_mode": {
    "name": "ipython",
    "version": 3
   },
   "file_extension": ".py",
   "mimetype": "text/x-python",
   "name": "python",
   "nbconvert_exporter": "python",
   "pygments_lexer": "ipython3",
   "version": "3.7.2"
  }
 },
 "nbformat": 4,
 "nbformat_minor": 4
}
