{
 "cells": [
  {
   "cell_type": "code",
   "execution_count": 2,
   "metadata": {
    "scrolled": true
   },
   "outputs": [],
   "source": [
    "import copy\n",
    "import os\n",
    "import time\n",
    "\n",
    "import csv\n",
    "import matplotlib.pyplot as plt\n",
    "import numpy as np\n",
    "import pandas as pd\n",
    "import torch\n",
    "import torch.optim as optim\n",
    "import torch.nn as nn\n",
    "import torch.nn.functional as F\n",
    "import torchvision\n",
    "import torchvision.models as models\n",
    "\n",
    "from collections import Counter, OrderedDict\n",
    "from datetime import timedelta\n",
    "from PIL import Image\n",
    "from scipy import stats\n",
    "from sklearn.model_selection import train_test_split\n",
    "from sklearn.utils import class_weight\n",
    "from torchvision import datasets, models, transforms\n",
    "from torchsummary import summary\n"
   ]
  },
  {
   "cell_type": "markdown",
   "metadata": {},
   "source": [
    "## Enable GPU if available"
   ]
  },
  {
   "cell_type": "code",
   "execution_count": 3,
   "metadata": {},
   "outputs": [],
   "source": [
    "device = torch.device(\"cuda:0\" if torch.cuda.is_available() else \"cpu\")"
   ]
  },
  {
   "cell_type": "markdown",
   "metadata": {},
   "source": [
    "## Datasets\n",
    "\n",
    "Given a directory of images and a CSV file of annotations, this defines a PyTorch Dataset which will load an image from disk and apply all configure transformations and return a tuple containing the image and label.\n"
   ]
  },
  {
   "cell_type": "code",
   "execution_count": 4,
   "metadata": {
    "scrolled": true
   },
   "outputs": [],
   "source": [
    "class SoybeanDataset(torch.utils.data.dataset.Dataset):\n",
    "    def __init__(self, data_path, ann_df, transforms=None):\n",
    "        \"\"\"\n",
    "        Args:\n",
    "            data_path (string): path to images\n",
    "            ann_df (string): pandas data frame containing file names and annotations\n",
    "            transform: pytorch transforms for transforms and tensor conversion\n",
    "        \"\"\"\n",
    "        self.data_path = data_path\n",
    "        \n",
    "        self.data = ann_df\n",
    "        self.labels = np.asarray(self.data.iloc[:, 1])\n",
    "        \n",
    "        self.transforms = transforms\n",
    "\n",
    "    def __getitem__(self, index):\n",
    "        image_label = int(self.labels[index])\n",
    "        img_path = os.path.join(self.data_path, self.data.file_name[index])\n",
    "        img = Image.open(img_path)\n",
    "        \n",
    "        # Transform image\n",
    "        if self.transforms is not None:\n",
    "            img = self.transforms(img)\n",
    "            \n",
    "        # Return image and the label\n",
    "        return (img, image_label)\n",
    "\n",
    "    def __len__(self):\n",
    "        return self.data.shape[0]\n",
    "\n",
    "\n",
    "IMG_EXTENSIONS = ('.jpg', '.jpeg', '.png', '.ppm', '.bmp', '.pgm', '.tif', '.tiff', '.webp')\n",
    "\n",
    "\n",
    "class SoybeanTestDatasetFolder(torch.utils.data.IterableDataset):\n",
    "    def __init__(self, data_path, transforms=None):\n",
    "        \"\"\"\n",
    "        Args:\n",
    "            data_path (string): path to images\n",
    "            transform: pytorch transforms for transforms and tensor conversion\n",
    "        \"\"\"\n",
    "        self.data_path = data_path\n",
    "        self.transforms = transforms\n",
    "        \n",
    "        self.images = []\n",
    "        \n",
    "        for root, _, fnames in sorted(os.walk(data_path, followlinks=True)):\n",
    "            for fname in sorted(fnames):\n",
    "                path = fname\n",
    "                if self.is_image_file(path):\n",
    "                    self.images.append(path)\n",
    "\n",
    "                    \n",
    "    def is_image_file(self, filename):\n",
    "        return filename.lower().endswith(IMG_EXTENSIONS)\n",
    "\n",
    "                    \n",
    "    def image_gen(self):\n",
    "        for i in self.images:\n",
    "            img_path = os.path.join(self.data_path, i)\n",
    "            img = Image.open(img_path)\n",
    "        \n",
    "            # Transform image\n",
    "            if self.transforms is not None:\n",
    "                img = self.transforms(img)\n",
    "                \n",
    "            yield img\n",
    "            \n",
    "\n",
    "    def __iter__(self):\n",
    "        return iter(self.image_gen())\n",
    "\n",
    "    \n",
    "    def __len__(self):\n",
    "        return len(self.images)\n",
    "    \n",
    "\n",
    "\n",
    "class SoybeanDataGroup():\n",
    "    def __init__(self, class_weights, \n",
    "                 train_dataset, train_sampler=None,\n",
    "                 val_dataset=None, val_sampler=None, \n",
    "                 test_dataset=None, test_sampler=None):\n",
    "        self.class_weights = class_weights\n",
    "        self.train_dataset = train_dataset\n",
    "        self.train_sampler = train_sampler\n",
    "        self.val_dataset   = val_dataset\n",
    "        self.val_sampler   = val_sampler\n",
    "        self.test_dataset  = test_dataset\n",
    "        self.test_sampler  = test_sampler\n",
    "\n",
    "\n",
    "def compute_class_weights(df, y_col):\n",
    "    \"\"\"\n",
    "    Returns a list of class labels to 'balanced' weights based on the\n",
    "    frequency of the weights across the labels in the specified dataframe\n",
    "    \"\"\"\n",
    "    y = df[[y_col]].to_numpy(dtype=np.int32).flatten()\n",
    "    weights = class_weight.compute_class_weight('balanced', np.unique(y), y)\n",
    "    return torch.tensor(weights, dtype=torch.float32).to(device)\n",
    "    "
   ]
  },
  {
   "cell_type": "code",
   "execution_count": 15,
   "metadata": {
    "scrolled": true
   },
   "outputs": [],
   "source": [
    "TRAIN_DATA_DIR = \"data/TrainData-C2/\"\n",
    "TRAIN_DATA_ANN_FILE = \"data/TrainData-C2/TrainAnnotations.csv\"\n",
    "\n",
    "TRAIN_DATA_PATCHES_DIR      = \"data/TrainData-C2_patches/\"\n",
    "TRAIN_DATA_PATCHES_ANN_FILE = \"data/TrainData-C2_patches/TrainAnnotations.csv\"\n",
    "\n",
    "TEST_DATA_DIR         = \"data/TestData/\"\n",
    "TEST_DATA_PATCHES_DIR = \"data/TestData_patches/\""
   ]
  },
  {
   "cell_type": "markdown",
   "metadata": {},
   "source": [
    "## Image patch utilities"
   ]
  },
  {
   "cell_type": "code",
   "execution_count": 6,
   "metadata": {},
   "outputs": [],
   "source": [
    "PATCH_ROWS = 5\n",
    "PATCH_COLUMNS = 5\n",
    "\n",
    "\n",
    "def generate_image_patches(img, rows, cols):\n",
    "    \"\"\"\n",
    "    Generates a list of in-memory image overlapping patches\n",
    "    \n",
    "    Args:\n",
    "        rows - number of rows of patchs to cover the height of the image\n",
    "        cols - number of colums of patches to cover the width of the image\n",
    "    \"\"\"\n",
    "    patches = []\n",
    "    sizeX = img.shape[1]\n",
    "    sizeY = img.shape[0]\n",
    "    \n",
    "    patch_sizeX = 224\n",
    "    patch_sizeY = 224\n",
    "    patch_relative_centerX = 112\n",
    "    patch_relative_centerY = 112\n",
    "\n",
    "    for i in range(0,rows):\n",
    "        for j in range(0, cols):\n",
    "            center = (patch_relative_centerX + (sizeX - patch_sizeX)/(rows - 1)*i, \n",
    "                      patch_relative_centerY + (sizeY - patch_sizeY)/(cols - 1)*j)\n",
    "            patches.append(cv2.getRectSubPix(img, (patch_sizeX, patch_sizeY), center))\n",
    "            \n",
    "    return patches\n",
    "    \n",
    "                    \n",
    "def is_image(file):\n",
    "    return any(map(lambda x: file.endswith(x), ['jpg', 'jpeg', 'png']))\n",
    "\n",
    "\n",
    "def generate_patch_files(in_dir, out_dir, rows, cols):\n",
    "    if not os.path.exists(out_dir):\n",
    "        os.makedirs(out_dir)\n",
    "\n",
    "    images = [f for f in listdir(in_dir) if isfile(join(in_dir, f)) and is_image(f)]   \n",
    "    for im in images:\n",
    "        print(im)\n",
    "        img = cv2.imread(join(in_dir, im))\n",
    "        patches = generate_image_patches(img, rows, cols)\n",
    "        \n",
    "        for i in range(0,rows):\n",
    "            for j in range(0, cols):\n",
    "                patch = patches[i*rows + j]\n",
    "                patch_name = im.split('.')[0] + '_' + str(i) + '_' + str(j) + '.png'\n",
    "                cv2.imwrite(out_dir + '/' + patch_name, patch)\n",
    "\n",
    "\n",
    "def generate_patch_annotations_df(df, rows, cols):\n",
    "    patches_ann = {}\n",
    "    \n",
    "    for ind in df.index: \n",
    "        file_name = df['file_name'][ind]\n",
    "        annotation = df['annotation'][ind]\n",
    "        \n",
    "        for i in range(0, rows):\n",
    "            for j in range(0, cols):\n",
    "                patch_name = file_name.split('.')[0] + '_' + str(i) + '_' + str(j) + '.png'\n",
    "                patches_ann[patch_name] = annotation\n",
    "    \n",
    "    return pd.DataFrame.from_records([(k, v) for k, v in patches_ann.items()], \n",
    "                                     columns=['file_name', 'annotation'])"
   ]
  },
  {
   "cell_type": "markdown",
   "metadata": {},
   "source": [
    "### Common image transformations\n",
    "These images transformations will apply to both train and validation data."
   ]
  },
  {
   "cell_type": "code",
   "execution_count": 7,
   "metadata": {},
   "outputs": [],
   "source": [
    "DATA_TRANSFORMS = transforms.Compose([\n",
    "    transforms.RandomHorizontalFlip(),\n",
    "    transforms.RandomAffine(degrees=20, translate=(0.2, 0.2)),\n",
    "    transforms.ToTensor(),\n",
    "    transforms.Normalize((0.5, 0.5, 0.5), (0.5, 0.5, 0.5))\n",
    "])\n",
    "\n",
    "TEST_DATA_TRANSFORMS = transforms.Compose([\n",
    "    transforms.ToTensor(),\n",
    "    transforms.Normalize((0.5, 0.5, 0.5), (0.5, 0.5, 0.5))\n",
    "])"
   ]
  },
  {
   "cell_type": "markdown",
   "metadata": {},
   "source": [
    "### Train 0.85/Val 0.15 Split"
   ]
  },
  {
   "cell_type": "code",
   "execution_count": 16,
   "metadata": {},
   "outputs": [],
   "source": [
    "def group_1():\n",
    "    \n",
    "    print(\"Reading annotations...\")\n",
    "    ann_df = pd.read_csv(TRAIN_DATA_PATCHES_ANN_FILE, dtype={'file_name': 'object', 'annotation': 'category'})\n",
    "    \n",
    "    print(\"Computing class weights...\")\n",
    "    class_weights = compute_class_weights(ann_df, 'annotation')\n",
    "    \n",
    "    print(\"Splitting data into training and validation sets...\")\n",
    "    train_df, valid_df = train_test_split(ann_df,\n",
    "                                          train_size=0.85,\n",
    "                                          random_state=138,\n",
    "                                          shuffle=True,\n",
    "                                          stratify=ann_df[['annotation']].to_numpy(dtype=np.int32).flatten())\n",
    "\n",
    "    dataset = SoybeanDataset(TRAIN_DATA_PATCHES_DIR, ann_df, transforms=DATA_TRANSFORMS)\n",
    "    test_dataset  = SoybeanTestDatasetFolder(TEST_DATA_PATCHES_DIR, transforms=TEST_DATA_TRANSFORMS)\n",
    "    \n",
    "    train_sampler = torch.utils.data.SubsetRandomSampler(list(train_df.index))\n",
    "    valid_sampler = torch.utils.data.SubsetRandomSampler(list(valid_df.index))\n",
    "        \n",
    "    return SoybeanDataGroup(class_weights, dataset, train_sampler, dataset, valid_sampler, test_dataset, None)"
   ]
  },
  {
   "cell_type": "markdown",
   "metadata": {},
   "source": [
    "### Train 0.56/Val 0.24/Test 0.20 Split\n",
    "The `TrainData-C2` data is split in the following way:\n",
    "1. Randomly split with stratification into 80%/20% train and test data sets\n",
    "2. Randomly split with stratification the train set into 70%/30% training/validation sets\n",
    "\n",
    "This yields:\n",
    "* training set that is `0.80 * 0.70 = 0.56` of the entire `TrainData-C2` dataset\n",
    "* validation set that is `0.80 * 0.30 = 0.24` of the entire `TrainData-C2` dataset\n",
    "* test set that is `0.20` of the entire `TrainData-C2` dataset\n",
    "where each of the data sets have the same class label distribution which should be the same\n",
    "distribution as the original `TrainData-C2` data."
   ]
  },
  {
   "cell_type": "code",
   "execution_count": 20,
   "metadata": {},
   "outputs": [],
   "source": [
    "def group_2():\n",
    "    \n",
    "    print(\"Reading annotations...\")\n",
    "    ann_df = pd.read_csv(TRAIN_DATA_ANN_FILE, dtype={'file_name': 'object', 'annotation': 'category'})\n",
    "    \n",
    "    print(\"Computing class weights...\")\n",
    "    class_weights = compute_class_weights(ann_df, 'annotation')\n",
    "    \n",
    "    print(\"Splitting data into training, validation, and test sets...\")\n",
    "    training_df, test_df = train_test_split(ann_df,\n",
    "                                            train_size=0.80,\n",
    "                                            random_state=138,\n",
    "                                            shuffle=True,\n",
    "                                            stratify=ann_df[['annotation']].to_numpy(dtype=np.int32).flatten())\n",
    "    \n",
    "    train_df, val_df = train_test_split(training_df,\n",
    "                                        train_size=0.70,\n",
    "                                        random_state=128,\n",
    "                                        shuffle=True,\n",
    "                                        stratify=training_df[['annotation']].to_numpy(dtype=np.int32).flatten())\n",
    "    \n",
    "    # Generate split dataframes\n",
    "    train_patches_df = generate_patch_annotations_df(train_df, PATCH_ROWS, PATCH_COLUMNS)\n",
    "    val_patches_df = generate_patch_annotations_df(val_df, PATCH_ROWS, PATCH_COLUMNS)\n",
    "    test_patches_df = generate_patch_annotations_df(test_df, PATCH_ROWS, PATCH_COLUMNS)\n",
    "\n",
    "    train_dataset = SoybeanDataset(TRAIN_DATA_PATCHES_DIR, train_patches_df, transforms=DATA_TRANSFORMS)\n",
    "    val_dataset = SoybeanDataset(TRAIN_DATA_PATCHES_DIR, train_patches_df, transforms=DATA_TRANSFORMS)\n",
    "    test_dataset = SoybeanDataset(TRAIN_DATA_PATCHES_DIR, test_patches_df, transforms=TEST_DATA_TRANSFORMS)\n",
    "    \n",
    "    return SoybeanDataGroup(class_weights, train_dataset, None, val_dataset, None, test_dataset, None)"
   ]
  },
  {
   "cell_type": "markdown",
   "metadata": {},
   "source": [
    "### Train 100%\n",
    "\n",
    "Train with all the data in the `TrainData-C2` dataset "
   ]
  },
  {
   "cell_type": "code",
   "execution_count": 18,
   "metadata": {},
   "outputs": [],
   "source": [
    "def group_3():\n",
    "    print(\"Reading annotations...\")\n",
    "    ann_df = pd.read_csv(TRAIN_DATA_PATCHES_ANN_FILE, dtype={'file_name': 'object', 'annotation': 'category'})\n",
    "    \n",
    "    print(\"Computing class weights...\")\n",
    "    class_weights = compute_class_weights(ann_df, 'annotation')\n",
    "\n",
    "    train_dataset = SoybeanDataset(TRAIN_DATA_PATCHES_DIR, ann_df, transforms=DATA_TRANSFORMS)\n",
    "    test_dataset  = SoybeanTestDatasetFolder(TEST_DATA_PATCHES_DIR, transforms=TEST_DATA_TRANSFORMS)\n",
    "    \n",
    "    return SoybeanDataGroup(class_weights, train_dataset, None, None, None, test_dataset, None)"
   ]
  },
  {
   "cell_type": "markdown",
   "metadata": {},
   "source": [
    "## Model\n",
    "\n",
    "This model is based on the VGG16 network with custom classifier layers \n",
    "with the feature layers initialized with weights based on the ImageNet data. \n",
    "\n",
    "The number of neurons and dropout rates in the classifier layers are parameterized."
   ]
  },
  {
   "cell_type": "code",
   "execution_count": 11,
   "metadata": {},
   "outputs": [],
   "source": [
    "def get_model(n1, d1, n2, d2):\n",
    "    model = models.vgg16(pretrained=True)\n",
    "\n",
    "    # Freeze training for all layers\n",
    "    for param in model.features.parameters():\n",
    "        param.requires_grad = False\n",
    "\n",
    "    model.avgpool = nn.AdaptiveAvgPool2d((1,1))\n",
    "    \n",
    "    # Replace the VGG16 classifier with a custom classifier for soybean wilting \n",
    "    model.classifier = nn.Sequential(\n",
    "        nn.Linear(512 * 1 * 1, n1, bias=True),\n",
    "        nn.ReLU(),\n",
    "        nn.Dropout(p=d1),\n",
    "        nn.Linear(n1, n2, bias=True),\n",
    "        nn.ReLU(),\n",
    "        nn.Dropout(p=d2),\n",
    "        nn.Linear(n2, 5, bias=True)\n",
    "    )\n",
    "    \n",
    "    return model"
   ]
  },
  {
   "cell_type": "markdown",
   "metadata": {},
   "source": [
    "## Training loop\n",
    "For training and validation, this trains a model across a configured number of epochs and outputs the training and validation loss and accuracy for each epoch."
   ]
  },
  {
   "cell_type": "code",
   "execution_count": 12,
   "metadata": {},
   "outputs": [],
   "source": [
    "def train_model(model, criterion, optimizer, dataloaders, dataset_sizes, num_epochs=25):\n",
    "    \"\"\"\n",
    "    Trains the specified neural network model\n",
    "    \n",
    "    Args:\n",
    "        model:         - neural network model to train\n",
    "        criterion:     - loss function\n",
    "        optimizer:     - gradient descent optimization algorithm\n",
    "        dataloaders:   - dict of DataLoaders for training and validation data\n",
    "        dataset_sizes: - dict of sizes of datasets\n",
    "        num_epochs:    - number of epochs to train model\n",
    "    Returns:\n",
    "        model   - trained model with weights from the epoch with the best validation accuracy\n",
    "        history - dict of training and validation loss and accuracy for all epochs\n",
    "    \"\"\"\n",
    "    since = time.time()\n",
    "    \n",
    "    # summary(model, input_size=(3, 224, 224))\n",
    "\n",
    "    best_model_wts = copy.deepcopy(model.state_dict())\n",
    "    best_acc = 0.0\n",
    "    \n",
    "    history = {'train': {'loss': [], 'acc': []}}\n",
    "    phases = ['train']\n",
    "    if ('val' in dataloaders and dataloaders['val'] is not None):\n",
    "        phases += ['val']\n",
    "        history['val'] = {'loss': [], 'acc': []}\n",
    "    \n",
    "    \n",
    "    for epoch in range(num_epochs):\n",
    "        epoch_start = time.time()\n",
    "        \n",
    "        print('Epoch {}/{}'.format(epoch, num_epochs - 1))\n",
    "        print('-' * 10)\n",
    "\n",
    "        # Each epoch has a training and optionally, a validation phase\n",
    "        for phase in phases:\n",
    "            if phase == 'train':\n",
    "                model.train()  # Set model to training mode\n",
    "            else:\n",
    "                model.eval()   # Set model to evaluate mode\n",
    "                \n",
    "            phase_start = time.time()\n",
    "\n",
    "            running_loss = 0.0\n",
    "            running_corrects = 0\n",
    "\n",
    "            # Iterate over data.\n",
    "            for inputs, labels in dataloaders[phase]:               \n",
    "                inputs = inputs.to(device)\n",
    "                labels = labels.to(device)\n",
    "\n",
    "                # zero the parameter gradients\n",
    "                optimizer.zero_grad()\n",
    "\n",
    "                # forward\n",
    "                # track history if only in train\n",
    "                with torch.set_grad_enabled(phase == 'train'):\n",
    "                    outputs = model(inputs)\n",
    "                    _, preds = torch.max(outputs, 1)\n",
    "                    loss = criterion(outputs, labels)\n",
    "\n",
    "                    # backward + optimize only if in training phase\n",
    "                    if phase == 'train':\n",
    "                        loss.backward()\n",
    "                        nn.utils.clip_grad_norm_(model.parameters(), 1)\n",
    "                        nn.utils.clip_grad_value_(model.parameters(), 0.5)\n",
    "                        optimizer.step()\n",
    "\n",
    "                # statistics\n",
    "                running_loss += loss.item() * inputs.size(0)\n",
    "                running_corrects += torch.sum(preds == labels.data)\n",
    "            \n",
    "            epoch_loss = running_loss / dataset_sizes[phase]\n",
    "            epoch_acc = running_corrects.double() / dataset_sizes[phase]\n",
    "            \n",
    "            history[phase]['loss'].append(epoch_loss)\n",
    "            history[phase]['acc'].append(epoch_acc)\n",
    "            \n",
    "            phase_end = time.time()\n",
    "            phase_elapsed = phase_end - phase_start\n",
    "\n",
    "            print('{} {} loss: {:.4f} accuracy: {:.4f}'.format(\n",
    "                phase, str(timedelta(seconds=phase_elapsed)), epoch_loss, epoch_acc))\n",
    "\n",
    "            # deep copy the model\n",
    "            if ('val' not in phases or phase == 'val') and epoch_acc > best_acc:\n",
    "                best_acc = epoch_acc\n",
    "                best_model_wts = copy.deepcopy(model.state_dict())\n",
    "\n",
    "        epoch_end = time.time()\n",
    "        epoch_elapsed = epoch_end - epoch_start\n",
    "        print('Elapsed time: {}'.format(str(timedelta(seconds=epoch_elapsed))))\n",
    "        \n",
    "        print()\n",
    "        \n",
    "\n",
    "    time_elapsed = time.time() - since\n",
    "    print('Training complete in {:.0f}m {:.0f}s'.format(time_elapsed // 60, time_elapsed % 60))\n",
    "    print('Best acc: {:4f}'.format(best_acc))\n",
    "\n",
    "    # load best model weights\n",
    "    model.load_state_dict(best_model_wts)\n",
    "    \n",
    "    return model, history"
   ]
  },
  {
   "cell_type": "markdown",
   "metadata": {},
   "source": [
    "## Train models"
   ]
  },
  {
   "cell_type": "code",
   "execution_count": 25,
   "metadata": {
    "scrolled": true
   },
   "outputs": [],
   "source": [
    "BATCH_SIZE = 32\n",
    "\n",
    "def get_sample_count(dataset, sampler):\n",
    "    if (sampler is not None):\n",
    "        return len(sampler)\n",
    "    elif (dataset is not None):\n",
    "        return len(dataset)\n",
    "    else:\n",
    "        return None\n",
    "    \n",
    "\n",
    "def train(model, group):\n",
    "    criterion = nn.CrossEntropyLoss(weight=group.class_weights)\n",
    "    optimizer = optim.Adam(model.parameters(), lr=0.001)\n",
    "    \n",
    "    dataloaders = {\n",
    "        'train': torch.utils.data.DataLoader(group.train_dataset, \n",
    "                                             sampler=group.train_sampler,\n",
    "                                             batch_size=BATCH_SIZE,\n",
    "                                             pin_memory=True, \n",
    "                                             num_workers=16), \n",
    "        'val': None if group.val_dataset is None else torch.utils.data.DataLoader(group.val_dataset,\n",
    "                                                                                  sampler=group.val_sampler,\n",
    "                                                                                  batch_size=BATCH_SIZE,\n",
    "                                                                                  pin_memory=True,\n",
    "                                                                                  num_workers=16)\n",
    "    }\n",
    "\n",
    "    dataset_sizes = {\n",
    "        'train': get_sample_count(group.train_dataset, group.train_sampler), \n",
    "        'val': get_sample_count(group.val_dataset, group.val_sampler) \n",
    "    }\n",
    "\n",
    "    model_trained, history = train_model(model, criterion, optimizer, dataloaders, dataset_sizes, num_epochs=3)\n",
    "    \n",
    "    \n",
    "    return model_trained, history\n",
    "\n",
    "\n",
    "@torch.no_grad()\n",
    "def get_all_preds(model, loader):\n",
    "    all_preds = torch.tensor([])\n",
    "    for batch in loader:\n",
    "        images, labels = batch\n",
    "\n",
    "        preds = model(images)\n",
    "        all_preds = torch.cat(\n",
    "            (all_preds, preds)\n",
    "            ,dim=0\n",
    "        )\n",
    "    return all_preds\n",
    "\n",
    "\n",
    "def plot_metrics(model, history):\n",
    "    \n",
    "    print()\n",
    "    print('Metrics')\n",
    "    print('-' * 10)\n",
    "    \n",
    "    # Create count of the number of epochs\n",
    "    epoch_count = range(1, len(history['train']['loss']) + 1)\n",
    "\n",
    "    # Visualize loss history\n",
    "    plt.plot(epoch_count, history['train']['loss'], 'g-')\n",
    "    loss_legend = ['Training Loss']\n",
    "    \n",
    "    if ('val' in history and history['val'] is not None):\n",
    "        plt.plot(epoch_count, history['val']['loss'], 'b-')\n",
    "        loss_legend += ['Validation Loss']\n",
    "        \n",
    "    plt.legend(loss_legend)\n",
    "    plt.xlabel('Epoch')\n",
    "    plt.ylabel('Loss')\n",
    "    plt.show();\n",
    "    \n",
    "    # Visualize accuracy history\n",
    "    plt.plot(epoch_count, history['train']['acc'], 'g-')\n",
    "    acc_legend = ['Training Accuracy']\n",
    "    \n",
    "    if ('val' in history and history['val'] is not None):\n",
    "        plt.plot(epoch_count, history['val']['acc'], 'b-')\n",
    "        acc_legend += ['Validation Accuracy']\n",
    "    \n",
    "    plt.legend(acc_legend)\n",
    "    plt.xlabel('Epoch')\n",
    "    plt.ylabel('Accuracy')\n",
    "    plt.show();\n",
    "    \n",
    "    # Training confusion matrix\n",
    "    # train_preds = get_all_preds(model, dataloaders['train'])\n",
    "    # train_labels = \n",
    "    \n",
    "    # Validation confusion matrix\n",
    "    #if (dataloaders['val'] is not None):\n",
    "    #    val_preds = get_all_preds(model, dataloaders['val'])\n",
    "     \n",
    "\n",
    "\n",
    "def train_and_test(model, group):\n",
    "    model_trained, history = train(model, group)\n",
    "    \n",
    "    # Plot history metrics\n",
    "    plot_metrics(model_trained, history)\n",
    "    \n",
    "    # Classify test data\n",
    "    return predict(model_trained, group)\n",
    "\n",
    "\n",
    "def predict(model, group):\n",
    "    test_loader = torch.utils.data.DataLoader(group.test_dataset, \n",
    "                                              sampler=group.test_sampler,\n",
    "                                              batch_size=BATCH_SIZE,\n",
    "                                              pin_memory=True,\n",
    "                                              num_workers=0)\n",
    "    predictions = torch.tensor([], dtype=torch.long).to(device)\n",
    "    \n",
    "    with torch.no_grad():\n",
    "        for data in test_loader:\n",
    "            if (type(data) is list):\n",
    "                images = data[0].to(device)\n",
    "            else:\n",
    "                images = data.to(device)\n",
    "            \n",
    "            outputs = model(images)\n",
    "            _, predicted = torch.max(outputs, 1)\n",
    "            predictions = torch.cat((predictions, predicted))\n",
    "\n",
    "    return predictions\n",
    "\n",
    "\n",
    "def predict_whole_images(patch_predictions, rows, columns, csvfile):\n",
    "    y_hat_test = patch_predictions.cpu().numpy()\n",
    "    y_hat_patch_groups = np.split(y_hat_test, int(len(y_hat_test)/(rows * columns)))\n",
    "    y_hat_whole_images = list(map(lambda x: stats.mode(x).mode[0], y_hat_patch_groups))\n",
    "\n",
    "    for k, v in sorted(Counter(y_hat_whole_images).items()): \n",
    "        print(str(k) + ': '+ str(v))    \n",
    "\n",
    "    one_hots = [np.zeros((5,1)) for pred in y_hat_whole_images]\n",
    "    for i in range(len(one_hots)):\n",
    "        pred = y_hat_whole_images[i]  # the index of the one-hot encoding\n",
    "        one_hots[i][pred] = 1\n",
    "    with open(csvfile, 'w') as predictions_file:\n",
    "        writer = csv.writer(predictions_file)\n",
    "        for pred in one_hots:\n",
    "            pred = np.array(pred, dtype=int)\n",
    "            writer.writerow(pred.T.tolist()[0])\n",
    "    print('Finished generating predictions to', csvfile)"
   ]
  },
  {
   "cell_type": "markdown",
   "metadata": {},
   "source": [
    "### Train and Test - Group 1"
   ]
  },
  {
   "cell_type": "code",
   "execution_count": 21,
   "metadata": {
    "scrolled": true
   },
   "outputs": [
    {
     "name": "stdout",
     "output_type": "stream",
     "text": [
      "Reading annotations...\n",
      "Computing class weights...\n",
      "Splitting data into training and validation sets...\n",
      "Epoch 0/2\n",
      "----------\n",
      "train 0:00:50.365719 loss: 1.0260 accuracy: 0.5698\n",
      "val 0:00:09.209841 loss: 0.9163 accuracy: 0.6033\n",
      "Elapsed time: 0:00:59.579310\n",
      "\n",
      "Epoch 1/2\n",
      "----------\n",
      "train 0:00:49.271736 loss: 0.9065 accuracy: 0.6273\n",
      "val 0:00:08.958978 loss: 0.8598 accuracy: 0.6476\n",
      "Elapsed time: 0:00:58.233624\n",
      "\n",
      "Epoch 2/2\n",
      "----------\n",
      "train 0:00:49.223617 loss: 0.8436 accuracy: 0.6571\n",
      "val 0:00:08.957556 loss: 0.8328 accuracy: 0.6853\n",
      "Elapsed time: 0:00:58.184275\n",
      "\n",
      "Training complete in 2m 56s\n",
      "Best acc: 0.685278\n"
     ]
    },
    {
     "data": {
      "image/png": "[encoded data removed]",
      "text/plain": [
       "<Figure size 432x288 with 1 Axes>"
      ]
     },
     "metadata": {
      "needs_background": "light"
     },
     "output_type": "display_data"
    },
    {
     "data": {
      "image/png": "[encoded data removed]",
      "text/plain": [
       "<Figure size 432x288 with 1 Axes>"
      ]
     },
     "metadata": {
      "needs_background": "light"
     },
     "output_type": "display_data"
    },
    {
     "name": "stdout",
     "output_type": "stream",
     "text": [
      "0: 13\n",
      "1: 130\n",
      "2: 2\n",
      "3: 7\n",
      "4: 48\n",
      "Finished generating predictions to predictions_c2_g1.csv\n"
     ]
    }
   ],
   "source": [
    "model = get_model(1024, 0.1, 128, 0.1).to(device)\n",
    "y_hat_test = train_and_test(model, group_1())\n",
    "predict_whole_images(y_hat_test, 5, 5, 'predictions_c2_g1.csv')"
   ]
  },
  {
   "cell_type": "markdown",
   "metadata": {},
   "source": [
    "### Train and Test - Group 2"
   ]
  },
  {
   "cell_type": "code",
   "execution_count": 24,
   "metadata": {},
   "outputs": [
    {
     "name": "stdout",
     "output_type": "stream",
     "text": [
      "Reading annotations...\n",
      "Computing class weights...\n",
      "Splitting data into training, validation, and test sets...\n",
      "Epoch 0/2\n",
      "----------\n",
      "train 0:00:33.117606 loss: 1.3415 accuracy: 0.4840\n",
      "val 0:00:32.493421 loss: 1.3690 accuracy: 0.5196\n",
      "Elapsed time: 0:01:05.614094\n",
      "\n",
      "Epoch 1/2\n",
      "----------\n",
      "train 0:00:33.513008 loss: 1.1747 accuracy: 0.5561\n",
      "val 0:00:33.043106 loss: 1.3928 accuracy: 0.5430\n",
      "Elapsed time: 0:01:06.558672\n",
      "\n",
      "Epoch 2/2\n",
      "----------\n",
      "train 0:00:32.611749 loss: 1.1161 accuracy: 0.5735\n",
      "val 0:00:32.351024 loss: 1.3231 accuracy: 0.5671\n",
      "Elapsed time: 0:01:04.966130\n",
      "\n",
      "Training complete in 3m 17s\n",
      "Best acc: 0.567115\n"
     ]
    },
    {
     "data": {
      "image/png": "[encoded data removed]",
      "text/plain": [
       "<Figure size 432x288 with 1 Axes>"
      ]
     },
     "metadata": {
      "needs_background": "light"
     },
     "output_type": "display_data"
    },
    {
     "data": {
      "image/png": "[encoded data removed]",
      "text/plain": [
       "<Figure size 432x288 with 1 Axes>"
      ]
     },
     "metadata": {
      "needs_background": "light"
     },
     "output_type": "display_data"
    },
    {
     "name": "stdout",
     "output_type": "stream",
     "text": [
      "0: 196\n",
      "1: 3\n",
      "3: 22\n",
      "4: 34\n",
      "Finished generating predictions to predictions_c2_g2.csv\n"
     ]
    }
   ],
   "source": [
    "model = get_model(1024, 0.1, 128, 0.1).to(device)\n",
    "y_hat_test = train_and_test(model, group_2())\n",
    "predict_whole_images(y_hat_test, 5, 5, 'predictions_c2_g2.csv')"
   ]
  },
  {
   "cell_type": "markdown",
   "metadata": {},
   "source": [
    "### Train and Test - Group 3"
   ]
  },
  {
   "cell_type": "code",
   "execution_count": 116,
   "metadata": {},
   "outputs": [
    {
     "name": "stdout",
     "output_type": "stream",
     "text": [
      "Reading annotations...\n",
      "Computing class weights...\n",
      "Epoch 0/0\n",
      "----------\n",
      "train 0:00:58.408690 loss: 1.2433 accuracy: 0.5142\n",
      "Elapsed time: 0:00:58.411297\n",
      "\n",
      "Training complete in 0m 58s\n",
      "Best acc: 0.514165\n",
      "1: 145\n",
      "4: 55\n",
      "Finished generating predictions to predictions_c2_g3.csv\n"
     ]
    }
   ],
   "source": [
    "model = get_model(1024, 0.1, 128, 0.1).to(device)\n",
    "y_hat_test = train_and_test(model, group_3())\n",
    "predict_whole_images(y_hat_test, 5, 5, 'predictions_c2_g3.csv')"
   ]
  },
  {
   "cell_type": "markdown",
   "metadata": {},
   "source": [
    "## Hyperparameter Optimization\n",
    "The following hyperparameters can be tuned:\n",
    "1. `n1` - Number of neurons in the first classifier dense layer\n",
    "2. `d1` - Dropout rate after first classifier dense layer\n",
    "3. `n2` - Number of neurons in the second classifier dense layer\n",
    "4. `d2` - Dropout rate after the second classifier dense layer"
   ]
  },
  {
   "cell_type": "code",
   "execution_count": 12,
   "metadata": {},
   "outputs": [],
   "source": [
    "optimal_n1 = 1024\n",
    "optimal_d1 = 0.1\n",
    "optimal_n2 = 128\n",
    "optimal_d2 = 0.1"
   ]
  },
  {
   "cell_type": "markdown",
   "metadata": {},
   "source": [
    "## Train with all C2 data and optimal hyperparameters"
   ]
  },
  {
   "cell_type": "code",
   "execution_count": 17,
   "metadata": {},
   "outputs": [
    {
     "name": "stdout",
     "output_type": "stream",
     "text": [
      "Reading annotations...\n",
      "Computing class weights...\n",
      "Epoch 0/2\n",
      "----------\n",
      "train 0:00:57.558074 loss: 1.2381 accuracy: 0.5166\n",
      "Elapsed time: 0:00:57.561155\n",
      "\n",
      "Epoch 1/2\n",
      "----------\n",
      "train 0:00:58.235612 loss: 1.1176 accuracy: 0.5699\n",
      "Elapsed time: 0:00:58.238565\n",
      "\n",
      "Epoch 2/2\n",
      "----------\n",
      "train 0:00:57.882026 loss: 1.0808 accuracy: 0.5862\n",
      "Elapsed time: 0:00:57.885037\n",
      "\n",
      "Training complete in 2m 54s\n",
      "Best acc: 0.586165\n"
     ]
    },
    {
     "data": {
      "image/png": "[encoded data removed]",
      "text/plain": [
       "<Figure size 432x288 with 1 Axes>"
      ]
     },
     "metadata": {
      "needs_background": "light"
     },
     "output_type": "display_data"
    },
    {
     "data": {
      "image/png": "[encoded data removed]",
      "text/plain": [
       "<Figure size 432x288 with 1 Axes>"
      ]
     },
     "metadata": {
      "needs_background": "light"
     },
     "output_type": "display_data"
    },
    {
     "name": "stdout",
     "output_type": "stream",
     "text": [
      "0: 1\n",
      "1: 144\n",
      "4: 55\n",
      "Finished generating predictions to predict_c2_1.csv\n"
     ]
    }
   ],
   "source": [
    "model = get_model(optimal_n1, optimal_d1, optimal_n2, optimal_d2).to(device)\n",
    "y_hat_test = train_and_test(model, group_3())\n",
    "predict_whole_images(y_hat_test, 5, 5, 'predict_c2_1.csv')"
   ]
  },
  {
   "cell_type": "code",
   "execution_count": null,
   "metadata": {},
   "outputs": [],
   "source": []
  }
 ],
 "metadata": {
  "kernelspec": {
   "display_name": "Python 3",
   "language": "python",
   "name": "python3"
  },
  "language_info": {
   "codemirror_mode": {
    "name": "ipython",
    "version": 3
   },
   "file_extension": ".py",
   "mimetype": "text/x-python",
   "name": "python",
   "nbconvert_exporter": "python",
   "pygments_lexer": "ipython3",
   "version": "3.7.7"
  }
 },
 "nbformat": 4,
 "nbformat_minor": 4
}
