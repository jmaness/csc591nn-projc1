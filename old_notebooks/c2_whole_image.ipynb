{
 "cells": [
  {
   "cell_type": "code",
   "execution_count": 3,
   "metadata": {
    "colab": {
     "base_uri": "https://localhost:8080/",
     "height": 1000
    },
    "colab_type": "code",
    "id": "PXjHzAiE7fEC",
    "outputId": "b3f22b73-2c8c-46d6-9af6-3f9391b1e90a"
   },
   "outputs": [
    {
     "name": "stdout",
     "output_type": "stream",
     "text": [
      "Requirement already satisfied: matplotlib in /usr/local/lib/python3.6/dist-packages (3.2.1)\n",
      "Requirement already satisfied: cycler>=0.10 in /usr/local/lib/python3.6/dist-packages (from matplotlib) (0.10.0)\n",
      "Requirement already satisfied: numpy>=1.11 in /usr/local/lib/python3.6/dist-packages (from matplotlib) (1.18.2)\n",
      "Requirement already satisfied: pyparsing!=2.0.4,!=2.1.2,!=2.1.6,>=2.0.1 in /usr/local/lib/python3.6/dist-packages (from matplotlib) (2.4.7)\n",
      "Requirement already satisfied: python-dateutil>=2.1 in /usr/local/lib/python3.6/dist-packages (from matplotlib) (2.8.1)\n",
      "Requirement already satisfied: kiwisolver>=1.0.1 in /usr/local/lib/python3.6/dist-packages (from matplotlib) (1.2.0)\n",
      "Requirement already satisfied: six in /usr/local/lib/python3.6/dist-packages (from cycler>=0.10->matplotlib) (1.12.0)\n",
      "Requirement already satisfied: numpy in /usr/local/lib/python3.6/dist-packages (1.18.2)\n",
      "Requirement already satisfied: opencv-python in /usr/local/lib/python3.6/dist-packages (4.1.2.30)\n",
      "Requirement already satisfied: numpy>=1.11.3 in /usr/local/lib/python3.6/dist-packages (from opencv-python) (1.18.2)\n",
      "Collecting opencv-contrib-python==3.4.2.17\n",
      "\u001b[?25l  Downloading https://files.pythonhosted.org/packages/61/29/fc60b2de1713aa92946992544329f20ccb5e4ba26290f403e04b7da44105/opencv_contrib_python-3.4.2.17-cp36-cp36m-manylinux1_x86_64.whl (30.6MB)\n",
      "\u001b[K     |████████████████████████████████| 30.6MB 94kB/s \n",
      "\u001b[?25hRequirement already satisfied: numpy>=1.11.3 in /usr/local/lib/python3.6/dist-packages (from opencv-contrib-python==3.4.2.17) (1.18.2)\n",
      "Installing collected packages: opencv-contrib-python\n",
      "  Found existing installation: opencv-contrib-python 4.1.2.30\n",
      "    Uninstalling opencv-contrib-python-4.1.2.30:\n",
      "      Successfully uninstalled opencv-contrib-python-4.1.2.30\n",
      "Successfully installed opencv-contrib-python-3.4.2.17\n"
     ]
    },
    {
     "data": {
      "application/vnd.colab-display-data+json": {
       "pip_warning": {
        "packages": [
         "cv2"
        ]
       }
      }
     },
     "metadata": {
      "tags": []
     },
     "output_type": "display_data"
    },
    {
     "name": "stdout",
     "output_type": "stream",
     "text": [
      "Requirement already satisfied: pandas in /usr/local/lib/python3.6/dist-packages (1.0.3)\n",
      "Requirement already satisfied: pytz>=2017.2 in /usr/local/lib/python3.6/dist-packages (from pandas) (2018.9)\n",
      "Requirement already satisfied: numpy>=1.13.3 in /usr/local/lib/python3.6/dist-packages (from pandas) (1.18.2)\n",
      "Requirement already satisfied: python-dateutil>=2.6.1 in /usr/local/lib/python3.6/dist-packages (from pandas) (2.8.1)\n",
      "Requirement already satisfied: six>=1.5 in /usr/local/lib/python3.6/dist-packages (from python-dateutil>=2.6.1->pandas) (1.12.0)\n",
      "Requirement already satisfied: pillow in /usr/local/lib/python3.6/dist-packages (7.0.0)\n",
      "Requirement already satisfied: scikit-learn in /usr/local/lib/python3.6/dist-packages (0.22.2.post1)\n",
      "Requirement already satisfied: numpy>=1.11.0 in /usr/local/lib/python3.6/dist-packages (from scikit-learn) (1.18.2)\n",
      "Requirement already satisfied: scipy>=0.17.0 in /usr/local/lib/python3.6/dist-packages (from scikit-learn) (1.4.1)\n",
      "Requirement already satisfied: joblib>=0.11 in /usr/local/lib/python3.6/dist-packages (from scikit-learn) (0.14.1)\n",
      "Requirement already satisfied: scikit-image in /usr/local/lib/python3.6/dist-packages (0.16.2)\n",
      "Requirement already satisfied: scipy>=0.19.0 in /usr/local/lib/python3.6/dist-packages (from scikit-image) (1.4.1)\n",
      "Requirement already satisfied: matplotlib!=3.0.0,>=2.0.0 in /usr/local/lib/python3.6/dist-packages (from scikit-image) (3.2.1)\n",
      "Requirement already satisfied: networkx>=2.0 in /usr/local/lib/python3.6/dist-packages (from scikit-image) (2.4)\n",
      "Requirement already satisfied: pillow>=4.3.0 in /usr/local/lib/python3.6/dist-packages (from scikit-image) (7.0.0)\n",
      "Requirement already satisfied: imageio>=2.3.0 in /usr/local/lib/python3.6/dist-packages (from scikit-image) (2.4.1)\n",
      "Requirement already satisfied: PyWavelets>=0.4.0 in /usr/local/lib/python3.6/dist-packages (from scikit-image) (1.1.1)\n",
      "Requirement already satisfied: numpy>=1.13.3 in /usr/local/lib/python3.6/dist-packages (from scipy>=0.19.0->scikit-image) (1.18.2)\n",
      "Requirement already satisfied: pyparsing!=2.0.4,!=2.1.2,!=2.1.6,>=2.0.1 in /usr/local/lib/python3.6/dist-packages (from matplotlib!=3.0.0,>=2.0.0->scikit-image) (2.4.7)\n",
      "Requirement already satisfied: python-dateutil>=2.1 in /usr/local/lib/python3.6/dist-packages (from matplotlib!=3.0.0,>=2.0.0->scikit-image) (2.8.1)\n",
      "Requirement already satisfied: kiwisolver>=1.0.1 in /usr/local/lib/python3.6/dist-packages (from matplotlib!=3.0.0,>=2.0.0->scikit-image) (1.2.0)\n",
      "Requirement already satisfied: cycler>=0.10 in /usr/local/lib/python3.6/dist-packages (from matplotlib!=3.0.0,>=2.0.0->scikit-image) (0.10.0)\n",
      "Requirement already satisfied: decorator>=4.3.0 in /usr/local/lib/python3.6/dist-packages (from networkx>=2.0->scikit-image) (4.4.2)\n",
      "Requirement already satisfied: six>=1.5 in /usr/local/lib/python3.6/dist-packages (from python-dateutil>=2.1->matplotlib!=3.0.0,>=2.0.0->scikit-image) (1.12.0)\n",
      "Collecting scikit-optimize\n",
      "\u001b[?25l  Downloading https://files.pythonhosted.org/packages/5c/87/310b52debfbc0cb79764e5770fa3f5c18f6f0754809ea9e2fc185e1b67d3/scikit_optimize-0.7.4-py2.py3-none-any.whl (80kB)\n",
      "\u001b[K     |████████████████████████████████| 81kB 2.3MB/s \n",
      "\u001b[?25hRequirement already satisfied: scipy>=0.18.0 in /usr/local/lib/python3.6/dist-packages (from scikit-optimize) (1.4.1)\n",
      "Requirement already satisfied: joblib>=0.11 in /usr/local/lib/python3.6/dist-packages (from scikit-optimize) (0.14.1)\n",
      "Collecting pyaml>=16.9\n",
      "  Downloading https://files.pythonhosted.org/packages/15/c4/1310a054d33abc318426a956e7d6df0df76a6ddfa9c66f6310274fb75d42/pyaml-20.4.0-py2.py3-none-any.whl\n",
      "Requirement already satisfied: scikit-learn>=0.19.1 in /usr/local/lib/python3.6/dist-packages (from scikit-optimize) (0.22.2.post1)\n",
      "Requirement already satisfied: numpy>=1.11.0 in /usr/local/lib/python3.6/dist-packages (from scikit-optimize) (1.18.2)\n",
      "Requirement already satisfied: PyYAML in /usr/local/lib/python3.6/dist-packages (from pyaml>=16.9->scikit-optimize) (3.13)\n",
      "Installing collected packages: pyaml, scikit-optimize\n",
      "Successfully installed pyaml-20.4.0 scikit-optimize-0.7.4\n",
      "Collecting shortuuid\n",
      "  Downloading https://files.pythonhosted.org/packages/25/a6/2ecc1daa6a304e7f1b216f0896b26156b78e7c38e1211e9b798b4716c53d/shortuuid-1.0.1-py3-none-any.whl\n",
      "Installing collected packages: shortuuid\n",
      "Successfully installed shortuuid-1.0.1\n",
      "Requirement already satisfied: torch in /usr/local/lib/python3.6/dist-packages (1.4.0)\n",
      "Requirement already satisfied: torchsummary in /usr/local/lib/python3.6/dist-packages (1.5.1)\n",
      "Requirement already satisfied: torchvision in /usr/local/lib/python3.6/dist-packages (0.5.0)\n",
      "Requirement already satisfied: torch==1.4.0 in /usr/local/lib/python3.6/dist-packages (from torchvision) (1.4.0)\n",
      "Requirement already satisfied: numpy in /usr/local/lib/python3.6/dist-packages (from torchvision) (1.18.2)\n",
      "Requirement already satisfied: pillow>=4.1.1 in /usr/local/lib/python3.6/dist-packages (from torchvision) (7.0.0)\n",
      "Requirement already satisfied: six in /usr/local/lib/python3.6/dist-packages (from torchvision) (1.12.0)\n"
     ]
    }
   ],
   "source": [
    "!pip install matplotlib\n",
    "!pip install numpy\n",
    "!pip install opencv-python\n",
    "!pip install opencv-contrib-python==3.4.2.17\n",
    "!pip install pandas\n",
    "!pip install pillow\n",
    "!pip install scikit-learn\n",
    "!pip install scikit-image\n",
    "!pip install scikit-optimize\n",
    "!pip install shortuuid\n",
    "!pip install torch\n",
    "!pip install torchsummary\n",
    "!pip install torchvision\n"
   ]
  },
  {
   "cell_type": "code",
   "execution_count": 1,
   "metadata": {
    "colab": {},
    "colab_type": "code",
    "id": "noqAinN-7cMw",
    "pycharm": {
     "is_executing": false
    },
    "scrolled": true
   },
   "outputs": [],
   "source": [
    "import copy\n",
    "import csv\n",
    "import cv2\n",
    "import glob\n",
    "import os\n",
    "import shutil\n",
    "import time\n",
    "from collections import Counter\n",
    "from datetime import timedelta\n",
    "import shortuuid\n",
    "\n",
    "from IPython.display import display\n",
    "import matplotlib.pyplot as plt\n",
    "import numpy as np\n",
    "import pandas as pd\n",
    "import torch\n",
    "import torch.nn as nn\n",
    "import torch.optim as optim\n",
    "from PIL import Image\n",
    "from scipy import stats\n",
    "from sklearn.model_selection import train_test_split\n",
    "from sklearn.utils import class_weight\n",
    "from torchvision import models, transforms\n",
    "\n",
    "def ann_file(data_dir):\n",
    "    return os.path.join(data_dir, \"TrainAnnotations.csv\")\n",
    "\n",
    "\n",
    "TRAIN_DATA_DIR = \"data/TrainData-C2\"\n",
    "TRAIN_DATA_ANN_FILE = ann_file(TRAIN_DATA_DIR)\n",
    "\n",
    "TRAIN_SPLIT_DATA_DIR           = \"data/train/split\"\n",
    "TRAIN_SPLIT_ANN_FILE           = ann_file(TRAIN_SPLIT_DATA_DIR)\n",
    "TRAIN_SPLIT_AUGMENTED_DATA_DIR = \"data/train/augmented\"\n",
    "TRAIN_SPLIT_AUGMENTED_ANN_FILE = ann_file(TRAIN_SPLIT_AUGMENTED_DATA_DIR)\n",
    "\n",
    "TRAIN_ALL_AUGMENTED_DATA_DIR   = \"data/train-all/augmented\"\n",
    "TRAIN_ALL_AUGMENTED_ANN_FILE   = ann_file(TRAIN_ALL_AUGMENTED_DATA_DIR)\n",
    "\n",
    "VAL_SPLIT_DATA_DIR         = \"data/val/split\"\n",
    "VAL_SPLIT_ANN_FILE         = ann_file(VAL_SPLIT_DATA_DIR)\n",
    "\n",
    "TEST_DATA_DIR         = \"data/TestData/\"\n"
   ]
  },
  {
   "cell_type": "code",
   "execution_count": 1,
   "metadata": {
    "colab": {
     "base_uri": "https://localhost:8080/",
     "height": 127
    },
    "colab_type": "code",
    "id": "IxpfGGthD2xj",
    "outputId": "1a14c0a6-2f3d-47ee-95d6-2a8f535b8e9b"
   },
   "outputs": [
    {
     "name": "stdout",
     "output_type": "stream",
     "text": [
      "Go to this URL in a browser: https://accounts.google.com/o/oauth2/auth?client_id=947318989803-6bn6qk8qdgf4n4g3pfee6491hc0brc4i.apps.googleusercontent.com&redirect_uri=urn%3aietf%3awg%3aoauth%3a2.0%3aoob&response_type=code&scope=email%20https%3a%2f%2fwww.googleapis.com%2fauth%2fdocs.test%20https%3a%2f%2fwww.googleapis.com%2fauth%2fdrive%20https%3a%2f%2fwww.googleapis.com%2fauth%2fdrive.photos.readonly%20https%3a%2f%2fwww.googleapis.com%2fauth%2fpeopleapi.readonly\n",
      "\n",
      "Enter your authorization code:\n",
      "··········\n",
      "Mounted at /content/drive\n"
     ]
    }
   ],
   "source": [
    "from google.colab import drive\n",
    "drive.mount('/content/drive')"
   ]
  },
  {
   "cell_type": "markdown",
   "metadata": {
    "colab_type": "text",
    "id": "QfRD-DhA7cM2"
   },
   "source": [
    "## Enable GPU if available"
   ]
  },
  {
   "cell_type": "code",
   "execution_count": 2,
   "metadata": {
    "colab": {},
    "colab_type": "code",
    "id": "NYQfmTAd7cM3",
    "pycharm": {
     "is_executing": false
    }
   },
   "outputs": [],
   "source": [
    "device = torch.device(\"cuda:0\" if torch.cuda.is_available() else \"cpu\")"
   ]
  },
  {
   "cell_type": "code",
   "execution_count": 3,
   "metadata": {
    "colab": {
     "base_uri": "https://localhost:8080/",
     "height": 35
    },
    "colab_type": "code",
    "id": "qG8hTxRoFwUX",
    "outputId": "a5f5199b-2be9-4f9b-eae4-3c436cb075ce"
   },
   "outputs": [
    {
     "data": {
      "text/plain": [
       "device(type='cuda', index=0)"
      ]
     },
     "execution_count": 3,
     "metadata": {},
     "output_type": "execute_result"
    }
   ],
   "source": [
    "device"
   ]
  },
  {
   "cell_type": "markdown",
   "metadata": {
    "colab_type": "text",
    "id": "ewAYY8cR7cM7"
   },
   "source": [
    "## Split data\n",
    "Generate random, stratified 80/20 split for training and validation sets"
   ]
  },
  {
   "cell_type": "code",
   "execution_count": 4,
   "metadata": {
    "colab": {
     "base_uri": "https://localhost:8080/",
     "height": 143
    },
    "colab_type": "code",
    "id": "oQu2uA8y7cM8",
    "outputId": "7513456c-8b04-4262-d716-067df9fb0759"
   },
   "outputs": [
    {
     "name": "stdout",
     "output_type": "stream",
     "text": [
      "Data directories for splits already exist. Skipping\n"
     ]
    }
   ],
   "source": [
    "if (os.path.exists(TRAIN_SPLIT_DATA_DIR) or os.path.exists(VAL_SPLIT_DATA_DIR)):\n",
    "    print(\"Data directories for splits already exist. Skipping\")\n",
    "else:\n",
    "    # Generate 80/20 split\n",
    "\n",
    "    print(\"Reading {} annotations...\".format(TRAIN_DATA_ANN_FILE))\n",
    "    ann_df = pd.read_csv(TRAIN_DATA_ANN_FILE, dtype={'file_name': 'object', 'annotation': 'category'})\n",
    "\n",
    "    print(\"Splitting data into training and validation sets...\")\n",
    "    train_df, val_df = train_test_split(ann_df,\n",
    "                                        train_size=0.80,\n",
    "                                        random_state=138,\n",
    "                                        shuffle=True,\n",
    "                                        stratify=ann_df[['annotation']].to_numpy(dtype=np.int32).flatten())\n",
    "\n",
    "    os.makedirs(TRAIN_SPLIT_DATA_DIR)\n",
    "    os.makedirs(VAL_SPLIT_DATA_DIR)\n",
    "    \n",
    "    print(\"Copying files for training split...\")\n",
    "    for _, row in train_df.iterrows():\n",
    "        filename = row['file_name']\n",
    "        src = os.path.join(TRAIN_DATA_DIR, filename)\n",
    "        dest = os.path.join(TRAIN_SPLIT_DATA_DIR, filename)\n",
    "        shutil.copyfile(src, dest)\n",
    "        \n",
    "    print(\"Generating training split annotations...\")\n",
    "    train_df.sort_values('file_name').to_csv(TRAIN_SPLIT_ANN_FILE, index=False)\n",
    "        \n",
    "    print(\"Copying files for validation split...\")\n",
    "    for _, row in val_df.iterrows():\n",
    "        filename = row['file_name']\n",
    "        src = os.path.join(TRAIN_DATA_DIR, filename)\n",
    "        dest = os.path.join(VAL_SPLIT_DATA_DIR, filename)\n",
    "        shutil.copyfile(src, dest)\n",
    "        \n",
    "    print(\"Generating validation split annotations...\")\n",
    "    val_df.sort_values('file_name').to_csv(VAL_SPLIT_ANN_FILE, index=False)\n",
    "        \n",
    "    print(\"Done.\")"
   ]
  },
  {
   "cell_type": "markdown",
   "metadata": {
    "colab_type": "text",
    "id": "FIXAqD5j7cNB"
   },
   "source": [
    "## Augment data\n",
    "Because the training dataset is unbalanced, augment the training data set by generating\n",
    "new images for the lower numbered samples."
   ]
  },
  {
   "cell_type": "markdown",
   "metadata": {
    "colab_type": "text",
    "id": "NofMYY9M7cNC"
   },
   "source": [
    "\n"
   ]
  },
  {
   "cell_type": "code",
   "execution_count": 5,
   "metadata": {
    "colab": {},
    "colab_type": "code",
    "id": "aGyzq4Jg7cNE",
    "pycharm": {
     "is_executing": false,
     "name": "#%%\n"
    }
   },
   "outputs": [],
   "source": [
    "RANDOM_STATE = 13\n",
    "\n",
    "IMG_EXTENSIONS = ('.jpg', '.jpeg', '.png', '.ppm', '.bmp', '.pgm', '.tif', '.tiff', '.webp')\n",
    "\n",
    "\n",
    "def is_image_file(filename):\n",
    "    return filename.endswith(IMG_EXTENSIONS)\n",
    "\n",
    "\n",
    "def augment_data(src_dir, src_ann_file, dest_dir, dest_ann_file, class_sample_count=500):\n",
    "    os.makedirs(dest_dir)\n",
    "\n",
    "    ann_df = pd.read_csv(src_ann_file, dtype={'file_name': 'object', 'annotation': 'category'}) \n",
    "    new_samples = {}\n",
    "    \n",
    "    for i in range(5):\n",
    "        class_df = ann_df.query(\"annotation == '{}'\".format(i))\n",
    "        num_class_samples = class_df.shape[0]\n",
    "        num_to_create = class_sample_count - num_class_samples\n",
    "            \n",
    "        print(\"Creating {} images for class {}\".format(num_to_create, i))\n",
    "        samples = class_df.sample(n=num_to_create, replace=True, random_state=RANDOM_STATE)\n",
    "    \n",
    "        for idx, row in samples.iterrows():\n",
    "            new_filename = row['file_name'].split('.')[0] + \"_\" + shortuuid.uuid() + \".png\"\n",
    "    \n",
    "            # Apply transformations to each randomly selected sample\n",
    "            img = Image.open(src_dir + \"/\" + row['file_name'])\n",
    "            image_transforms = transforms.Compose([\n",
    "                transforms.RandomAffine(degrees=20, translate=(0.2, 0.2)),\n",
    "                transforms.ColorJitter(brightness=0.1, contrast=0.1, saturation=0.1, hue=0.1),\n",
    "                transforms.RandomResizedCrop((480, 640), scale=(1.0, 1.2)),\n",
    "            ])\n",
    "            transformed_img = image_transforms(img)\n",
    "            transformed_img.save(os.path.join(dest_dir, new_filename))\n",
    "    \n",
    "            new_samples[new_filename] = row['annotation']\n",
    "    \n",
    "    # Add to new dataframe\n",
    "    balanced_df = pd.read_csv(src_ann_file, dtype={'file_name': 'object', 'annotation': 'category'})\n",
    "    balanced_df = balanced_df.append(pd.DataFrame.from_records([(k, v) for k, v in new_samples.items()],\n",
    "                                                 columns=['file_name', 'annotation']))\n",
    "    \n",
    "    # Write new annotations\n",
    "    balanced_df.sort_values('file_name').to_csv(dest_ann_file, index=False)\n",
    "    \n",
    "    # Copy images from training data split\n",
    "    for file in glob.glob(src_dir + \"/*\"):\n",
    "        if is_image_file(file):\n",
    "            shutil.copy(file, os.path.join(dest_dir, os.path.basename(file)))\n",
    "\n",
    "\n",
    "\n"
   ]
  },
  {
   "cell_type": "markdown",
   "metadata": {
    "colab_type": "text",
    "id": "vd_Rqbpq7cNI",
    "pycharm": {
     "name": "#%% md\n"
    }
   },
   "source": [
    "### Run data augmentation\n",
    "\n",
    "Perform the data augmentation on the training data set split to balance the class samples."
   ]
  },
  {
   "cell_type": "code",
   "execution_count": 6,
   "metadata": {
    "colab": {
     "base_uri": "https://localhost:8080/",
     "height": 269
    },
    "colab_type": "code",
    "id": "VW9-Evfi7cNJ",
    "outputId": "c3cf0bef-7ea2-4fc4-ead4-44e8a84911f5",
    "pycharm": {
     "is_executing": false,
     "name": "#%%\n"
    }
   },
   "outputs": [
    {
     "name": "stdout",
     "output_type": "stream",
     "text": [
      "Augmented SPLIT training data already exists. Skipping.\n",
      "Augmented ALL training data already exists. Skipping.\n"
     ]
    }
   ],
   "source": [
    "if os.path.exists(TRAIN_SPLIT_AUGMENTED_DATA_DIR):\n",
    "    print(\"Augmented SPLIT training data already exists. Skipping.\")\n",
    "else:\n",
    "    print(\"Balancing class samples for SPLIT training data...\")\n",
    "    augment_data(TRAIN_SPLIT_DATA_DIR,\n",
    "                 TRAIN_SPLIT_ANN_FILE,\n",
    "                 TRAIN_SPLIT_AUGMENTED_DATA_DIR,\n",
    "                 TRAIN_SPLIT_AUGMENTED_ANN_FILE,\n",
    "                 class_sample_count=400)    \n",
    "    print(\"Done.\")\n",
    "\n",
    "if os.path.exists(TRAIN_ALL_AUGMENTED_DATA_DIR):\n",
    "    print(\"Augmented ALL training data already exists. Skipping.\")\n",
    "else:\n",
    "    print(\"Balancing class samples for ALL training data...\")\n",
    "    augment_data(TRAIN_DATA_DIR,\n",
    "                 TRAIN_DATA_ANN_FILE,\n",
    "                 TRAIN_ALL_AUGMENTED_DATA_DIR,\n",
    "                 TRAIN_ALL_AUGMENTED_ANN_FILE,\n",
    "                 class_sample_count=500)\n",
    "    print(\"Done.\")"
   ]
  },
  {
   "cell_type": "markdown",
   "metadata": {
    "colab_type": "text",
    "id": "Ka1mtady7cNN",
    "pycharm": {
     "name": "#%% md\n"
    }
   },
   "source": [
    "## Datasets\n",
    "\n",
    "Given a directory of images and a CSV file of annotations, this defines a PyTorch Dataset which will load an image from disk and apply all configure transformations and return a tuple containing the image and label.\n"
   ]
  },
  {
   "cell_type": "code",
   "execution_count": 7,
   "metadata": {
    "colab": {},
    "colab_type": "code",
    "id": "7MB1CoV27cNO",
    "pycharm": {
     "is_executing": false
    },
    "scrolled": true
   },
   "outputs": [],
   "source": [
    "class SoybeanDataset(torch.utils.data.dataset.Dataset):\n",
    "    def __init__(self, data_path, ann_df, transforms=None):\n",
    "        \"\"\"\n",
    "        Args:\n",
    "            data_path (string): path to images\n",
    "            ann_df (string): pandas data frame containing file names and annotations\n",
    "            transform: pytorch transforms for transforms and tensor conversion\n",
    "        \"\"\"\n",
    "        self.data_path = data_path\n",
    "        \n",
    "        self.data = ann_df\n",
    "        self.labels = np.asarray(self.data.iloc[:, 1])\n",
    "        \n",
    "        self.transforms = transforms\n",
    "\n",
    "    def __getitem__(self, index):\n",
    "        #print('index:', index)\n",
    "        image_label = int(self.labels[index])\n",
    "        img_path = os.path.join(self.data_path, self.data.file_name[index])\n",
    "\n",
    "        img = Image.open(img_path)\n",
    "        \n",
    "        # Transform image\n",
    "        if self.transforms is not None:\n",
    "            img = self.transforms(img)\n",
    "            \n",
    "        # Return image and the label\n",
    "        return img, image_label\n",
    "\n",
    "    def __len__(self):\n",
    "        return self.data.shape[0]\n",
    "\n",
    "\n",
    "class SoybeanTestDatasetFolder(torch.utils.data.IterableDataset):\n",
    "    def __init__(self, data_path, transforms=None):\n",
    "        \"\"\"\n",
    "        Args:\n",
    "            data_path (string): path to images\n",
    "            transform: pytorch transforms for transforms and tensor conversion\n",
    "        \"\"\"\n",
    "        self.data_path = data_path\n",
    "        self.transforms = transforms\n",
    "        \n",
    "        self.images = []\n",
    "        \n",
    "        for root, _, fnames in sorted(os.walk(data_path, followlinks=True)):\n",
    "            for fname in sorted(fnames):\n",
    "                path = fname\n",
    "                if is_image_file(path):\n",
    "                    self.images.append(path)\n",
    "\n",
    "                                       \n",
    "    def image_gen(self):\n",
    "        for i in self.images:\n",
    "            img_path = os.path.join(self.data_path, i)\n",
    "            img = Image.open(img_path)\n",
    "        \n",
    "            # Transform image\n",
    "            if self.transforms is not None:\n",
    "                img = self.transforms(img)\n",
    "                \n",
    "            yield img\n",
    "            \n",
    "\n",
    "    def __iter__(self):\n",
    "        return iter(self.image_gen())\n",
    "\n",
    "    \n",
    "    def __len__(self):\n",
    "        return len(self.images)\n",
    "    \n",
    "\n",
    "\n",
    "class SoybeanDataGroup():\n",
    "    def __init__(self, class_weights, \n",
    "                 train_dataloader,\n",
    "                 val_dataloader=None,\n",
    "                 test_dataloader=None):\n",
    "        self.class_weights = class_weights\n",
    "        self.train_dataloader = train_dataloader\n",
    "        self.val_dataloader = val_dataloader\n",
    "        self.test_dataloader = test_dataloader\n",
    "\n",
    "\n",
    "def compute_class_weights(df, y_col):\n",
    "    \"\"\"\n",
    "    Returns a list of class labels to 'balanced' weights based on the\n",
    "    frequency of the weights across the labels in the specified dataframe\n",
    "    \"\"\"\n",
    "    y = df[[y_col]].to_numpy(dtype=np.int32).flatten()\n",
    "    weights = class_weight.compute_class_weight('balanced', np.unique(y), y)\n",
    "    return torch.tensor(weights, dtype=torch.float32).to(device)\n",
    "    \n"
   ]
  },
  {
   "cell_type": "markdown",
   "metadata": {
    "colab_type": "text",
    "id": "YO5a1hNZ7cNS"
   },
   "source": [
    "### Common image transformations\n",
    "These images transformations will apply to both train and validation data."
   ]
  },
  {
   "cell_type": "code",
   "execution_count": 8,
   "metadata": {
    "colab": {},
    "colab_type": "code",
    "id": "hMVSt8Lt7cNS",
    "pycharm": {
     "is_executing": false
    }
   },
   "outputs": [],
   "source": [
    "class SamplewiseCenterNormalize(object):\n",
    "\n",
    "    def __init__(self):\n",
    "        pass\n",
    "    \n",
    "    def __call__(self, tensor):\n",
    "        \"\"\"\n",
    "        Args:\n",
    "            tensor (Tensor): Tensor image of size (C, H, W) to be normalized.\n",
    "\n",
    "        Returns:\n",
    "            Tensor: Normalized Tensor image.\n",
    "        \"\"\"\n",
    "        \n",
    "        return torch.div(torch.add(tensor, torch.mul(torch.mean(tensor), -1)), torch.std(tensor) + 1e-6)\n",
    "        \n",
    "\n",
    "    def __repr__(self):\n",
    "        return self.__class__.__name__\n",
    "\n",
    "\n",
    "\n",
    "DATA_TRANSFORMS = transforms.Compose([\n",
    "    transforms.RandomHorizontalFlip(),\n",
    "    #transforms.RandomAffine(degrees=20, translate=(0.2, 0.2)),\n",
    "    transforms.RandomAffine(degrees=20, translate=(0.2, 0.2), shear=10, scale=(1.0, 1.2)),\n",
    "    transforms.ColorJitter(brightness=0.1, contrast=0.1, saturation=0.1, hue=0.1),\n",
    "    #transforms.RandomCrop(size=(480,640)),\n",
    "    transforms.ToTensor(),\n",
    "    # transforms.Normalize((0.5, 0.5, 0.5), (0.5, 0.5, 0.5))\n",
    "    # SamplewiseCenterNormalize()\n",
    "\n",
    "    transforms.Normalize((0.485, 0.456, 0.406), (0.229, 0.224, 0.225))\n",
    "])\n",
    "\n",
    "TEST_DATA_TRANSFORMS = transforms.Compose([\n",
    "    transforms.ToTensor(),\n",
    "    # transforms.Normalize((0.5, 0.5, 0.5), (0.5, 0.5, 0.5))\n",
    "    # SamplewiseCenterNormalize()\n",
    "    transforms.Normalize((0.485, 0.456, 0.406), (0.229, 0.224, 0.225))\n",
    "])"
   ]
  },
  {
   "cell_type": "markdown",
   "metadata": {
    "colab_type": "text",
    "id": "NXx52-qM7cNU"
   },
   "source": [
    "### Train 0.80/Val 0.20 Split"
   ]
  },
  {
   "cell_type": "code",
   "execution_count": 9,
   "metadata": {
    "colab": {},
    "colab_type": "code",
    "id": "U9P2484z7cNV",
    "pycharm": {
     "is_executing": false
    }
   },
   "outputs": [],
   "source": [
    "def train_val_split_group(class_weights=None):\n",
    "    \n",
    "    print(\"Reading annotations...\")\n",
    "    train_ann_df = pd.read_csv(TRAIN_SPLIT_AUGMENTED_ANN_FILE, dtype={'file_name': 'object', 'annotation': 'category'})\n",
    "    val_ann_df   = pd.read_csv(VAL_SPLIT_ANN_FILE, dtype={'file_name': 'object', 'annotation': 'category'})\n",
    "    \n",
    "    if class_weights is None:\n",
    "        print(\"Computing class weights...\")\n",
    "        class_weights = compute_class_weights(train_ann_df, 'annotation')\n",
    "        print(class_weights)\n",
    "    else:\n",
    "        print(\"Using class weights:\", class_weights)\n",
    "        \n",
    "    train_dataset = SoybeanDataset(TRAIN_SPLIT_AUGMENTED_DATA_DIR, train_ann_df, transforms=DATA_TRANSFORMS)\n",
    "    val_dataset = SoybeanDataset(VAL_SPLIT_DATA_DIR, val_ann_df, transforms=TEST_DATA_TRANSFORMS)\n",
    "    test_dataset  = SoybeanTestDatasetFolder(TEST_DATA_DIR, transforms=TEST_DATA_TRANSFORMS)\n",
    "    \n",
    "    train_dataloader = torch.utils.data.DataLoader(train_dataset, \n",
    "                                                   batch_size=BATCH_SIZE,\n",
    "                                                   pin_memory=True, \n",
    "                                                   num_workers=16)\n",
    "    val_dataloader = torch.utils.data.DataLoader(val_dataset,\n",
    "                                                 batch_size=BATCH_SIZE,\n",
    "                                                 pin_memory=True,\n",
    "                                                 num_workers=16)\n",
    "    test_dataloader = torch.utils.data.DataLoader(test_dataset,\n",
    "                                                  batch_size=BATCH_SIZE,\n",
    "                                                  pin_memory=True,\n",
    "                                                  num_workers=0)\n",
    "    \n",
    "    return SoybeanDataGroup(class_weights, train_dataloader, val_dataloader, test_dataloader)\n"
   ]
  },
  {
   "cell_type": "markdown",
   "metadata": {
    "colab_type": "text",
    "id": "DBkL7NWZ7cNW"
   },
   "source": [
    "### Train 100%\n",
    "\n",
    "Train with all the data in the `TrainData-C2` dataset "
   ]
  },
  {
   "cell_type": "code",
   "execution_count": 10,
   "metadata": {
    "colab": {},
    "colab_type": "code",
    "id": "m0_EUTtT7cNX",
    "pycharm": {
     "is_executing": false
    }
   },
   "outputs": [],
   "source": [
    "def all_train_data_group(class_weights=None):\n",
    "    print(\"Reading annotations...\")\n",
    "    ann_df = pd.read_csv(TRAIN_DATA_AUGMENTED_ANN_FILE, dtype={'file_name': 'object', 'annotation': 'category'})\n",
    "    \n",
    "    if class_weights is None:\n",
    "        print(\"Computing class weights...\")\n",
    "        class_weights = compute_class_weights(ann_df, 'annotation')\n",
    "        print(class_weights)\n",
    "    else:\n",
    "        print(\"Using class weights:\", class_weights)\n",
    "\n",
    "    train_dataset = SoybeanDataset(TRAIN_DATA_AUGMENTED_DATA_DIR, ann_df, transforms=DATA_TRANSFORMS)\n",
    "    test_dataset  = SoybeanTestDatasetFolder(TEST_DATA_DIR, transforms=TEST_DATA_TRANSFORMS)\n",
    "    \n",
    "    train_dataloader = torch.utils.data.DataLoader(train_dataset, \n",
    "                                                   batch_size=BATCH_SIZE,\n",
    "                                                   pin_memory=True, \n",
    "                                                   num_workers=16)\n",
    "    \n",
    "    test_dataloader = torch.utils.data.DataLoader(test_dataset,\n",
    "                                                  batch_size=BATCH_SIZE,\n",
    "                                                  pin_memory=True,\n",
    "                                                  num_workers=0)\n",
    "    \n",
    "    return SoybeanDataGroup(class_weights, train_dataloader, None, test_dataloader)"
   ]
  },
  {
   "cell_type": "markdown",
   "metadata": {
    "colab_type": "text",
    "id": "b2gd8pv57cNZ"
   },
   "source": [
    "## Model\n",
    "\n",
    "This model is based on the VGG16 network with custom classifier layers \n",
    "with the feature layers initialized with weights based on the ImageNet data. \n",
    "\n",
    "The number of neurons and dropout rates in the classifier layers are parameterized."
   ]
  },
  {
   "cell_type": "code",
   "execution_count": 11,
   "metadata": {
    "colab": {},
    "colab_type": "code",
    "id": "aw8JROHi7cNZ",
    "pycharm": {
     "is_executing": false
    }
   },
   "outputs": [],
   "source": [
    "def get_model(n1, n2, dropout, batch_normalization=False):\n",
    "    if batch_normalization:\n",
    "        model = models.vgg16_bn(pretrained=True)\n",
    "    else:\n",
    "        model = models.vgg16(pretrained=True) \n",
    "\n",
    "    # Freeze training for all layers\n",
    "    for param in model.features.parameters():\n",
    "        param.requires_grad = False\n",
    "\n",
    "    model.avgpool = nn.AdaptiveAvgPool2d((1,1))\n",
    "    \n",
    "    # Replace the VGG16 classifier with a custom classifier for soybean wilting \n",
    "    model.classifier = nn.Sequential(\n",
    "        nn.Linear(512 * 1 * 1, n1, bias=True),\n",
    "        nn.ReLU(),\n",
    "        nn.Dropout(p=dropout),\n",
    "        nn.Linear(n1, n2, bias=True),\n",
    "        nn.ReLU(),\n",
    "        nn.Dropout(p=dropout),\n",
    "        nn.Linear(n2, 5, bias=True)\n",
    "    )\n",
    "    \n",
    "    return model"
   ]
  },
  {
   "cell_type": "markdown",
   "metadata": {
    "colab_type": "text",
    "id": "WwZpxLMY7cNc"
   },
   "source": [
    "## Training loop\n",
    "For training and validation, this trains a model across a configured number of epochs and outputs the training and validation loss and accuracy for each epoch."
   ]
  },
  {
   "cell_type": "code",
   "execution_count": 12,
   "metadata": {
    "colab": {},
    "colab_type": "code",
    "id": "5C6V4fu97cNc",
    "pycharm": {
     "is_executing": false
    }
   },
   "outputs": [],
   "source": [
    "def train_model(model, criterion, optimizer, dataloaders, num_epochs=25):\n",
    "    \"\"\"\n",
    "    Trains the specified neural network model\n",
    "    \n",
    "    Args:\n",
    "        model:         - neural network model to train\n",
    "        criterion:     - loss function\n",
    "        optimizer:     - gradient descent optimization algorithm\n",
    "        dataloaders:   - dict of DataLoaders for training and validation data\n",
    "        num_epochs:    - number of epochs to train model\n",
    "    Returns:\n",
    "        model   - trained model with weights from the epoch with the best validation accuracy\n",
    "        history - dict of training and validation loss and accuracy for all epochs\n",
    "    \"\"\"\n",
    "    since = time.time()\n",
    "    \n",
    "    # summary(model, input_size=(3, 224, 224))\n",
    "\n",
    "    best_model_wts = copy.deepcopy(model.state_dict())\n",
    "    best_acc = 0.0\n",
    "    \n",
    "    history = {'train': {'loss': [], 'acc': []}}\n",
    "    phases = ['train']\n",
    "    if ('val' in dataloaders and dataloaders['val'] is not None):\n",
    "        phases += ['val']\n",
    "        history['val'] = {'loss': [], 'acc': []}\n",
    "    \n",
    "    \n",
    "    for epoch in range(num_epochs):\n",
    "        epoch_start = time.time()\n",
    "        \n",
    "        print('Epoch {}/{}'.format(epoch, num_epochs - 1))\n",
    "        print('-' * 10)\n",
    "\n",
    "        # Each epoch has a training and optionally, a validation phase\n",
    "        for phase in phases:\n",
    "            if phase == 'train':\n",
    "                model.train()  # Set model to training mode\n",
    "            else:\n",
    "                model.eval()   # Set model to evaluate mode\n",
    "                \n",
    "            phase_start = time.time()\n",
    "\n",
    "            sample_count = 0\n",
    "            running_loss = 0.0\n",
    "            running_corrects = 0\n",
    "\n",
    "            # Iterate over data.\n",
    "            for inputs, labels in dataloaders[phase]:               \n",
    "                inputs = inputs.to(device)\n",
    "                labels = labels.to(device)\n",
    "\n",
    "                # zero the parameter gradients\n",
    "                optimizer.zero_grad()\n",
    "\n",
    "                # forward\n",
    "                # track history if only in train\n",
    "                with torch.set_grad_enabled(phase == 'train'):\n",
    "                    outputs = model(inputs)\n",
    "                    _, preds = torch.max(outputs, 1)\n",
    "                    loss = criterion(outputs, labels)\n",
    "\n",
    "                    # backward + optimize only if in training phase\n",
    "                    if phase == 'train':\n",
    "                        loss.backward()\n",
    "                        nn.utils.clip_grad_norm_(model.parameters(), 1)\n",
    "                        nn.utils.clip_grad_value_(model.parameters(), 0.5)\n",
    "                        optimizer.step()\n",
    "\n",
    "                # statistics\n",
    "                sample_count += inputs.size(0)\n",
    "                running_loss += loss.item() * inputs.size(0)\n",
    "                running_corrects += preds.eq(labels.data.view_as(preds)).cpu().sum()\n",
    "            \n",
    "            print('Num samples', sample_count)\n",
    "            \n",
    "            epoch_loss = running_loss / sample_count\n",
    "            epoch_acc = running_corrects.double() / sample_count\n",
    "            \n",
    "            history[phase]['loss'].append(epoch_loss)\n",
    "            history[phase]['acc'].append(epoch_acc)\n",
    "            \n",
    "            phase_end = time.time()\n",
    "            phase_elapsed = phase_end - phase_start\n",
    "\n",
    "            print('{} {} loss: {:.4f} accuracy: {:.4f}'.format(\n",
    "                phase, str(timedelta(seconds=phase_elapsed)), epoch_loss, epoch_acc))\n",
    "\n",
    "            # deep copy the model\n",
    "            if ('val' not in phases or phase == 'val') and epoch_acc > best_acc:\n",
    "                best_acc = epoch_acc\n",
    "                best_model_wts = copy.deepcopy(model.state_dict())\n",
    "\n",
    "        epoch_end = time.time()\n",
    "        epoch_elapsed = epoch_end - epoch_start\n",
    "        print('Elapsed time: {}'.format(str(timedelta(seconds=epoch_elapsed))))\n",
    "        \n",
    "        print()\n",
    "        \n",
    "\n",
    "    time_elapsed = time.time() - since\n",
    "    print('Training complete in {:.0f}m {:.0f}s'.format(time_elapsed // 60, time_elapsed % 60))\n",
    "    print('Best acc: {:4f}'.format(best_acc))\n",
    "\n",
    "    # load best model weights\n",
    "    model.load_state_dict(best_model_wts)\n",
    "    \n",
    "    return model, history"
   ]
  },
  {
   "cell_type": "markdown",
   "metadata": {
    "colab_type": "text",
    "id": "35400hD97cNe"
   },
   "source": [
    "## Train models"
   ]
  },
  {
   "cell_type": "code",
   "execution_count": 21,
   "metadata": {
    "colab": {},
    "colab_type": "code",
    "id": "lsjkwx-Y7cNf",
    "pycharm": {
     "is_executing": false
    },
    "scrolled": true
   },
   "outputs": [],
   "source": [
    "BATCH_SIZE = 32\n",
    "\n",
    "def get_sample_count(dataset, sampler):\n",
    "    if (sampler is not None):\n",
    "        return len(sampler)\n",
    "    elif (dataset is not None):\n",
    "        return len(dataset)\n",
    "    else:\n",
    "        return None\n",
    "    \n",
    "\n",
    "def train(model, group, num_epochs=20):\n",
    "    criterion = nn.CrossEntropyLoss(weight=group.class_weights)\n",
    "    optimizer = optim.Adam(model.parameters(), lr=0.001, eps=1e-07)\n",
    "    \n",
    "    dataloaders = {\n",
    "        'train': group.train_dataloader,\n",
    "        'val': group.val_dataloader\n",
    "    }\n",
    " \n",
    "    model_trained, history = train_model(model, criterion, optimizer, dataloaders, num_epochs)\n",
    "    \n",
    "    \n",
    "    return model_trained, history\n",
    "\n",
    "\n",
    "def get_all_labels(loader):\n",
    "    all_labels = torch.tensor([], dtype=torch.long)\n",
    "    for batch in loader:\n",
    "        _, labels = batch\n",
    "        all_labels = torch.cat((all_labels, labels), dim=0)\n",
    "    return all_labels\n",
    "\n",
    "\n",
    "def plot_metrics(model, history, train_dataloader, val_dataloader=None):\n",
    "    \n",
    "    print()\n",
    "    print('Metrics')\n",
    "    print('-' * 10)\n",
    "    \n",
    "    # Create count of the number of epochs\n",
    "    epoch_count = range(1, len(history['train']['loss']) + 1)\n",
    "\n",
    "    # Visualize loss history\n",
    "    plt.plot(epoch_count, history['train']['loss'], 'g-')\n",
    "    loss_legend = ['Training Loss']\n",
    "    \n",
    "    if ('val' in history and history['val'] is not None):\n",
    "        plt.plot(epoch_count, history['val']['loss'], 'b-')\n",
    "        loss_legend += ['Validation Loss']\n",
    "        \n",
    "    plt.legend(loss_legend)\n",
    "    plt.xlabel('Epoch')\n",
    "    plt.ylabel('Loss')\n",
    "    plt.show()\n",
    "    \n",
    "    # Visualize accuracy history\n",
    "    plt.plot(epoch_count, history['train']['acc'], 'g-')\n",
    "    acc_legend = ['Training Accuracy']\n",
    "    \n",
    "    if ('val' in history and history['val'] is not None):\n",
    "        plt.plot(epoch_count, history['val']['acc'], 'b-')\n",
    "        acc_legend += ['Validation Accuracy']\n",
    "    \n",
    "    plt.legend(acc_legend)\n",
    "    plt.xlabel('Epoch')\n",
    "    plt.ylabel('Accuracy')\n",
    "    plt.show()\n",
    "    \n",
    "    \n",
    "    # Training confusion matrix\n",
    "    train_predictions = predict(model, train_dataloader).cpu().numpy()\n",
    "    \n",
    "    print(\"Training Confusion Matrix\")\n",
    "    print(\"-\" * 30)\n",
    "    print_confusion_matrix(get_all_labels(train_dataloader).cpu().numpy(),\n",
    "                           train_predictions)\n",
    "        \n",
    "    # Validation confusion matrix\n",
    "    if val_dataloader is not None:\n",
    "        val_predictions = predict(model, val_dataloader).cpu().numpy()\n",
    "        \n",
    "        print(\"Validation Confusion Matrix\")\n",
    "        print(\"-\" * 30)\n",
    "        print_confusion_matrix(get_all_labels(val_dataloader).cpu().numpy(),\n",
    "                               val_predictions)\n",
    "        \n",
    "\n",
    "def train_and_test(model, group, num_epochs=60):\n",
    "    model_trained, history = train(model, group, num_epochs)\n",
    "    \n",
    "    # Plot history metrics\n",
    "    plot_metrics(model_trained, history, group.train_dataloader, group.val_dataloader)\n",
    "    \n",
    "    # Classify test data\n",
    "    return predict(model_trained, group.test_dataloader)\n",
    "\n",
    "\n",
    "def predict(model, dataloader):\n",
    "    predictions = torch.tensor([], dtype=torch.long).to(device)\n",
    "    \n",
    "    with torch.no_grad():\n",
    "        for data in dataloader:\n",
    "            if (type(data) is list):\n",
    "                images = data[0].to(device)\n",
    "            else:\n",
    "                images = data.to(device)\n",
    "            model.eval()\n",
    "            outputs = model(images)\n",
    "            _, predicted = torch.max(outputs, 1)\n",
    "            predictions = torch.cat((predictions, predicted))\n",
    "\n",
    "    return predictions\n",
    "\n",
    "def one_hot_encode_predictions(predictions, csvfile):\n",
    "\n",
    "    #for k, v in sorted(Counter(predictions).items()): \n",
    "    #    print(str(k) + ': '+ str(v))    \n",
    "\n",
    "    one_hots = [np.zeros((5,1)) for pred in predictions]\n",
    "    for i in range(len(one_hots)):\n",
    "        pred = predictions[i]  # the index of the one-hot encoding\n",
    "        one_hots[i][pred] = 1\n",
    "    with open(csvfile, 'w') as predictions_file:\n",
    "        writer = csv.writer(predictions_file)\n",
    "        for pred in one_hots:\n",
    "            pred = np.array(pred, dtype=int)\n",
    "            writer.writerow(pred.T.tolist()[0])\n",
    "    print('Finished generating predictions to', csvfile)\n",
    "\n",
    "\n",
    "def print_confusion_matrix(y, y_hat):\n",
    "    confusion_matrix = np.zeros((5, 5))\n",
    "    labels = [0, 1, 2, 3, 4]\n",
    "    for i in range(len(labels)):\n",
    "        for j in range(len(labels)):\n",
    "            ground_truth = y==labels[i]\n",
    "            prediction = y_hat==labels[j]\n",
    "            confusion_matrix[i, j] = sum(np.bitwise_and(ground_truth, prediction))\n",
    "    df = pd.DataFrame(confusion_matrix, dtype=int)\n",
    "    display(df)"
   ]
  },
  {
   "cell_type": "markdown",
   "metadata": {
    "colab_type": "text",
    "id": "0mbw-waF7cNg"
   },
   "source": [
    "### Train and Test - 80/20 Split"
   ]
  },
  {
   "cell_type": "code",
   "execution_count": 0,
   "metadata": {
    "colab": {},
    "colab_type": "code",
    "id": "UTDUHqwa7cNh",
    "pycharm": {
     "is_executing": false
    },
    "scrolled": true
   },
   "outputs": [],
   "source": [
    "#model = get_model(1024, 128, 0.5).to(device)\n",
    "#y_hat_test = train_and_test(model, train_val_split_group(), num_epochs=1)\n",
    "#predictions_file = \"predict_c2_g1_\" + shortuuid.uuid()\n",
    "#print('predictions file:', predictions_file)\n",
    "#predict_whole_images(y_hat_test, 5, 5, predictions_file)"
   ]
  },
  {
   "cell_type": "markdown",
   "metadata": {
    "colab_type": "text",
    "id": "1nskqko77cNi"
   },
   "source": [
    "### Train and Test - All Train Data\n"
   ]
  },
  {
   "cell_type": "code",
   "execution_count": 14,
   "metadata": {
    "colab": {},
    "colab_type": "code",
    "id": "Zt3yqV-U7cNj"
   },
   "outputs": [],
   "source": [
    "#model = get_model(1024, 128, 0.1).to(device)\n",
    "#y_hat_test = train_and_test(model, group_3())\n",
    "#predict_whole_images(y_hat_test, 5, 5, 'predictions_c2_g3.csv')\n"
   ]
  },
  {
   "cell_type": "markdown",
   "metadata": {
    "colab_type": "text",
    "id": "Rx9eyrNE7cNk"
   },
   "source": [
    "## Hyperparameter Optimization\n",
    "The following hyperparameters can be tuned:\n",
    "1. `n1` - Number of neurons in the first classifier dense layer\n",
    "2. `n2` - Number of neurons in the second classifier dense layer\n",
    "3. `d` - Dropout rate after classifier dense layers\n",
    "4. class weights - `[1,1,1,1,1]` (default) or `[1,1,5,5,1]`\n",
    "5. batch normalization - `no` or `yes`\n",
    "\n"
   ]
  },
  {
   "cell_type": "code",
   "execution_count": 20,
   "metadata": {
    "colab": {},
    "colab_type": "code",
    "id": "NYzqxiwl7cNl"
   },
   "outputs": [],
   "source": [
    "def run_trial(name, model, class_weights=None, num_epochs=40):\n",
    "    y_hat_test = train_and_test(model, train_val_split_group(class_weights), num_epochs)\n",
    "    predictions_file = \"predict_c2_whole_{}_{}.csv\".format(name, shortuuid.uuid())\n",
    "    print('predictions file:', predictions_file)\n",
    "    one_hot_encode_predictions(y_hat_test, predictions_file)\n",
    "\n",
    "    print('Test distribution:')\n",
    "    print(y_hat_test.bincount())\n",
    "    return y_hat_test"
   ]
  },
  {
   "cell_type": "markdown",
   "metadata": {
    "colab_type": "text",
    "id": "XQ6f-3Os7cNn"
   },
   "source": [
    "#### H1: 1024-128-5\n",
    "\n",
    "* DNN Structure: 1024-128-5\n",
    "* Dropout: 0.5\n",
    "* Class weights: [1,1,1,1,1]\n",
    "* Batch normalization: no\n"
   ]
  },
  {
   "cell_type": "code",
   "execution_count": 22,
   "metadata": {
    "colab": {
     "base_uri": "https://localhost:8080/",
     "height": 1000
    },
    "colab_type": "code",
    "id": "gIPG65Ma7cNn",
    "outputId": "4274e2b4-4e87-4416-cb9a-262c89baa6d2"
   },
   "outputs": [
    {
     "name": "stdout",
     "output_type": "stream",
     "text": [
      "Reading annotations...\n",
      "Computing class weights...\n",
      "tensor([1., 1., 1., 1., 1.], device='cuda:0')\n",
      "Epoch 0/0\n",
      "----------\n",
      "Num samples 2000\n",
      "train 0:00:25.095676 loss: 1.3948 accuracy: 0.3950\n",
      "Num samples 255\n",
      "val 0:00:03.917939 loss: 1.2468 accuracy: 0.3725\n",
      "Elapsed time: 0:00:29.016444\n",
      "\n",
      "Training complete in 0m 29s\n",
      "Best acc: 0.372549\n",
      "\n",
      "Metrics\n",
      "----------\n"
     ]
    },
    {
     "data": {
      "image/png": "[encoded data removed]",
      "text/plain": [
       "<Figure size 432x288 with 1 Axes>"
      ]
     },
     "metadata": {
      "needs_background": "light"
     },
     "output_type": "display_data"
    },
    {
     "data": {
      "image/png": "[encoded data removed]",
      "text/plain": [
       "<Figure size 432x288 with 1 Axes>"
      ]
     },
     "metadata": {
      "needs_background": "light"
     },
     "output_type": "display_data"
    },
    {
     "name": "stdout",
     "output_type": "stream",
     "text": [
      "Training Confusion Matrix\n",
      "------------------------------\n"
     ]
    },
    {
     "data": {
      "text/html": [
       "<div>\n",
       "<style scoped>\n",
       "    .dataframe tbody tr th:only-of-type {\n",
       "        vertical-align: middle;\n",
       "    }\n",
       "\n",
       "    .dataframe tbody tr th {\n",
       "        vertical-align: top;\n",
       "    }\n",
       "\n",
       "    .dataframe thead th {\n",
       "        text-align: right;\n",
       "    }\n",
       "</style>\n",
       "<table border=\"1\" class=\"dataframe\">\n",
       "  <thead>\n",
       "    <tr style=\"text-align: right;\">\n",
       "      <th></th>\n",
       "      <th>0</th>\n",
       "      <th>1</th>\n",
       "      <th>2</th>\n",
       "      <th>3</th>\n",
       "      <th>4</th>\n",
       "    </tr>\n",
       "  </thead>\n",
       "  <tbody>\n",
       "    <tr>\n",
       "      <th>0</th>\n",
       "      <td>0</td>\n",
       "      <td>393</td>\n",
       "      <td>0</td>\n",
       "      <td>0</td>\n",
       "      <td>7</td>\n",
       "    </tr>\n",
       "    <tr>\n",
       "      <th>1</th>\n",
       "      <td>0</td>\n",
       "      <td>265</td>\n",
       "      <td>0</td>\n",
       "      <td>0</td>\n",
       "      <td>135</td>\n",
       "    </tr>\n",
       "    <tr>\n",
       "      <th>2</th>\n",
       "      <td>0</td>\n",
       "      <td>249</td>\n",
       "      <td>0</td>\n",
       "      <td>0</td>\n",
       "      <td>151</td>\n",
       "    </tr>\n",
       "    <tr>\n",
       "      <th>3</th>\n",
       "      <td>0</td>\n",
       "      <td>91</td>\n",
       "      <td>0</td>\n",
       "      <td>0</td>\n",
       "      <td>309</td>\n",
       "    </tr>\n",
       "    <tr>\n",
       "      <th>4</th>\n",
       "      <td>0</td>\n",
       "      <td>3</td>\n",
       "      <td>0</td>\n",
       "      <td>0</td>\n",
       "      <td>397</td>\n",
       "    </tr>\n",
       "  </tbody>\n",
       "</table>\n",
       "</div>"
      ],
      "text/plain": [
       "   0    1  2  3    4\n",
       "0  0  393  0  0    7\n",
       "1  0  265  0  0  135\n",
       "2  0  249  0  0  151\n",
       "3  0   91  0  0  309\n",
       "4  0    3  0  0  397"
      ]
     },
     "metadata": {},
     "output_type": "display_data"
    },
    {
     "name": "stdout",
     "output_type": "stream",
     "text": [
      "Validation Confusion Matrix\n",
      "------------------------------\n"
     ]
    },
    {
     "data": {
      "text/html": [
       "<div>\n",
       "<style scoped>\n",
       "    .dataframe tbody tr th:only-of-type {\n",
       "        vertical-align: middle;\n",
       "    }\n",
       "\n",
       "    .dataframe tbody tr th {\n",
       "        vertical-align: top;\n",
       "    }\n",
       "\n",
       "    .dataframe thead th {\n",
       "        text-align: right;\n",
       "    }\n",
       "</style>\n",
       "<table border=\"1\" class=\"dataframe\">\n",
       "  <thead>\n",
       "    <tr style=\"text-align: right;\">\n",
       "      <th></th>\n",
       "      <th>0</th>\n",
       "      <th>1</th>\n",
       "      <th>2</th>\n",
       "      <th>3</th>\n",
       "      <th>4</th>\n",
       "    </tr>\n",
       "  </thead>\n",
       "  <tbody>\n",
       "    <tr>\n",
       "      <th>0</th>\n",
       "      <td>0</td>\n",
       "      <td>98</td>\n",
       "      <td>0</td>\n",
       "      <td>0</td>\n",
       "      <td>0</td>\n",
       "    </tr>\n",
       "    <tr>\n",
       "      <th>1</th>\n",
       "      <td>0</td>\n",
       "      <td>59</td>\n",
       "      <td>0</td>\n",
       "      <td>0</td>\n",
       "      <td>7</td>\n",
       "    </tr>\n",
       "    <tr>\n",
       "      <th>2</th>\n",
       "      <td>0</td>\n",
       "      <td>21</td>\n",
       "      <td>0</td>\n",
       "      <td>0</td>\n",
       "      <td>5</td>\n",
       "    </tr>\n",
       "    <tr>\n",
       "      <th>3</th>\n",
       "      <td>0</td>\n",
       "      <td>17</td>\n",
       "      <td>0</td>\n",
       "      <td>0</td>\n",
       "      <td>9</td>\n",
       "    </tr>\n",
       "    <tr>\n",
       "      <th>4</th>\n",
       "      <td>0</td>\n",
       "      <td>3</td>\n",
       "      <td>0</td>\n",
       "      <td>0</td>\n",
       "      <td>36</td>\n",
       "    </tr>\n",
       "  </tbody>\n",
       "</table>\n",
       "</div>"
      ],
      "text/plain": [
       "   0   1  2  3   4\n",
       "0  0  98  0  0   0\n",
       "1  0  59  0  0   7\n",
       "2  0  21  0  0   5\n",
       "3  0  17  0  0   9\n",
       "4  0   3  0  0  36"
      ]
     },
     "metadata": {},
     "output_type": "display_data"
    },
    {
     "name": "stdout",
     "output_type": "stream",
     "text": [
      "predictions file: predict_c2_whole_h1_aMWNKG4HL6wZfhH4CZM8XN.csv\n",
      "Finished generating predictions to predict_c2_whole_h1_aMWNKG4HL6wZfhH4CZM8XN.csv\n",
      "Test distribution:\n",
      "tensor([  1, 140,   0,   0,  59], device='cuda:0')\n"
     ]
    }
   ],
   "source": [
    "model = get_model(1024, 128, 0.5).to(device)\n",
    "y_hat_test = run_trial(\"h1\", model, num_epochs=1)"
   ]
  },
  {
   "cell_type": "code",
   "execution_count": 34,
   "metadata": {
    "colab": {
     "base_uri": "https://localhost:8080/",
     "height": 35
    },
    "colab_type": "code",
    "id": "IedWYs7dctv3",
    "outputId": "c7d13847-d75e-4257-afd8-983a7e947096"
   },
   "outputs": [
    {
     "data": {
      "text/plain": [
       "tensor([39, 99,  0,  0, 62], device='cuda:0')"
      ]
     },
     "execution_count": 34,
     "metadata": {
      "tags": []
     },
     "output_type": "execute_result"
    }
   ],
   "source": [
    "#group = train_val_split_group()\n",
    "#y_hat_test = predict(model, group.test_dataloader)\n",
    "#predictions_file = \"predict_c2_whole_{}_{}.csv\".format(\"h1\", shortuuid.uuid())\n",
    "#print('predictions file:', predictions_file)\n",
    "#one_hot_encode_predictions(y_hat_test, predictions_file)\n",
    "y_hat_test.bincount()"
   ]
  },
  {
   "cell_type": "code",
   "execution_count": 30,
   "metadata": {
    "colab": {
     "base_uri": "https://localhost:8080/",
     "height": 89
    },
    "colab_type": "code",
    "id": "rdBBniN9ffjv",
    "outputId": "e52cfe70-da78-4afe-8222-6507374c4898"
   },
   "outputs": [
    {
     "name": "stdout",
     "output_type": "stream",
     "text": [
      "Reading annotations...\n",
      "Computing class weights...\n",
      "tensor([1., 1., 1., 1., 1.], device='cuda:0')\n"
     ]
    },
    {
     "data": {
      "text/plain": [
       "200"
      ]
     },
     "execution_count": 30,
     "metadata": {
      "tags": []
     },
     "output_type": "execute_result"
    }
   ],
   "source": [
    "group = train_val_split_group()\n",
    "len(group.test_dataloader)"
   ]
  },
  {
   "cell_type": "markdown",
   "metadata": {
    "colab_type": "text",
    "id": "TFIFN9HC7cNp"
   },
   "source": [
    "#### H2: 2048-256-5\n",
    "\n",
    "* DNN Structure: 2048-256-5\n",
    "* Dropout: 0.5\n",
    "* Class weights: [1,1,1,1,1]\n",
    "* Batch normalization: no\n"
   ]
  },
  {
   "cell_type": "code",
   "execution_count": 0,
   "metadata": {
    "colab": {},
    "colab_type": "code",
    "id": "uVz21wq77cNp",
    "scrolled": true
   },
   "outputs": [],
   "source": [
    "model = get_model(2048, 256, 0.5).to(device)\n",
    "run_trial(\"h2\", model)"
   ]
  },
  {
   "cell_type": "markdown",
   "metadata": {
    "colab_type": "text",
    "id": "t42x-Z-77cNr"
   },
   "source": [
    "#### H3: 512-64-5\n",
    "\n",
    "* DNN Structure: 512-64-5\n",
    "* Dropout: 0.5\n",
    "* Class weights: [1,1,1,1,1]\n",
    "* Batch normalization: no\n"
   ]
  },
  {
   "cell_type": "code",
   "execution_count": 0,
   "metadata": {
    "colab": {},
    "colab_type": "code",
    "id": "4EhTgRkV7cNr"
   },
   "outputs": [],
   "source": [
    "model = get_model(512, 64, 0.5).to(device)\n",
    "run_trial(\"h3\", model)"
   ]
  },
  {
   "cell_type": "markdown",
   "metadata": {
    "colab_type": "text",
    "id": "w3co17MA7cNt"
   },
   "source": [
    "#### H4: Best from above, dropout 0.25\n",
    "\n",
    "* DNN Structure: \n",
    "* Dropout: 0.25\n",
    "* Class weights: [1,1,1,1,1]\n",
    "* Batch normalization: no\n"
   ]
  },
  {
   "cell_type": "code",
   "execution_count": 0,
   "metadata": {
    "colab": {},
    "colab_type": "code",
    "id": "8QO2Xw8T7cNt"
   },
   "outputs": [],
   "source": [
    "model = get_model(n1, n2, 0.25).to(device)\n",
    "run_trial(\"h4\", model)"
   ]
  },
  {
   "cell_type": "markdown",
   "metadata": {
    "colab_type": "text",
    "id": "YpyV6kfN7cNv"
   },
   "source": [
    "#### H5: Best from above, dropout 0.1\n",
    "\n",
    "* DNN Structure: \n",
    "* Dropout: 0.1\n",
    "* Class weights: [1,1,1,1,1]\n",
    "* Batch normalization: no\n"
   ]
  },
  {
   "cell_type": "code",
   "execution_count": 0,
   "metadata": {
    "colab": {},
    "colab_type": "code",
    "id": "wEmmq1lF7cNv"
   },
   "outputs": [],
   "source": [
    "model = get_model(n1, n2, 0.1).to(device)\n",
    "run_trial(\"h5\", model)"
   ]
  },
  {
   "cell_type": "markdown",
   "metadata": {
    "colab_type": "text",
    "id": "Q0wmNdzd7cNx"
   },
   "source": [
    "#### H6: Best from above, skewed class weights\n",
    "\n",
    "* DNN Structure: \n",
    "* Dropout: 0.5\n",
    "* Class weights: [1,1,5,5,1]\n",
    "* Batch normalization: no\n"
   ]
  },
  {
   "cell_type": "code",
   "execution_count": 25,
   "metadata": {
    "colab": {},
    "colab_type": "code",
    "id": "IXUYnHqH7cNy",
    "scrolled": false
   },
   "outputs": [
    {
     "name": "stdout",
     "output_type": "stream",
     "text": [
      "Reading annotations...\n",
      "Using class weights: tensor([1., 1., 5., 5., 1.], device='cuda:0')\n",
      "Epoch 0/19\n",
      "----------\n",
      "Num samples 2000\n",
      "train 0:00:25.160152 loss: 1.4062 accuracy: 0.2540\n",
      "Num samples 255\n",
      "val 0:00:03.963046 loss: 1.5221 accuracy: 0.3412\n",
      "Elapsed time: 0:00:29.125959\n",
      "\n",
      "Epoch 1/19\n",
      "----------\n",
      "Num samples 2000\n",
      "train 0:00:26.275689 loss: 1.4281 accuracy: 0.2745\n",
      "Num samples 255\n",
      "val 0:00:04.080608 loss: 1.3879 accuracy: 0.5882\n",
      "Elapsed time: 0:00:30.359353\n",
      "\n",
      "Epoch 2/19\n",
      "----------\n",
      "Num samples 2000\n",
      "train 0:00:26.560632 loss: 1.3073 accuracy: 0.3050\n",
      "Num samples 255\n",
      "val 0:00:03.936842 loss: 1.2903 accuracy: 0.5608\n",
      "Elapsed time: 0:00:30.498105\n",
      "\n",
      "Epoch 3/19\n",
      "----------\n",
      "Num samples 2000\n",
      "train 0:00:25.374650 loss: 1.1934 accuracy: 0.3550\n",
      "Num samples 255\n",
      "val 0:00:03.897209 loss: 1.2750 accuracy: 0.5922\n",
      "Elapsed time: 0:00:29.274799\n",
      "\n",
      "Epoch 4/19\n",
      "----------\n",
      "Num samples 2000\n",
      "train 0:00:25.128281 loss: 1.1958 accuracy: 0.3665\n",
      "Num samples 255\n",
      "val 0:00:03.830451 loss: 1.1948 accuracy: 0.6549\n",
      "Elapsed time: 0:00:28.961654\n",
      "\n",
      "Epoch 5/19\n",
      "----------\n",
      "Num samples 2000\n",
      "train 0:00:25.440086 loss: 1.1629 accuracy: 0.3685\n",
      "Num samples 255\n",
      "val 0:00:03.746538 loss: 1.2000 accuracy: 0.6745\n",
      "Elapsed time: 0:00:29.189600\n",
      "\n",
      "Epoch 6/19\n",
      "----------\n",
      "Num samples 2000\n",
      "train 0:00:25.352307 loss: 1.0893 accuracy: 0.4240\n",
      "Num samples 255\n",
      "val 0:00:03.855896 loss: 1.1910 accuracy: 0.4392\n",
      "Elapsed time: 0:00:29.209079\n",
      "\n",
      "Epoch 7/19\n",
      "----------\n",
      "Num samples 2000\n",
      "train 0:00:25.121349 loss: 1.0796 accuracy: 0.3995\n",
      "Num samples 255\n",
      "val 0:00:03.905934 loss: 1.0926 accuracy: 0.5020\n",
      "Elapsed time: 0:00:29.028133\n",
      "\n",
      "Epoch 8/19\n",
      "----------\n",
      "Num samples 2000\n",
      "train 0:00:25.495589 loss: 1.0367 accuracy: 0.4490\n",
      "Num samples 255\n",
      "val 0:00:03.856444 loss: 1.2227 accuracy: 0.4431\n",
      "Elapsed time: 0:00:29.352700\n",
      "\n",
      "Epoch 9/19\n",
      "----------\n",
      "Num samples 2000\n",
      "train 0:00:25.402113 loss: 1.1130 accuracy: 0.4085\n",
      "Num samples 255\n",
      "val 0:00:03.893801 loss: 1.0916 accuracy: 0.4667\n",
      "Elapsed time: 0:00:29.296603\n",
      "\n",
      "Epoch 10/19\n",
      "----------\n",
      "Num samples 2000\n",
      "train 0:00:24.973080 loss: 0.9902 accuracy: 0.4645\n",
      "Num samples 255\n",
      "val 0:00:03.932313 loss: 1.2671 accuracy: 0.4353\n",
      "Elapsed time: 0:00:28.906057\n",
      "\n",
      "Epoch 11/19\n",
      "----------\n",
      "Num samples 2000\n",
      "train 0:00:25.439818 loss: 0.9545 accuracy: 0.4835\n",
      "Num samples 255\n",
      "val 0:00:03.791452 loss: 1.2370 accuracy: 0.4510\n",
      "Elapsed time: 0:00:29.231964\n",
      "\n",
      "Epoch 12/19\n",
      "----------\n",
      "Num samples 2000\n",
      "train 0:00:25.240181 loss: 0.9851 accuracy: 0.5025\n",
      "Num samples 255\n",
      "val 0:00:03.919492 loss: 1.2236 accuracy: 0.4392\n",
      "Elapsed time: 0:00:29.160579\n",
      "\n",
      "Epoch 13/19\n",
      "----------\n",
      "Num samples 2000\n",
      "train 0:00:25.296641 loss: 0.9766 accuracy: 0.5245\n",
      "Num samples 255\n",
      "val 0:00:03.957250 loss: 1.2529 accuracy: 0.4353\n",
      "Elapsed time: 0:00:29.254626\n",
      "\n",
      "Epoch 14/19\n",
      "----------\n",
      "Num samples 2000\n",
      "train 0:00:25.605718 loss: 0.9302 accuracy: 0.5270\n",
      "Num samples 255\n",
      "val 0:00:03.937435 loss: 1.2722 accuracy: 0.4392\n",
      "Elapsed time: 0:00:29.543836\n",
      "\n",
      "Epoch 15/19\n",
      "----------\n",
      "Num samples 2000\n",
      "train 0:00:25.448447 loss: 0.9532 accuracy: 0.5160\n",
      "Num samples 255\n",
      "val 0:00:03.760152 loss: 1.1693 accuracy: 0.4431\n",
      "Elapsed time: 0:00:29.209657\n",
      "\n",
      "Epoch 16/19\n",
      "----------\n",
      "Num samples 2000\n",
      "train 0:00:25.480960 loss: 0.9582 accuracy: 0.5095\n",
      "Num samples 255\n",
      "val 0:00:03.916702 loss: 1.0792 accuracy: 0.4471\n",
      "Elapsed time: 0:00:29.398729\n",
      "\n",
      "Epoch 17/19\n",
      "----------\n",
      "Num samples 2000\n",
      "train 0:00:24.983054 loss: 0.9725 accuracy: 0.5280\n",
      "Num samples 255\n",
      "val 0:00:03.948535 loss: 1.0621 accuracy: 0.4471\n",
      "Elapsed time: 0:00:28.932297\n",
      "\n",
      "Epoch 18/19\n",
      "----------\n",
      "Num samples 2000\n",
      "train 0:00:25.124399 loss: 0.9013 accuracy: 0.5395\n",
      "Num samples 255\n",
      "val 0:00:03.947056 loss: 1.0364 accuracy: 0.5137\n",
      "Elapsed time: 0:00:29.072072\n",
      "\n",
      "Epoch 19/19\n",
      "----------\n",
      "Num samples 2000\n",
      "train 0:00:25.345275 loss: 0.9047 accuracy: 0.5435\n",
      "Num samples 255\n",
      "val 0:00:03.819923 loss: 1.0708 accuracy: 0.4510\n",
      "Elapsed time: 0:00:29.165941\n",
      "\n",
      "Training complete in 9m 46s\n",
      "Best acc: 0.674510\n",
      "\n",
      "Metrics\n",
      "----------\n"
     ]
    },
    {
     "data": {
      "image/png": "[encoded data removed]",
      "text/plain": [
       "<Figure size 432x288 with 1 Axes>"
      ]
     },
     "metadata": {
      "needs_background": "light"
     },
     "output_type": "display_data"
    },
    {
     "data": {
      "image/png": "[encoded data removed]",
      "text/plain": [
       "<Figure size 432x288 with 1 Axes>"
      ]
     },
     "metadata": {
      "needs_background": "light"
     },
     "output_type": "display_data"
    },
    {
     "name": "stdout",
     "output_type": "stream",
     "text": [
      "Training Confusion Matrix\n",
      "------------------------------\n"
     ]
    },
    {
     "data": {
      "text/html": [
       "<div>\n",
       "<style scoped>\n",
       "    .dataframe tbody tr th:only-of-type {\n",
       "        vertical-align: middle;\n",
       "    }\n",
       "\n",
       "    .dataframe tbody tr th {\n",
       "        vertical-align: top;\n",
       "    }\n",
       "\n",
       "    .dataframe thead th {\n",
       "        text-align: right;\n",
       "    }\n",
       "</style>\n",
       "<table border=\"1\" class=\"dataframe\">\n",
       "  <thead>\n",
       "    <tr style=\"text-align: right;\">\n",
       "      <th></th>\n",
       "      <th>0</th>\n",
       "      <th>1</th>\n",
       "      <th>2</th>\n",
       "      <th>3</th>\n",
       "      <th>4</th>\n",
       "    </tr>\n",
       "  </thead>\n",
       "  <tbody>\n",
       "    <tr>\n",
       "      <th>0</th>\n",
       "      <td>341</td>\n",
       "      <td>23</td>\n",
       "      <td>34</td>\n",
       "      <td>2</td>\n",
       "      <td>0</td>\n",
       "    </tr>\n",
       "    <tr>\n",
       "      <th>1</th>\n",
       "      <td>202</td>\n",
       "      <td>67</td>\n",
       "      <td>70</td>\n",
       "      <td>42</td>\n",
       "      <td>19</td>\n",
       "    </tr>\n",
       "    <tr>\n",
       "      <th>2</th>\n",
       "      <td>124</td>\n",
       "      <td>16</td>\n",
       "      <td>139</td>\n",
       "      <td>71</td>\n",
       "      <td>50</td>\n",
       "    </tr>\n",
       "    <tr>\n",
       "      <th>3</th>\n",
       "      <td>21</td>\n",
       "      <td>2</td>\n",
       "      <td>61</td>\n",
       "      <td>133</td>\n",
       "      <td>183</td>\n",
       "    </tr>\n",
       "    <tr>\n",
       "      <th>4</th>\n",
       "      <td>0</td>\n",
       "      <td>0</td>\n",
       "      <td>1</td>\n",
       "      <td>6</td>\n",
       "      <td>393</td>\n",
       "    </tr>\n",
       "  </tbody>\n",
       "</table>\n",
       "</div>"
      ],
      "text/plain": [
       "     0   1    2    3    4\n",
       "0  341  23   34    2    0\n",
       "1  202  67   70   42   19\n",
       "2  124  16  139   71   50\n",
       "3   21   2   61  133  183\n",
       "4    0   0    1    6  393"
      ]
     },
     "metadata": {},
     "output_type": "display_data"
    },
    {
     "name": "stdout",
     "output_type": "stream",
     "text": [
      "Validation Confusion Matrix\n",
      "------------------------------\n"
     ]
    },
    {
     "data": {
      "text/html": [
       "<div>\n",
       "<style scoped>\n",
       "    .dataframe tbody tr th:only-of-type {\n",
       "        vertical-align: middle;\n",
       "    }\n",
       "\n",
       "    .dataframe tbody tr th {\n",
       "        vertical-align: top;\n",
       "    }\n",
       "\n",
       "    .dataframe thead th {\n",
       "        text-align: right;\n",
       "    }\n",
       "</style>\n",
       "<table border=\"1\" class=\"dataframe\">\n",
       "  <thead>\n",
       "    <tr style=\"text-align: right;\">\n",
       "      <th></th>\n",
       "      <th>0</th>\n",
       "      <th>1</th>\n",
       "      <th>2</th>\n",
       "      <th>3</th>\n",
       "      <th>4</th>\n",
       "    </tr>\n",
       "  </thead>\n",
       "  <tbody>\n",
       "    <tr>\n",
       "      <th>0</th>\n",
       "      <td>83</td>\n",
       "      <td>15</td>\n",
       "      <td>0</td>\n",
       "      <td>0</td>\n",
       "      <td>0</td>\n",
       "    </tr>\n",
       "    <tr>\n",
       "      <th>1</th>\n",
       "      <td>23</td>\n",
       "      <td>40</td>\n",
       "      <td>0</td>\n",
       "      <td>3</td>\n",
       "      <td>0</td>\n",
       "    </tr>\n",
       "    <tr>\n",
       "      <th>2</th>\n",
       "      <td>8</td>\n",
       "      <td>13</td>\n",
       "      <td>0</td>\n",
       "      <td>4</td>\n",
       "      <td>1</td>\n",
       "    </tr>\n",
       "    <tr>\n",
       "      <th>3</th>\n",
       "      <td>0</td>\n",
       "      <td>9</td>\n",
       "      <td>0</td>\n",
       "      <td>15</td>\n",
       "      <td>2</td>\n",
       "    </tr>\n",
       "    <tr>\n",
       "      <th>4</th>\n",
       "      <td>0</td>\n",
       "      <td>0</td>\n",
       "      <td>0</td>\n",
       "      <td>5</td>\n",
       "      <td>34</td>\n",
       "    </tr>\n",
       "  </tbody>\n",
       "</table>\n",
       "</div>"
      ],
      "text/plain": [
       "    0   1  2   3   4\n",
       "0  83  15  0   0   0\n",
       "1  23  40  0   3   0\n",
       "2   8  13  0   4   1\n",
       "3   0   9  0  15   2\n",
       "4   0   0  0   5  34"
      ]
     },
     "metadata": {},
     "output_type": "display_data"
    },
    {
     "name": "stdout",
     "output_type": "stream",
     "text": [
      "predictions file: predict_c2_whole_h6_gu7n3deKm6MnNTA4ex2DnL.csv\n",
      "Finished generating predictions to predict_c2_whole_h6_gu7n3deKm6MnNTA4ex2DnL.csv\n",
      "Test distribution:\n",
      "tensor([66, 78,  0,  3, 53], device='cuda:0')\n"
     ]
    }
   ],
   "source": [
    "model = get_model(1024, 128, 0.5).to(device)\n",
    "y_hat_test = run_trial(\"h6\", model, class_weights=torch.tensor([1., 1., 5., 5., 1.]).to(device), num_epochs=20)"
   ]
  },
  {
   "cell_type": "markdown",
   "metadata": {},
   "source": [
    "#### H6b"
   ]
  },
  {
   "cell_type": "code",
   "execution_count": 36,
   "metadata": {
    "scrolled": false
   },
   "outputs": [
    {
     "name": "stdout",
     "output_type": "stream",
     "text": [
      "Reading annotations...\n",
      "Using class weights: tensor([0.7500, 0.9000, 5.0000, 4.0000, 0.7500], device='cuda:0')\n",
      "Epoch 0/19\n",
      "----------\n",
      "Num samples 2000\n",
      "train 0:00:24.899133 loss: 1.3880 accuracy: 0.2675\n",
      "Num samples 255\n",
      "val 0:00:03.917353 loss: 1.5874 accuracy: 0.2824\n",
      "Elapsed time: 0:00:28.819566\n",
      "\n",
      "Epoch 1/19\n",
      "----------\n",
      "Num samples 2000\n",
      "train 0:00:25.169312 loss: 1.4463 accuracy: 0.2420\n",
      "Num samples 255\n",
      "val 0:00:03.898894 loss: 1.4376 accuracy: 0.3725\n",
      "Elapsed time: 0:00:29.071236\n",
      "\n",
      "Epoch 2/19\n",
      "----------\n",
      "Num samples 2000\n",
      "train 0:00:25.012767 loss: 1.2669 accuracy: 0.2835\n",
      "Num samples 255\n",
      "val 0:00:03.941735 loss: 1.3323 accuracy: 0.5922\n",
      "Elapsed time: 0:00:28.957411\n",
      "\n",
      "Epoch 3/19\n",
      "----------\n",
      "Num samples 2000\n",
      "train 0:00:25.136180 loss: 1.2235 accuracy: 0.3175\n",
      "Num samples 255\n",
      "val 0:00:03.857179 loss: 1.2991 accuracy: 0.4235\n",
      "Elapsed time: 0:00:28.993968\n",
      "\n",
      "Epoch 4/19\n",
      "----------\n",
      "Num samples 2000\n",
      "train 0:00:25.015122 loss: 1.1811 accuracy: 0.3370\n",
      "Num samples 255\n",
      "val 0:00:03.836164 loss: 1.2176 accuracy: 0.5686\n",
      "Elapsed time: 0:00:28.852278\n",
      "\n",
      "Epoch 5/19\n",
      "----------\n",
      "Num samples 2000\n",
      "train 0:00:25.043838 loss: 1.1153 accuracy: 0.3910\n",
      "Num samples 255\n",
      "val 0:00:03.943334 loss: 1.2022 accuracy: 0.4353\n",
      "Elapsed time: 0:00:28.988288\n",
      "\n",
      "Epoch 6/19\n",
      "----------\n",
      "Num samples 2000\n",
      "train 0:00:25.184009 loss: 1.1316 accuracy: 0.3955\n",
      "Num samples 255\n",
      "val 0:00:03.883678 loss: 1.1369 accuracy: 0.5686\n",
      "Elapsed time: 0:00:29.068633\n",
      "\n",
      "Epoch 7/19\n",
      "----------\n",
      "Num samples 2000\n",
      "train 0:00:25.289149 loss: 1.0622 accuracy: 0.4085\n",
      "Num samples 255\n",
      "val 0:00:03.810724 loss: 1.0963 accuracy: 0.4510\n",
      "Elapsed time: 0:00:29.100621\n",
      "\n",
      "Epoch 8/19\n",
      "----------\n",
      "Num samples 2000\n",
      "train 0:00:24.992615 loss: 1.0290 accuracy: 0.4230\n",
      "Num samples 255\n",
      "val 0:00:03.809568 loss: 1.0853 accuracy: 0.4549\n",
      "Elapsed time: 0:00:28.803241\n",
      "\n",
      "Epoch 9/19\n",
      "----------\n",
      "Num samples 2000\n",
      "train 0:00:25.421008 loss: 1.0029 accuracy: 0.4675\n",
      "Num samples 255\n",
      "val 0:00:03.765718 loss: 1.1391 accuracy: 0.4471\n",
      "Elapsed time: 0:00:29.187550\n",
      "\n",
      "Epoch 10/19\n",
      "----------\n",
      "Num samples 2000\n",
      "train 0:00:25.485652 loss: 1.0241 accuracy: 0.4545\n",
      "Num samples 255\n",
      "val 0:00:03.757713 loss: 1.1550 accuracy: 0.4392\n",
      "Elapsed time: 0:00:29.244019\n",
      "\n",
      "Epoch 11/19\n",
      "----------\n",
      "Num samples 2000\n",
      "train 0:00:26.281804 loss: 0.9525 accuracy: 0.4840\n",
      "Num samples 255\n",
      "val 0:00:04.051775 loss: 1.2371 accuracy: 0.4353\n",
      "Elapsed time: 0:00:30.334392\n",
      "\n",
      "Epoch 12/19\n",
      "----------\n",
      "Num samples 2000\n",
      "train 0:00:26.491488 loss: 0.9793 accuracy: 0.4815\n",
      "Num samples 255\n",
      "val 0:00:04.137776 loss: 1.1635 accuracy: 0.4471\n",
      "Elapsed time: 0:00:30.630175\n",
      "\n",
      "Epoch 13/19\n",
      "----------\n",
      "Num samples 2000\n",
      "train 0:00:25.190769 loss: 0.9582 accuracy: 0.4860\n",
      "Num samples 255\n",
      "val 0:00:03.950030 loss: 1.1194 accuracy: 0.4471\n",
      "Elapsed time: 0:00:29.141753\n",
      "\n",
      "Epoch 14/19\n",
      "----------\n",
      "Num samples 2000\n",
      "train 0:00:25.411296 loss: 0.9284 accuracy: 0.5100\n",
      "Num samples 255\n",
      "val 0:00:03.771306 loss: 1.1054 accuracy: 0.4549\n",
      "Elapsed time: 0:00:29.183487\n",
      "\n",
      "Epoch 15/19\n",
      "----------\n",
      "Num samples 2000\n",
      "train 0:00:25.336749 loss: 0.9290 accuracy: 0.5155\n",
      "Num samples 255\n",
      "val 0:00:03.769472 loss: 1.2018 accuracy: 0.4549\n",
      "Elapsed time: 0:00:29.107093\n",
      "\n",
      "Epoch 16/19\n",
      "----------\n",
      "Num samples 2000\n",
      "train 0:00:25.116139 loss: 0.9363 accuracy: 0.5115\n",
      "Num samples 255\n",
      "val 0:00:03.790969 loss: 1.1171 accuracy: 0.4627\n",
      "Elapsed time: 0:00:28.907931\n",
      "\n",
      "Epoch 17/19\n",
      "----------\n",
      "Num samples 2000\n",
      "train 0:00:25.113014 loss: 0.9164 accuracy: 0.5255\n",
      "Num samples 255\n",
      "val 0:00:03.946411 loss: 1.0797 accuracy: 0.4588\n",
      "Elapsed time: 0:00:29.060214\n",
      "\n",
      "Epoch 18/19\n",
      "----------\n",
      "Num samples 2000\n",
      "train 0:00:26.036924 loss: 0.9184 accuracy: 0.5330\n",
      "Num samples 255\n",
      "val 0:00:04.157404 loss: 1.1971 accuracy: 0.4353\n",
      "Elapsed time: 0:00:30.195177\n",
      "\n",
      "Epoch 19/19\n",
      "----------\n",
      "Num samples 2000\n",
      "train 0:00:26.335545 loss: 0.8923 accuracy: 0.5425\n",
      "Num samples 255\n",
      "val 0:00:04.110775 loss: 1.0438 accuracy: 0.4627\n",
      "Elapsed time: 0:00:30.447194\n",
      "\n",
      "Training complete in 9m 46s\n",
      "Best acc: 0.592157\n",
      "\n",
      "Metrics\n",
      "----------\n"
     ]
    },
    {
     "data": {
      "image/png": "[encoded data removed]",
      "text/plain": [
       "<Figure size 432x288 with 1 Axes>"
      ]
     },
     "metadata": {
      "needs_background": "light"
     },
     "output_type": "display_data"
    },
    {
     "data": {
      "image/png": "[encoded data removed]",
      "text/plain": [
       "<Figure size 432x288 with 1 Axes>"
      ]
     },
     "metadata": {
      "needs_background": "light"
     },
     "output_type": "display_data"
    },
    {
     "name": "stdout",
     "output_type": "stream",
     "text": [
      "Training Confusion Matrix\n",
      "------------------------------\n"
     ]
    },
    {
     "data": {
      "text/html": [
       "<div>\n",
       "<style scoped>\n",
       "    .dataframe tbody tr th:only-of-type {\n",
       "        vertical-align: middle;\n",
       "    }\n",
       "\n",
       "    .dataframe tbody tr th {\n",
       "        vertical-align: top;\n",
       "    }\n",
       "\n",
       "    .dataframe thead th {\n",
       "        text-align: right;\n",
       "    }\n",
       "</style>\n",
       "<table border=\"1\" class=\"dataframe\">\n",
       "  <thead>\n",
       "    <tr style=\"text-align: right;\">\n",
       "      <th></th>\n",
       "      <th>0</th>\n",
       "      <th>1</th>\n",
       "      <th>2</th>\n",
       "      <th>3</th>\n",
       "      <th>4</th>\n",
       "    </tr>\n",
       "  </thead>\n",
       "  <tbody>\n",
       "    <tr>\n",
       "      <th>0</th>\n",
       "      <td>95</td>\n",
       "      <td>0</td>\n",
       "      <td>303</td>\n",
       "      <td>2</td>\n",
       "      <td>0</td>\n",
       "    </tr>\n",
       "    <tr>\n",
       "      <th>1</th>\n",
       "      <td>63</td>\n",
       "      <td>2</td>\n",
       "      <td>283</td>\n",
       "      <td>35</td>\n",
       "      <td>17</td>\n",
       "    </tr>\n",
       "    <tr>\n",
       "      <th>2</th>\n",
       "      <td>21</td>\n",
       "      <td>0</td>\n",
       "      <td>283</td>\n",
       "      <td>46</td>\n",
       "      <td>50</td>\n",
       "    </tr>\n",
       "    <tr>\n",
       "      <th>3</th>\n",
       "      <td>2</td>\n",
       "      <td>0</td>\n",
       "      <td>142</td>\n",
       "      <td>116</td>\n",
       "      <td>140</td>\n",
       "    </tr>\n",
       "    <tr>\n",
       "      <th>4</th>\n",
       "      <td>0</td>\n",
       "      <td>0</td>\n",
       "      <td>4</td>\n",
       "      <td>12</td>\n",
       "      <td>384</td>\n",
       "    </tr>\n",
       "  </tbody>\n",
       "</table>\n",
       "</div>"
      ],
      "text/plain": [
       "    0  1    2    3    4\n",
       "0  95  0  303    2    0\n",
       "1  63  2  283   35   17\n",
       "2  21  0  283   46   50\n",
       "3   2  0  142  116  140\n",
       "4   0  0    4   12  384"
      ]
     },
     "metadata": {},
     "output_type": "display_data"
    },
    {
     "name": "stdout",
     "output_type": "stream",
     "text": [
      "Validation Confusion Matrix\n",
      "------------------------------\n"
     ]
    },
    {
     "data": {
      "text/html": [
       "<div>\n",
       "<style scoped>\n",
       "    .dataframe tbody tr th:only-of-type {\n",
       "        vertical-align: middle;\n",
       "    }\n",
       "\n",
       "    .dataframe tbody tr th {\n",
       "        vertical-align: top;\n",
       "    }\n",
       "\n",
       "    .dataframe thead th {\n",
       "        text-align: right;\n",
       "    }\n",
       "</style>\n",
       "<table border=\"1\" class=\"dataframe\">\n",
       "  <thead>\n",
       "    <tr style=\"text-align: right;\">\n",
       "      <th></th>\n",
       "      <th>0</th>\n",
       "      <th>1</th>\n",
       "      <th>2</th>\n",
       "      <th>3</th>\n",
       "      <th>4</th>\n",
       "    </tr>\n",
       "  </thead>\n",
       "  <tbody>\n",
       "    <tr>\n",
       "      <th>0</th>\n",
       "      <td>98</td>\n",
       "      <td>0</td>\n",
       "      <td>0</td>\n",
       "      <td>0</td>\n",
       "      <td>0</td>\n",
       "    </tr>\n",
       "    <tr>\n",
       "      <th>1</th>\n",
       "      <td>55</td>\n",
       "      <td>5</td>\n",
       "      <td>0</td>\n",
       "      <td>6</td>\n",
       "      <td>0</td>\n",
       "    </tr>\n",
       "    <tr>\n",
       "      <th>2</th>\n",
       "      <td>17</td>\n",
       "      <td>0</td>\n",
       "      <td>3</td>\n",
       "      <td>5</td>\n",
       "      <td>1</td>\n",
       "    </tr>\n",
       "    <tr>\n",
       "      <th>3</th>\n",
       "      <td>8</td>\n",
       "      <td>0</td>\n",
       "      <td>3</td>\n",
       "      <td>13</td>\n",
       "      <td>2</td>\n",
       "    </tr>\n",
       "    <tr>\n",
       "      <th>4</th>\n",
       "      <td>0</td>\n",
       "      <td>0</td>\n",
       "      <td>0</td>\n",
       "      <td>7</td>\n",
       "      <td>32</td>\n",
       "    </tr>\n",
       "  </tbody>\n",
       "</table>\n",
       "</div>"
      ],
      "text/plain": [
       "    0  1  2   3   4\n",
       "0  98  0  0   0   0\n",
       "1  55  5  0   6   0\n",
       "2  17  0  3   5   1\n",
       "3   8  0  3  13   2\n",
       "4   0  0  0   7  32"
      ]
     },
     "metadata": {},
     "output_type": "display_data"
    },
    {
     "name": "stdout",
     "output_type": "stream",
     "text": [
      "predictions file: predict_c2_whole_h6_UV26TynKikAf5JaiJGgtQq.csv\n",
      "Finished generating predictions to predict_c2_whole_h6_UV26TynKikAf5JaiJGgtQq.csv\n",
      "Test distribution:\n",
      "tensor([131,   5,   6,  10,  48], device='cuda:0')\n"
     ]
    }
   ],
   "source": [
    "model = get_model(1024, 128, 0.5).to(device)\n",
    "y_hat_test = run_trial(\"h6\", model, class_weights=torch.tensor([0.75, 0.9, 5., 4., 0.75]).to(device), num_epochs=20)"
   ]
  },
  {
   "cell_type": "markdown",
   "metadata": {
    "colab_type": "text",
    "id": "FPjHhxjQ7cN1"
   },
   "source": [
    "#### H7: Best from above, batch normalization\n",
    "\n",
    "* DNN Structure: \n",
    "* Dropout: 0.5\n",
    "* Class weights: \n",
    "* Batch normalization: yes\n"
   ]
  },
  {
   "cell_type": "code",
   "execution_count": 37,
   "metadata": {
    "colab": {},
    "colab_type": "code",
    "id": "iuxsx-797cN1"
   },
   "outputs": [
    {
     "name": "stderr",
     "output_type": "stream",
     "text": [
      "Downloading: \"https://download.pytorch.org/models/vgg16_bn-6c64b313.pth\" to /home/jeremy/.cache/torch/checkpoints/vgg16_bn-6c64b313.pth\n"
     ]
    },
    {
     "data": {
      "application/vnd.jupyter.widget-view+json": {
       "model_id": "7bfc389b9bef411f9fcb1c7cf82d31f8",
       "version_major": 2,
       "version_minor": 0
      },
      "text/plain": [
       "HBox(children=(FloatProgress(value=0.0, max=553507836.0), HTML(value='')))"
      ]
     },
     "metadata": {},
     "output_type": "display_data"
    },
    {
     "name": "stdout",
     "output_type": "stream",
     "text": [
      "\n",
      "Reading annotations...\n",
      "Computing class weights...\n",
      "tensor([1., 1., 1., 1., 1.], device='cuda:0')\n",
      "Epoch 0/39\n",
      "----------\n",
      "Num samples 2000\n",
      "train 0:00:28.964884 loss: 1.5714 accuracy: 0.2940\n",
      "Num samples 255\n",
      "val 0:00:04.429382 loss: 1.7407 accuracy: 0.1608\n",
      "Elapsed time: 0:00:33.400800\n",
      "\n",
      "Epoch 1/39\n",
      "----------\n",
      "Num samples 2000\n",
      "train 0:00:29.171897 loss: 1.5616 accuracy: 0.2910\n",
      "Num samples 255\n",
      "val 0:00:04.146062 loss: 1.3552 accuracy: 0.4157\n",
      "Elapsed time: 0:00:33.323944\n",
      "\n",
      "Epoch 2/39\n",
      "----------\n",
      "Num samples 2000\n",
      "train 0:00:29.001632 loss: 1.4520 accuracy: 0.3410\n",
      "Num samples 255\n",
      "val 0:00:04.143731 loss: 1.0320 accuracy: 0.5529\n",
      "Elapsed time: 0:00:33.152327\n",
      "\n",
      "Epoch 3/39\n",
      "----------\n",
      "Num samples 2000\n",
      "train 0:00:28.774288 loss: 1.3684 accuracy: 0.3965\n",
      "Num samples 255\n",
      "val 0:00:04.280967 loss: 0.9445 accuracy: 0.5686\n",
      "Elapsed time: 0:00:33.062075\n",
      "\n",
      "Epoch 4/39\n",
      "----------\n",
      "Num samples 2000\n",
      "train 0:00:29.166832 loss: 1.3046 accuracy: 0.4190\n",
      "Num samples 255\n",
      "val 0:00:04.256273 loss: 0.9127 accuracy: 0.5608\n",
      "Elapsed time: 0:00:33.423993\n",
      "\n",
      "Epoch 5/39\n",
      "----------\n",
      "Num samples 2000\n",
      "train 0:00:28.637195 loss: 1.2266 accuracy: 0.4655\n",
      "Num samples 255\n",
      "val 0:00:04.234968 loss: 0.8963 accuracy: 0.5647\n",
      "Elapsed time: 0:00:32.873114\n",
      "\n",
      "Epoch 6/39\n",
      "----------\n",
      "Num samples 2000\n",
      "train 0:00:28.789249 loss: 1.1742 accuracy: 0.4720\n",
      "Num samples 255\n",
      "val 0:00:04.211019 loss: 0.8978 accuracy: 0.5569\n",
      "Elapsed time: 0:00:33.001355\n",
      "\n",
      "Epoch 7/39\n",
      "----------\n",
      "Num samples 2000\n",
      "train 0:00:29.008296 loss: 1.1611 accuracy: 0.4615\n",
      "Num samples 255\n",
      "val 0:00:04.222499 loss: 0.8982 accuracy: 0.5608\n",
      "Elapsed time: 0:00:33.231583\n",
      "\n",
      "Epoch 8/39\n",
      "----------\n",
      "Num samples 2000\n",
      "train 0:00:28.851727 loss: 1.1484 accuracy: 0.4800\n",
      "Num samples 255\n",
      "val 0:00:04.144579 loss: 0.8994 accuracy: 0.5569\n",
      "Elapsed time: 0:00:32.997264\n",
      "\n",
      "Epoch 9/39\n",
      "----------\n",
      "Num samples 2000\n",
      "train 0:00:29.204612 loss: 1.1001 accuracy: 0.4980\n",
      "Num samples 255\n",
      "val 0:00:04.154512 loss: 0.9077 accuracy: 0.5608\n",
      "Elapsed time: 0:00:33.360096\n",
      "\n",
      "Epoch 10/39\n",
      "----------\n",
      "Num samples 2000\n",
      "train 0:00:30.082816 loss: 1.1272 accuracy: 0.4745\n",
      "Num samples 255\n",
      "val 0:00:04.581800 loss: 0.8939 accuracy: 0.5490\n",
      "Elapsed time: 0:00:34.665544\n",
      "\n",
      "Epoch 11/39\n",
      "----------\n",
      "Num samples 2000\n",
      "train 0:00:31.127178 loss: 1.1231 accuracy: 0.4725\n",
      "Num samples 255\n",
      "val 0:00:04.597329 loss: 0.9471 accuracy: 0.5490\n",
      "Elapsed time: 0:00:35.725336\n",
      "\n",
      "Epoch 12/39\n",
      "----------\n",
      "Num samples 2000\n",
      "train 0:00:31.066178 loss: 1.0722 accuracy: 0.5090\n",
      "Num samples 255\n",
      "val 0:00:04.500753 loss: 0.9297 accuracy: 0.5529\n",
      "Elapsed time: 0:00:35.567676\n",
      "\n",
      "Epoch 13/39\n",
      "----------\n",
      "Num samples 2000\n",
      "train 0:00:30.744322 loss: 1.0779 accuracy: 0.4865\n",
      "Num samples 255\n",
      "val 0:00:04.471005 loss: 0.8965 accuracy: 0.5529\n",
      "Elapsed time: 0:00:35.216418\n",
      "\n",
      "Epoch 14/39\n",
      "----------\n",
      "Num samples 2000\n",
      "train 0:00:30.995780 loss: 1.0696 accuracy: 0.5045\n",
      "Num samples 255\n",
      "val 0:00:04.619128 loss: 0.9619 accuracy: 0.5490\n",
      "Elapsed time: 0:00:35.615705\n",
      "\n",
      "Epoch 15/39\n",
      "----------\n",
      "Num samples 2000\n",
      "train 0:00:30.848873 loss: 1.0432 accuracy: 0.5320\n",
      "Num samples 255\n",
      "val 0:00:04.383083 loss: 0.9205 accuracy: 0.5608\n",
      "Elapsed time: 0:00:35.232860\n",
      "\n",
      "Epoch 16/39\n",
      "----------\n",
      "Num samples 2000\n",
      "train 0:00:30.973985 loss: 1.0500 accuracy: 0.5075\n",
      "Num samples 255\n",
      "val 0:00:04.534812 loss: 0.8944 accuracy: 0.5608\n",
      "Elapsed time: 0:00:35.509620\n",
      "\n",
      "Epoch 17/39\n",
      "----------\n",
      "Num samples 2000\n",
      "train 0:00:30.607851 loss: 1.0418 accuracy: 0.5295\n",
      "Num samples 255\n",
      "val 0:00:04.582192 loss: 0.9934 accuracy: 0.5490\n",
      "Elapsed time: 0:00:35.190784\n",
      "\n",
      "Epoch 18/39\n",
      "----------\n",
      "Num samples 2000\n",
      "train 0:00:30.755760 loss: 1.0141 accuracy: 0.5390\n",
      "Num samples 255\n",
      "val 0:00:04.621222 loss: 1.0320 accuracy: 0.5647\n",
      "Elapsed time: 0:00:35.378080\n",
      "\n",
      "Epoch 19/39\n",
      "----------\n",
      "Num samples 2000\n",
      "train 0:00:31.152045 loss: 1.0173 accuracy: 0.5505\n",
      "Num samples 255\n",
      "val 0:00:04.470186 loss: 1.0198 accuracy: 0.5608\n",
      "Elapsed time: 0:00:35.623165\n",
      "\n",
      "Epoch 20/39\n",
      "----------\n",
      "Num samples 2000\n",
      "train 0:00:30.584484 loss: 1.0485 accuracy: 0.5225\n",
      "Num samples 255\n",
      "val 0:00:04.585051 loss: 1.0498 accuracy: 0.5608\n",
      "Elapsed time: 0:00:35.170280\n",
      "\n",
      "Epoch 21/39\n",
      "----------\n",
      "Num samples 2000\n",
      "train 0:00:31.150880 loss: 1.0345 accuracy: 0.5310\n",
      "Num samples 255\n",
      "val 0:00:04.530033 loss: 0.9638 accuracy: 0.5765\n",
      "Elapsed time: 0:00:35.686947\n",
      "\n",
      "Epoch 22/39\n",
      "----------\n",
      "Num samples 2000\n",
      "train 0:00:30.672434 loss: 1.0455 accuracy: 0.5190\n",
      "Num samples 255\n",
      "val 0:00:04.407772 loss: 0.9480 accuracy: 0.5686\n",
      "Elapsed time: 0:00:35.080935\n",
      "\n",
      "Epoch 23/39\n",
      "----------\n",
      "Num samples 2000\n",
      "train 0:00:30.414618 loss: 1.0127 accuracy: 0.5485\n",
      "Num samples 255\n",
      "val 0:00:04.433424 loss: 1.0014 accuracy: 0.5725\n",
      "Elapsed time: 0:00:34.848887\n",
      "\n",
      "Epoch 24/39\n",
      "----------\n",
      "Num samples 2000\n",
      "train 0:00:30.500481 loss: 0.9822 accuracy: 0.5540\n",
      "Num samples 255\n",
      "val 0:00:04.525269 loss: 1.0169 accuracy: 0.5725\n",
      "Elapsed time: 0:00:35.026502\n",
      "\n",
      "Epoch 25/39\n",
      "----------\n",
      "Num samples 2000\n",
      "train 0:00:30.828631 loss: 1.0130 accuracy: 0.5560\n",
      "Num samples 255\n",
      "val 0:00:04.612031 loss: 0.9999 accuracy: 0.5451\n",
      "Elapsed time: 0:00:35.441728\n",
      "\n",
      "Epoch 26/39\n",
      "----------\n",
      "Num samples 2000\n",
      "train 0:00:31.135818 loss: 0.9880 accuracy: 0.5605\n",
      "Num samples 255\n",
      "val 0:00:04.522672 loss: 1.0338 accuracy: 0.5569\n",
      "Elapsed time: 0:00:35.659410\n",
      "\n",
      "Epoch 27/39\n",
      "----------\n",
      "Num samples 2000\n",
      "train 0:00:31.033543 loss: 0.9685 accuracy: 0.5665\n",
      "Num samples 255\n",
      "val 0:00:04.421353 loss: 1.0974 accuracy: 0.5882\n",
      "Elapsed time: 0:00:35.461613\n",
      "\n",
      "Epoch 28/39\n",
      "----------\n",
      "Num samples 2000\n",
      "train 0:00:28.537458 loss: 0.9673 accuracy: 0.5700\n",
      "Num samples 255\n",
      "val 0:00:04.193713 loss: 1.0476 accuracy: 0.5373\n",
      "Elapsed time: 0:00:32.731893\n",
      "\n",
      "Epoch 29/39\n",
      "----------\n",
      "Num samples 2000\n",
      "train 0:00:29.754762 loss: 0.9406 accuracy: 0.5770\n",
      "Num samples 255\n",
      "val 0:00:04.375680 loss: 0.9985 accuracy: 0.5647\n",
      "Elapsed time: 0:00:34.131444\n",
      "\n",
      "Epoch 30/39\n",
      "----------\n",
      "Num samples 2000\n",
      "train 0:00:30.215564 loss: 0.9599 accuracy: 0.5865\n",
      "Num samples 255\n",
      "val 0:00:04.359797 loss: 1.0728 accuracy: 0.5686\n",
      "Elapsed time: 0:00:34.576420\n",
      "\n",
      "Epoch 31/39\n",
      "----------\n",
      "Num samples 2000\n",
      "train 0:00:30.165433 loss: 0.9519 accuracy: 0.5830\n",
      "Num samples 255\n",
      "val 0:00:04.479712 loss: 1.0165 accuracy: 0.5608\n",
      "Elapsed time: 0:00:34.645978\n",
      "\n",
      "Epoch 32/39\n",
      "----------\n",
      "Num samples 2000\n",
      "train 0:00:30.397759 loss: 0.9448 accuracy: 0.5715\n",
      "Num samples 255\n",
      "val 0:00:04.374132 loss: 0.9203 accuracy: 0.6275\n",
      "Elapsed time: 0:00:34.778312\n",
      "\n",
      "Epoch 33/39\n",
      "----------\n",
      "Num samples 2000\n",
      "train 0:00:30.777106 loss: 0.9807 accuracy: 0.5600\n",
      "Num samples 255\n",
      "val 0:00:04.543223 loss: 1.0333 accuracy: 0.5765\n",
      "Elapsed time: 0:00:35.321252\n",
      "\n",
      "Epoch 34/39\n",
      "----------\n",
      "Num samples 2000\n",
      "train 0:00:30.971812 loss: 0.9293 accuracy: 0.5885\n",
      "Num samples 255\n",
      "val 0:00:04.538124 loss: 0.9843 accuracy: 0.5961\n",
      "Elapsed time: 0:00:35.511076\n",
      "\n",
      "Epoch 35/39\n",
      "----------\n",
      "Num samples 2000\n",
      "train 0:00:30.729235 loss: 0.9403 accuracy: 0.5780\n",
      "Num samples 255\n",
      "val 0:00:04.446292 loss: 0.9573 accuracy: 0.5569\n",
      "Elapsed time: 0:00:35.176307\n",
      "\n",
      "Epoch 36/39\n",
      "----------\n",
      "Num samples 2000\n",
      "train 0:00:30.585386 loss: 0.9276 accuracy: 0.5860\n",
      "Num samples 255\n",
      "val 0:00:04.387913 loss: 0.9722 accuracy: 0.5725\n",
      "Elapsed time: 0:00:34.974376\n",
      "\n",
      "Epoch 37/39\n",
      "----------\n",
      "Num samples 2000\n",
      "train 0:00:30.169893 loss: 0.8948 accuracy: 0.5960\n",
      "Num samples 255\n",
      "val 0:00:04.449634 loss: 0.9998 accuracy: 0.5333\n",
      "Elapsed time: 0:00:34.620339\n",
      "\n",
      "Epoch 38/39\n",
      "----------\n",
      "Num samples 2000\n",
      "train 0:00:30.780105 loss: 0.9063 accuracy: 0.6045\n",
      "Num samples 255\n",
      "val 0:00:04.527097 loss: 1.0532 accuracy: 0.5373\n",
      "Elapsed time: 0:00:35.308101\n",
      "\n",
      "Epoch 39/39\n",
      "----------\n",
      "Num samples 2000\n",
      "train 0:00:30.325712 loss: 0.9428 accuracy: 0.5775\n",
      "Num samples 255\n",
      "val 0:00:04.355904 loss: 1.0542 accuracy: 0.5725\n",
      "Elapsed time: 0:00:34.682679\n",
      "\n",
      "Training complete in 23m 4s\n",
      "Best acc: 0.627451\n",
      "\n",
      "Metrics\n",
      "----------\n"
     ]
    },
    {
     "data": {
      "image/png": "[encoded data removed]",
      "text/plain": [
       "<Figure size 432x288 with 1 Axes>"
      ]
     },
     "metadata": {
      "needs_background": "light"
     },
     "output_type": "display_data"
    },
    {
     "data": {
      "image/png": "[encoded data removed]",
      "text/plain": [
       "<Figure size 432x288 with 1 Axes>"
      ]
     },
     "metadata": {
      "needs_background": "light"
     },
     "output_type": "display_data"
    },
    {
     "name": "stdout",
     "output_type": "stream",
     "text": [
      "Training Confusion Matrix\n",
      "------------------------------\n"
     ]
    },
    {
     "data": {
      "text/html": [
       "<div>\n",
       "<style scoped>\n",
       "    .dataframe tbody tr th:only-of-type {\n",
       "        vertical-align: middle;\n",
       "    }\n",
       "\n",
       "    .dataframe tbody tr th {\n",
       "        vertical-align: top;\n",
       "    }\n",
       "\n",
       "    .dataframe thead th {\n",
       "        text-align: right;\n",
       "    }\n",
       "</style>\n",
       "<table border=\"1\" class=\"dataframe\">\n",
       "  <thead>\n",
       "    <tr style=\"text-align: right;\">\n",
       "      <th></th>\n",
       "      <th>0</th>\n",
       "      <th>1</th>\n",
       "      <th>2</th>\n",
       "      <th>3</th>\n",
       "      <th>4</th>\n",
       "    </tr>\n",
       "  </thead>\n",
       "  <tbody>\n",
       "    <tr>\n",
       "      <th>0</th>\n",
       "      <td>398</td>\n",
       "      <td>2</td>\n",
       "      <td>0</td>\n",
       "      <td>0</td>\n",
       "      <td>0</td>\n",
       "    </tr>\n",
       "    <tr>\n",
       "      <th>1</th>\n",
       "      <td>252</td>\n",
       "      <td>130</td>\n",
       "      <td>15</td>\n",
       "      <td>3</td>\n",
       "      <td>0</td>\n",
       "    </tr>\n",
       "    <tr>\n",
       "      <th>2</th>\n",
       "      <td>110</td>\n",
       "      <td>67</td>\n",
       "      <td>175</td>\n",
       "      <td>33</td>\n",
       "      <td>15</td>\n",
       "    </tr>\n",
       "    <tr>\n",
       "      <th>3</th>\n",
       "      <td>19</td>\n",
       "      <td>30</td>\n",
       "      <td>86</td>\n",
       "      <td>190</td>\n",
       "      <td>75</td>\n",
       "    </tr>\n",
       "    <tr>\n",
       "      <th>4</th>\n",
       "      <td>0</td>\n",
       "      <td>0</td>\n",
       "      <td>0</td>\n",
       "      <td>13</td>\n",
       "      <td>387</td>\n",
       "    </tr>\n",
       "  </tbody>\n",
       "</table>\n",
       "</div>"
      ],
      "text/plain": [
       "     0    1    2    3    4\n",
       "0  398    2    0    0    0\n",
       "1  252  130   15    3    0\n",
       "2  110   67  175   33   15\n",
       "3   19   30   86  190   75\n",
       "4    0    0    0   13  387"
      ]
     },
     "metadata": {},
     "output_type": "display_data"
    },
    {
     "name": "stdout",
     "output_type": "stream",
     "text": [
      "Validation Confusion Matrix\n",
      "------------------------------\n"
     ]
    },
    {
     "data": {
      "text/html": [
       "<div>\n",
       "<style scoped>\n",
       "    .dataframe tbody tr th:only-of-type {\n",
       "        vertical-align: middle;\n",
       "    }\n",
       "\n",
       "    .dataframe tbody tr th {\n",
       "        vertical-align: top;\n",
       "    }\n",
       "\n",
       "    .dataframe thead th {\n",
       "        text-align: right;\n",
       "    }\n",
       "</style>\n",
       "<table border=\"1\" class=\"dataframe\">\n",
       "  <thead>\n",
       "    <tr style=\"text-align: right;\">\n",
       "      <th></th>\n",
       "      <th>0</th>\n",
       "      <th>1</th>\n",
       "      <th>2</th>\n",
       "      <th>3</th>\n",
       "      <th>4</th>\n",
       "    </tr>\n",
       "  </thead>\n",
       "  <tbody>\n",
       "    <tr>\n",
       "      <th>0</th>\n",
       "      <td>98</td>\n",
       "      <td>0</td>\n",
       "      <td>0</td>\n",
       "      <td>0</td>\n",
       "      <td>0</td>\n",
       "    </tr>\n",
       "    <tr>\n",
       "      <th>1</th>\n",
       "      <td>51</td>\n",
       "      <td>15</td>\n",
       "      <td>0</td>\n",
       "      <td>0</td>\n",
       "      <td>0</td>\n",
       "    </tr>\n",
       "    <tr>\n",
       "      <th>2</th>\n",
       "      <td>15</td>\n",
       "      <td>7</td>\n",
       "      <td>3</td>\n",
       "      <td>0</td>\n",
       "      <td>1</td>\n",
       "    </tr>\n",
       "    <tr>\n",
       "      <th>3</th>\n",
       "      <td>8</td>\n",
       "      <td>4</td>\n",
       "      <td>2</td>\n",
       "      <td>7</td>\n",
       "      <td>5</td>\n",
       "    </tr>\n",
       "    <tr>\n",
       "      <th>4</th>\n",
       "      <td>0</td>\n",
       "      <td>0</td>\n",
       "      <td>0</td>\n",
       "      <td>2</td>\n",
       "      <td>37</td>\n",
       "    </tr>\n",
       "  </tbody>\n",
       "</table>\n",
       "</div>"
      ],
      "text/plain": [
       "    0   1  2  3   4\n",
       "0  98   0  0  0   0\n",
       "1  51  15  0  0   0\n",
       "2  15   7  3  0   1\n",
       "3   8   4  2  7   5\n",
       "4   0   0  0  2  37"
      ]
     },
     "metadata": {},
     "output_type": "display_data"
    },
    {
     "name": "stdout",
     "output_type": "stream",
     "text": [
      "predictions file: predict_c2_whole_h7_b2Xsg5dVwP7rRo2LiyTA9k.csv\n",
      "Finished generating predictions to predict_c2_whole_h7_b2Xsg5dVwP7rRo2LiyTA9k.csv\n",
      "Test distribution:\n",
      "tensor([112,  29,   0,   3,  56], device='cuda:0')\n"
     ]
    },
    {
     "data": {
      "text/plain": [
       "tensor([0, 4, 4, 0, 1, 4, 1, 0, 0, 0, 3, 4, 4, 1, 0, 1, 0, 1, 0, 0, 0, 0, 0, 0,\n",
       "        0, 0, 4, 0, 0, 0, 4, 0, 4, 1, 1, 4, 4, 0, 0, 0, 1, 4, 1, 0, 0, 4, 1, 1,\n",
       "        0, 0, 0, 0, 0, 4, 4, 4, 0, 4, 1, 0, 0, 0, 0, 1, 0, 1, 3, 0, 0, 4, 4, 0,\n",
       "        0, 4, 0, 4, 4, 1, 1, 0, 0, 0, 4, 0, 0, 4, 0, 0, 0, 4, 4, 0, 1, 0, 0, 0,\n",
       "        0, 4, 0, 0, 4, 4, 4, 0, 0, 4, 4, 0, 0, 0, 1, 0, 4, 0, 4, 4, 0, 0, 0, 4,\n",
       "        0, 0, 0, 4, 3, 0, 4, 4, 1, 1, 0, 4, 0, 1, 0, 0, 0, 0, 0, 1, 1, 4, 0, 0,\n",
       "        0, 0, 0, 0, 4, 4, 0, 0, 0, 0, 4, 0, 0, 0, 0, 0, 1, 0, 0, 0, 0, 0, 4, 4,\n",
       "        4, 0, 4, 4, 0, 0, 4, 0, 1, 4, 4, 4, 1, 0, 4, 0, 0, 0, 0, 1, 1, 0, 1, 0,\n",
       "        4, 0, 4, 0, 4, 0, 0, 0], device='cuda:0')"
      ]
     },
     "execution_count": 37,
     "metadata": {},
     "output_type": "execute_result"
    }
   ],
   "source": [
    "model = get_model(1024, 128, 0.5, batch_normalization=True).to(device)\n",
    "run_trial(\"h7\", model)"
   ]
  },
  {
   "cell_type": "markdown",
   "metadata": {
    "colab_type": "text",
    "id": "nbvi5JEf7cN3"
   },
   "source": [
    "#### Summary: Best hyperparameters"
   ]
  },
  {
   "cell_type": "code",
   "execution_count": 0,
   "metadata": {
    "colab": {},
    "colab_type": "code",
    "id": "l-EQAGsU7cN3",
    "pycharm": {
     "is_executing": false
    }
   },
   "outputs": [],
   "source": [
    "optimal_n1 = 1024\n",
    "optimal_n2 = 128\n",
    "optimal_d = 0.1\n"
   ]
  },
  {
   "cell_type": "markdown",
   "metadata": {
    "colab_type": "text",
    "id": "Y21C4M2D7cN4"
   },
   "source": [
    "## Train with all C2 data and optimal hyperparameters"
   ]
  },
  {
   "cell_type": "code",
   "execution_count": 0,
   "metadata": {
    "colab": {},
    "colab_type": "code",
    "id": "cqodK5jX7cN5",
    "pycharm": {
     "is_executing": false
    },
    "scrolled": false
   },
   "outputs": [],
   "source": [
    "model = get_model(optimal_n1, optimal_n2, optimal_d).to(device)\n",
    "# model.load_state_dict(torch.load('cnn_pytorch_c2.pt'))\n",
    "y_hat_test = train_and_test(model, group_3(), num_epochs=40)\n",
    "predictions_file = \"predict_c2_whole_{}.csv\".format(shortuuid.uuid())\n",
    "print('predictions file:', predictions_file)\n",
    "one_hot_encode_predictions(y_hat_test, predictions_file)"
   ]
  },
  {
   "cell_type": "code",
   "execution_count": 0,
   "metadata": {
    "colab": {},
    "colab_type": "code",
    "id": "__y-plJ97cN6",
    "pycharm": {
     "is_executing": false,
     "name": "#%%\n"
    }
   },
   "outputs": [],
   "source": [
    "torch.set_printoptions(profile=\"full\")\n",
    "print(y_hat_test)\n",
    "torch.set_printoptions(profile=\"default\")"
   ]
  },
  {
   "cell_type": "markdown",
   "metadata": {
    "colab_type": "text",
    "id": "-GosrUj67cN8"
   },
   "source": [
    "### Save model"
   ]
  },
  {
   "cell_type": "code",
   "execution_count": 0,
   "metadata": {
    "colab": {},
    "colab_type": "code",
    "id": "Hfi60sat7cN8"
   },
   "outputs": [],
   "source": [
    "torch.save(model.state_dict(), 'cnn_pytorch_c2_whole.pt')"
   ]
  }
 ],
 "metadata": {
  "accelerator": "GPU",
  "colab": {
   "collapsed_sections": [],
   "name": "c2_whole_image.ipynb",
   "provenance": [],
   "toc_visible": true
  },
  "kernelspec": {
   "display_name": "Python 3",
   "language": "python",
   "name": "python3"
  },
  "language_info": {
   "codemirror_mode": {
    "name": "ipython",
    "version": 3
   },
   "file_extension": ".py",
   "mimetype": "text/x-python",
   "name": "python",
   "nbconvert_exporter": "python",
   "pygments_lexer": "ipython3",
   "version": "3.7.7"
  },
  "pycharm": {
   "stem_cell": {
    "cell_type": "raw",
    "metadata": {
     "collapsed": false
    },
    "source": []
   }
  }
 },
 "nbformat": 4,
 "nbformat_minor": 1
}
